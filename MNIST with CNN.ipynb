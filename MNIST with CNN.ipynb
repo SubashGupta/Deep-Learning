{
 "cells": [
  {
   "cell_type": "markdown",
   "metadata": {},
   "source": [
    "### Importing Required Libraries"
   ]
  },
  {
   "cell_type": "code",
   "execution_count": 25,
   "metadata": {},
   "outputs": [],
   "source": [
    "import pandas as pd\n",
    "import numpy as np\n",
    "import matplotlib.pyplot as plt\n",
    "import plotly.express as px\n",
    "%matplotlib inline"
   ]
  },
  {
   "cell_type": "markdown",
   "metadata": {},
   "source": [
    "### Importing mnist dataset"
   ]
  },
  {
   "cell_type": "code",
   "execution_count": 26,
   "metadata": {},
   "outputs": [],
   "source": [
    "from tensorflow.keras.datasets import mnist"
   ]
  },
  {
   "cell_type": "markdown",
   "metadata": {},
   "source": [
    "### Loading Data into Train and Test set"
   ]
  },
  {
   "cell_type": "code",
   "execution_count": 27,
   "metadata": {},
   "outputs": [],
   "source": [
    "(X_train,y_train),(X_test,y_test) = mnist.load_data()"
   ]
  },
  {
   "cell_type": "code",
   "execution_count": 28,
   "metadata": {},
   "outputs": [
    {
     "data": {
      "text/plain": [
       "(60000, 28, 28)"
      ]
     },
     "execution_count": 28,
     "metadata": {},
     "output_type": "execute_result"
    }
   ],
   "source": [
    "X_train.shape"
   ]
  },
  {
   "cell_type": "markdown",
   "metadata": {},
   "source": [
    "### Plotting Images"
   ]
  },
  {
   "cell_type": "code",
   "execution_count": 29,
   "metadata": {},
   "outputs": [
    {
     "data": {
      "image/png": "[encoded data removed]",
      "text/plain": [
       "<Figure size 1080x360 with 10 Axes>"
      ]
     },
     "metadata": {
      "needs_background": "light"
     },
     "output_type": "display_data"
    }
   ],
   "source": [
    "fig,ax = plt.subplots(2,5,figsize=(15,5))\n",
    "ax[0][0].imshow(X_train[0])\n",
    "ax[0][1].imshow(X_train[1])\n",
    "ax[0][2].imshow(X_train[2])\n",
    "ax[1][0].imshow(X_train[3])\n",
    "ax[1][1].imshow(X_train[4])\n",
    "ax[1][2].imshow(X_train[5])\n",
    "ax[0][3].imshow(X_train[6])\n",
    "ax[1][3].imshow(X_train[7])\n",
    "ax[1][4].imshow(X_train[9])\n",
    "ax[0][4].imshow(X_train[10])\n",
    "plt.show()"
   ]
  },
  {
   "cell_type": "code",
   "execution_count": 30,
   "metadata": {},
   "outputs": [
    {
     "data": {
      "text/plain": [
       "array([5, 0, 4, ..., 5, 6, 8], dtype=uint8)"
      ]
     },
     "execution_count": 30,
     "metadata": {},
     "output_type": "execute_result"
    }
   ],
   "source": [
    "y_train"
   ]
  },
  {
   "cell_type": "code",
   "execution_count": 31,
   "metadata": {},
   "outputs": [
    {
     "data": {
      "text/plain": [
       "(60000,)"
      ]
     },
     "execution_count": 31,
     "metadata": {},
     "output_type": "execute_result"
    }
   ],
   "source": [
    "y_train.shape"
   ]
  },
  {
   "cell_type": "markdown",
   "metadata": {},
   "source": [
    "### Data Preprocessing"
   ]
  },
  {
   "cell_type": "code",
   "execution_count": 32,
   "metadata": {},
   "outputs": [],
   "source": [
    "from tensorflow.keras.utils import to_categorical"
   ]
  },
  {
   "cell_type": "code",
   "execution_count": 33,
   "metadata": {},
   "outputs": [],
   "source": [
    "y_category_train = to_categorical(y_train,10)"
   ]
  },
  {
   "cell_type": "code",
   "execution_count": 34,
   "metadata": {},
   "outputs": [
    {
     "data": {
      "text/plain": [
       "(60000, 10)"
      ]
     },
     "execution_count": 34,
     "metadata": {},
     "output_type": "execute_result"
    }
   ],
   "source": [
    "y_category_train.shape"
   ]
  },
  {
   "cell_type": "code",
   "execution_count": 35,
   "metadata": {},
   "outputs": [
    {
     "data": {
      "text/plain": [
       "array([0., 0., 0., 0., 0., 1., 0., 0., 0., 0.], dtype=float32)"
      ]
     },
     "execution_count": 35,
     "metadata": {},
     "output_type": "execute_result"
    }
   ],
   "source": [
    "y_category_train[0]"
   ]
  },
  {
   "cell_type": "code",
   "execution_count": 36,
   "metadata": {},
   "outputs": [],
   "source": [
    "y_category_test = to_categorical(y_test,num_classes=10)"
   ]
  },
  {
   "cell_type": "code",
   "execution_count": 37,
   "metadata": {},
   "outputs": [
    {
     "data": {
      "text/plain": [
       "(10000, 10)"
      ]
     },
     "execution_count": 37,
     "metadata": {},
     "output_type": "execute_result"
    }
   ],
   "source": [
    "y_category_test.shape"
   ]
  },
  {
   "cell_type": "code",
   "execution_count": 38,
   "metadata": {},
   "outputs": [
    {
     "data": {
      "text/plain": [
       "array([0., 0., 0., 0., 0., 0., 0., 1., 0., 0.], dtype=float32)"
      ]
     },
     "execution_count": 38,
     "metadata": {},
     "output_type": "execute_result"
    }
   ],
   "source": [
    "y_category_test[0]"
   ]
  },
  {
   "cell_type": "code",
   "execution_count": 39,
   "metadata": {},
   "outputs": [],
   "source": [
    "X_train = X_train/255"
   ]
  },
  {
   "cell_type": "code",
   "execution_count": 40,
   "metadata": {},
   "outputs": [],
   "source": [
    "X_test = X_test/255"
   ]
  },
  {
   "cell_type": "code",
   "execution_count": 41,
   "metadata": {},
   "outputs": [],
   "source": [
    "X_train = X_train.reshape(60000,28,28,1)"
   ]
  },
  {
   "cell_type": "code",
   "execution_count": 42,
   "metadata": {},
   "outputs": [],
   "source": [
    "X_test = X_test.reshape(10000,28,28,1)"
   ]
  },
  {
   "cell_type": "markdown",
   "metadata": {},
   "source": [
    "### Model Building"
   ]
  },
  {
   "cell_type": "code",
   "execution_count": 43,
   "metadata": {},
   "outputs": [],
   "source": [
    "from tensorflow.keras.models import Sequential"
   ]
  },
  {
   "cell_type": "code",
   "execution_count": 44,
   "metadata": {},
   "outputs": [],
   "source": [
    "from tensorflow.keras.layers import Dense,Conv2D,MaxPool2D,Flatten"
   ]
  },
  {
   "cell_type": "code",
   "execution_count": 45,
   "metadata": {},
   "outputs": [],
   "source": [
    "model = Sequential()\n",
    "\n",
    "model.add(Conv2D(filters=32,kernel_size=(4,4),input_shape=(28,28,1),activation='relu'))\n",
    "\n",
    "model.add(MaxPool2D(pool_size=(2,2)))\n",
    "\n",
    "model.add(Flatten())\n",
    "\n",
    "model.add(Dense(128,activation='relu'))\n",
    "\n",
    "model.add(Dense(10,activation='softmax'))\n",
    "\n",
    "model.compile(loss='categorical_crossentropy',optimizer='adam',metrics=['accuracy'])"
   ]
  },
  {
   "cell_type": "code",
   "execution_count": 46,
   "metadata": {},
   "outputs": [],
   "source": [
    "from tensorflow.keras.callbacks import EarlyStopping"
   ]
  },
  {
   "cell_type": "code",
   "execution_count": 47,
   "metadata": {},
   "outputs": [],
   "source": [
    "early_stop = EarlyStopping(monitor='val_loss',patience=1)"
   ]
  },
  {
   "cell_type": "markdown",
   "metadata": {},
   "source": [
    "### Model Training"
   ]
  },
  {
   "cell_type": "code",
   "execution_count": 48,
   "metadata": {},
   "outputs": [
    {
     "name": "stdout",
     "output_type": "stream",
     "text": [
      "Train on 60000 samples, validate on 10000 samples\n",
      "Epoch 1/10\n",
      "60000/60000 [==============================] - 52s 861us/sample - loss: 0.1347 - acc: 0.9595 - val_loss: 0.0485 - val_acc: 0.9835\n",
      "Epoch 2/10\n",
      "60000/60000 [==============================] - 49s 818us/sample - loss: 0.0448 - acc: 0.9859 - val_loss: 0.0442 - val_acc: 0.9856\n",
      "Epoch 3/10\n",
      "60000/60000 [==============================] - 52s 861us/sample - loss: 0.0288 - acc: 0.9910 - val_loss: 0.0419 - val_acc: 0.9877\n",
      "Epoch 4/10\n",
      "60000/60000 [==============================] - 52s 866us/sample - loss: 0.0193 - acc: 0.9937 - val_loss: 0.0381 - val_acc: 0.9877\n",
      "Epoch 5/10\n",
      "60000/60000 [==============================] - 52s 862us/sample - loss: 0.0144 - acc: 0.9951 - val_loss: 0.0422 - val_acc: 0.9870\n"
     ]
    },
    {
     "data": {
      "text/plain": [
       "<tensorflow.python.keras.callbacks.History at 0x2839d61cf48>"
      ]
     },
     "execution_count": 48,
     "metadata": {},
     "output_type": "execute_result"
    }
   ],
   "source": [
    "model.fit(X_train,y_category_train,epochs=10,validation_data=(X_test,y_category_test),callbacks=[early_stop])"
   ]
  },
  {
   "cell_type": "code",
   "execution_count": 49,
   "metadata": {},
   "outputs": [],
   "source": [
    "metrics = pd.DataFrame(model.history.history)"
   ]
  },
  {
   "cell_type": "code",
   "execution_count": 50,
   "metadata": {},
   "outputs": [
    {
     "data": {
      "text/html": [
       "<div>\n",
       "<style scoped>\n",
       "    .dataframe tbody tr th:only-of-type {\n",
       "        vertical-align: middle;\n",
       "    }\n",
       "\n",
       "    .dataframe tbody tr th {\n",
       "        vertical-align: top;\n",
       "    }\n",
       "\n",
       "    .dataframe thead th {\n",
       "        text-align: right;\n",
       "    }\n",
       "</style>\n",
       "<table border=\"1\" class=\"dataframe\">\n",
       "  <thead>\n",
       "    <tr style=\"text-align: right;\">\n",
       "      <th></th>\n",
       "      <th>loss</th>\n",
       "      <th>acc</th>\n",
       "      <th>val_loss</th>\n",
       "      <th>val_acc</th>\n",
       "    </tr>\n",
       "  </thead>\n",
       "  <tbody>\n",
       "    <tr>\n",
       "      <th>0</th>\n",
       "      <td>0.134720</td>\n",
       "      <td>0.959483</td>\n",
       "      <td>0.048457</td>\n",
       "      <td>0.9835</td>\n",
       "    </tr>\n",
       "    <tr>\n",
       "      <th>1</th>\n",
       "      <td>0.044832</td>\n",
       "      <td>0.985917</td>\n",
       "      <td>0.044186</td>\n",
       "      <td>0.9856</td>\n",
       "    </tr>\n",
       "    <tr>\n",
       "      <th>2</th>\n",
       "      <td>0.028809</td>\n",
       "      <td>0.991017</td>\n",
       "      <td>0.041918</td>\n",
       "      <td>0.9877</td>\n",
       "    </tr>\n",
       "    <tr>\n",
       "      <th>3</th>\n",
       "      <td>0.019322</td>\n",
       "      <td>0.993700</td>\n",
       "      <td>0.038052</td>\n",
       "      <td>0.9877</td>\n",
       "    </tr>\n",
       "    <tr>\n",
       "      <th>4</th>\n",
       "      <td>0.014401</td>\n",
       "      <td>0.995067</td>\n",
       "      <td>0.042168</td>\n",
       "      <td>0.9870</td>\n",
       "    </tr>\n",
       "  </tbody>\n",
       "</table>\n",
       "</div>"
      ],
      "text/plain": [
       "       loss       acc  val_loss  val_acc\n",
       "0  0.134720  0.959483  0.048457   0.9835\n",
       "1  0.044832  0.985917  0.044186   0.9856\n",
       "2  0.028809  0.991017  0.041918   0.9877\n",
       "3  0.019322  0.993700  0.038052   0.9877\n",
       "4  0.014401  0.995067  0.042168   0.9870"
      ]
     },
     "execution_count": 50,
     "metadata": {},
     "output_type": "execute_result"
    }
   ],
   "source": [
    "metrics"
   ]
  },
  {
   "cell_type": "markdown",
   "metadata": {},
   "source": [
    "### Plotting Model Traning and Validation Loss"
   ]
  },
  {
   "cell_type": "code",
   "execution_count": 52,
   "metadata": {},
   "outputs": [
    {
     "data": {
      "image/svg+xml": [
       "<svg class=\"main-svg\" xmlns=\"http://www.w3.org/2000/svg\" xmlns:xlink=\"http://www.w3.org/1999/xlink\" width=\"700\" height=\"450\" style=\"\" viewBox=\"0 0 700 450\"><rect x=\"0\" y=\"0\" width=\"700\" height=\"450\" style=\"fill: rgb(255, 255, 255); fill-opacity: 1;\"/><defs id=\"defs-3a0500\"><g class=\"clips\"><clipPath id=\"clip3a0500xyplot\" class=\"plotclip\"><rect width=\"459\" height=\"270\"/></clipPath><clipPath class=\"axesclip\" id=\"clip3a0500x\"><rect x=\"80\" y=\"0\" width=\"459\" height=\"450\"/></clipPath><clipPath class=\"axesclip\" id=\"clip3a0500y\"><rect x=\"0\" y=\"100\" width=\"700\" height=\"270\"/></clipPath><clipPath class=\"axesclip\" id=\"clip3a0500xy\"><rect x=\"80\" y=\"100\" width=\"459\" height=\"270\"/></clipPath></g><g class=\"gradients\"/></defs><g class=\"bglayer\"><rect class=\"bg\" x=\"80\" y=\"100\" width=\"459\" height=\"270\" style=\"fill: rgb(229, 236, 246); fill-opacity: 1; stroke-width: 0;\"/></g><g class=\"layer-below\"><g class=\"imagelayer\"/><g class=\"shapelayer\"/></g><g class=\"cartesianlayer\"><g class=\"subplot xy\"><g class=\"layer-subplot\"><g class=\"shapelayer\"/><g class=\"imagelayer\"/></g><g class=\"gridlayer\"><g class=\"x\"><path class=\"xgrid crisp\" transform=\"translate(194.75,0)\" d=\"M0,100v270\" style=\"stroke: rgb(255, 255, 255); stroke-opacity: 1; stroke-width: 1px;\"/><path class=\"xgrid crisp\" transform=\"translate(309.5,0)\" d=\"M0,100v270\" style=\"stroke: rgb(255, 255, 255); stroke-opacity: 1; stroke-width: 1px;\"/><path class=\"xgrid crisp\" transform=\"translate(424.25,0)\" d=\"M0,100v270\" style=\"stroke: rgb(255, 255, 255); stroke-opacity: 1; stroke-width: 1px;\"/></g><g class=\"y\"><path class=\"ygrid crisp\" transform=\"translate(0,345.19)\" d=\"M80,0h459\" style=\"stroke: rgb(255, 255, 255); stroke-opacity: 1; stroke-width: 1px;\"/><path class=\"ygrid crisp\" transform=\"translate(0,304.8)\" d=\"M80,0h459\" style=\"stroke: rgb(255, 255, 255); stroke-opacity: 1; stroke-width: 1px;\"/><path class=\"ygrid crisp\" transform=\"translate(0,264.40999999999997)\" d=\"M80,0h459\" style=\"stroke: rgb(255, 255, 255); stroke-opacity: 1; stroke-width: 1px;\"/><path class=\"ygrid crisp\" transform=\"translate(0,224.01)\" d=\"M80,0h459\" style=\"stroke: rgb(255, 255, 255); stroke-opacity: 1; stroke-width: 1px;\"/><path class=\"ygrid crisp\" transform=\"translate(0,183.62)\" d=\"M80,0h459\" style=\"stroke: rgb(255, 255, 255); stroke-opacity: 1; stroke-width: 1px;\"/><path class=\"ygrid crisp\" transform=\"translate(0,143.23)\" d=\"M80,0h459\" style=\"stroke: rgb(255, 255, 255); stroke-opacity: 1; stroke-width: 1px;\"/><path class=\"ygrid crisp\" transform=\"translate(0,102.84)\" d=\"M80,0h459\" style=\"stroke: rgb(255, 255, 255); stroke-opacity: 1; stroke-width: 1px;\"/></g></g><g class=\"zerolinelayer\"/><path class=\"xlines-below\"/><path class=\"ylines-below\"/><g class=\"overlines-below\"/><g class=\"xaxislayer-below\"/><g class=\"yaxislayer-below\"/><g class=\"overaxes-below\"/><g class=\"plot\" transform=\"translate(80, 100)\" clip-path=\"url('#clip3a0500xyplot')\"><g class=\"scatterlayer mlayer\"><g class=\"trace scatter trace249c5c\" style=\"stroke-miterlimit: 2; opacity: 1;\"><g class=\"fills\"/><g class=\"errorbars\"/><g class=\"lines\"><path class=\"js-line\" d=\"M0,13.5L114.75,195.04L229.5,227.4L344.25,246.56L459,256.5\" style=\"vector-effect: non-scaling-stroke; fill: none; stroke: rgb(99, 110, 250); stroke-opacity: 1; stroke-width: 2px; opacity: 1;\"/></g><g class=\"points\"/><g class=\"text\"/></g><g class=\"trace scatter trace0faa0e\" style=\"stroke-miterlimit: 2; opacity: 1;\"><g class=\"fills\"/><g class=\"errorbars\"/><g class=\"lines\"><path class=\"js-line\" d=\"M0,187.72L114.75,196.35L229.5,200.93L344.25,208.73L459,200.42\" style=\"vector-effect: non-scaling-stroke; fill: none; stroke: rgb(239, 85, 59); stroke-opacity: 1; stroke-width: 2px; opacity: 1;\"/></g><g class=\"points\"/><g class=\"text\"/></g></g></g><g class=\"overplot\"/><path class=\"xlines-above crisp\" style=\"fill: none;\" d=\"M0,0\"/><path class=\"ylines-above crisp\" style=\"fill: none;\" d=\"M0,0\"/><g class=\"overlines-above\"/><g class=\"xaxislayer-above\"><g class=\"xtick\"><text text-anchor=\"middle\" x=\"0\" y=\"383\" transform=\"translate(80,0)\" style=\"font-family: 'Open Sans', verdana, arial, sans-serif; font-size: 12px; fill: rgb(42, 63, 95); fill-opacity: 1; white-space: pre;\">1</text></g><g class=\"xtick\"><text text-anchor=\"middle\" x=\"0\" y=\"383\" transform=\"translate(194.75,0)\" style=\"font-family: 'Open Sans', verdana, arial, sans-serif; font-size: 12px; fill: rgb(42, 63, 95); fill-opacity: 1; white-space: pre;\">2</text></g><g class=\"xtick\"><text text-anchor=\"middle\" x=\"0\" y=\"383\" transform=\"translate(309.5,0)\" style=\"font-family: 'Open Sans', verdana, arial, sans-serif; font-size: 12px; fill: rgb(42, 63, 95); fill-opacity: 1; white-space: pre;\">3</text></g><g class=\"xtick\"><text text-anchor=\"middle\" x=\"0\" y=\"383\" transform=\"translate(424.25,0)\" style=\"font-family: 'Open Sans', verdana, arial, sans-serif; font-size: 12px; fill: rgb(42, 63, 95); fill-opacity: 1; white-space: pre;\">4</text></g><g class=\"xtick\"><text text-anchor=\"middle\" x=\"0\" y=\"383\" transform=\"translate(539,0)\" style=\"font-family: 'Open Sans', verdana, arial, sans-serif; font-size: 12px; fill: rgb(42, 63, 95); fill-opacity: 1; white-space: pre;\">5</text></g></g><g class=\"yaxislayer-above\"><g class=\"ytick\"><text text-anchor=\"end\" x=\"79\" y=\"4.199999999999999\" transform=\"translate(0,345.19)\" style=\"font-family: 'Open Sans', verdana, arial, sans-serif; font-size: 12px; fill: rgb(42, 63, 95); fill-opacity: 1; white-space: pre;\">0.02</text></g><g class=\"ytick\"><text text-anchor=\"end\" x=\"79\" y=\"4.199999999999999\" transform=\"translate(0,304.8)\" style=\"font-family: 'Open Sans', verdana, arial, sans-serif; font-size: 12px; fill: rgb(42, 63, 95); fill-opacity: 1; white-space: pre;\">0.04</text></g><g class=\"ytick\"><text text-anchor=\"end\" x=\"79\" y=\"4.199999999999999\" transform=\"translate(0,264.40999999999997)\" style=\"font-family: 'Open Sans', verdana, arial, sans-serif; font-size: 12px; fill: rgb(42, 63, 95); fill-opacity: 1; white-space: pre;\">0.06</text></g><g class=\"ytick\"><text text-anchor=\"end\" x=\"79\" y=\"4.199999999999999\" transform=\"translate(0,224.01)\" style=\"font-family: 'Open Sans', verdana, arial, sans-serif; font-size: 12px; fill: rgb(42, 63, 95); fill-opacity: 1; white-space: pre;\">0.08</text></g><g class=\"ytick\"><text text-anchor=\"end\" x=\"79\" y=\"4.199999999999999\" transform=\"translate(0,183.62)\" style=\"font-family: 'Open Sans', verdana, arial, sans-serif; font-size: 12px; fill: rgb(42, 63, 95); fill-opacity: 1; white-space: pre;\">0.1</text></g><g class=\"ytick\"><text text-anchor=\"end\" x=\"79\" y=\"4.199999999999999\" transform=\"translate(0,143.23)\" style=\"font-family: 'Open Sans', verdana, arial, sans-serif; font-size: 12px; fill: rgb(42, 63, 95); fill-opacity: 1; white-space: pre;\">0.12</text></g><g class=\"ytick\"><text text-anchor=\"end\" x=\"79\" y=\"4.199999999999999\" transform=\"translate(0,102.84)\" style=\"font-family: 'Open Sans', verdana, arial, sans-serif; font-size: 12px; fill: rgb(42, 63, 95); fill-opacity: 1; white-space: pre;\">0.14</text></g></g><g class=\"overaxes-above\"/></g></g><g class=\"polarlayer\"/><g class=\"ternarylayer\"/><g class=\"geolayer\"/><g class=\"funnelarealayer\"/><g class=\"pielayer\"/><g class=\"treemaplayer\"/><g class=\"sunburstlayer\"/><g class=\"glimages\"/><defs id=\"topdefs-3a0500\"><g class=\"clips\"/><clipPath id=\"legend3a0500\"><rect width=\"140\" height=\"48\" x=\"0\" y=\"0\"/></clipPath></defs><g class=\"layer-above\"><g class=\"imagelayer\"/><g class=\"shapelayer\"/></g><g class=\"infolayer\"><g class=\"legend\" pointer-events=\"all\" transform=\"translate(548.1800000000001, 100)\"><rect class=\"bg\" shape-rendering=\"crispEdges\" style=\"stroke: rgb(68, 68, 68); stroke-opacity: 1; fill: rgb(255, 255, 255); fill-opacity: 1; stroke-width: 0px;\" width=\"140\" height=\"48\" x=\"0\" y=\"0\"/><g class=\"scrollbox\" transform=\"translate(0, 0)\" clip-path=\"url('#legend3a0500')\"><g class=\"groups\"><g class=\"traces\" style=\"opacity: 1;\" transform=\"translate(0, 14.5)\"><text class=\"legendtext user-select-none\" text-anchor=\"start\" x=\"40\" y=\"4.680000000000001\" style=\"font-family: 'Open Sans', verdana, arial, sans-serif; font-size: 12px; fill: rgb(42, 63, 95); fill-opacity: 1; white-space: pre;\">Training_Loss</text><g class=\"layers\" style=\"opacity: 1;\"><g class=\"legendfill\"/><g class=\"legendlines\"><path class=\"js-line\" d=\"M5,0h30\" style=\"fill: none; stroke: rgb(99, 110, 250); stroke-opacity: 1; stroke-width: 2px;\"/></g><g class=\"legendsymbols\"><g class=\"legendpoints\"/></g></g><rect class=\"legendtoggle\" pointer-events=\"all\" x=\"0\" y=\"-9.5\" width=\"134.0625\" height=\"19\" style=\"cursor: pointer; fill: rgb(0, 0, 0); fill-opacity: 0;\"/></g><g class=\"traces\" style=\"opacity: 1;\" transform=\"translate(0, 33.5)\"><text class=\"legendtext user-select-none\" text-anchor=\"start\" x=\"40\" y=\"4.680000000000001\" style=\"font-family: 'Open Sans', verdana, arial, sans-serif; font-size: 12px; fill: rgb(42, 63, 95); fill-opacity: 1; white-space: pre;\">Validation_Loss</text><g class=\"layers\" style=\"opacity: 1;\"><g class=\"legendfill\"/><g class=\"legendlines\"><path class=\"js-line\" d=\"M5,0h30\" style=\"fill: none; stroke: rgb(239, 85, 59); stroke-opacity: 1; stroke-width: 2px;\"/></g><g class=\"legendsymbols\"><g class=\"legendpoints\"/></g></g><rect class=\"legendtoggle\" pointer-events=\"all\" x=\"0\" y=\"-9.5\" width=\"134.0625\" height=\"19\" style=\"cursor: pointer; fill: rgb(0, 0, 0); fill-opacity: 0;\"/></g></g></g><rect class=\"scrollbar\" rx=\"20\" ry=\"3\" width=\"0\" height=\"0\" style=\"fill: rgb(128, 139, 164); fill-opacity: 1;\" x=\"0\" y=\"0\"/></g><g class=\"g-gtitle\"/><g class=\"g-xtitle\"/><g class=\"g-ytitle\"/></g></svg>"
      ]
     },
     "metadata": {},
     "output_type": "display_data"
    }
   ],
   "source": [
    "import plotly.graph_objects as go\n",
    "fig = go.Figure()\n",
    "fig.add_trace(go.Scatter(x=[1,2,3,4,5,6], y=metrics['loss'],\n",
    "                    mode='lines',\n",
    "                    name='Training_Loss'))\n",
    "fig.add_trace(go.Scatter(x=[1,2,3,4,5,6], y=metrics['val_loss'],\n",
    "                    mode='lines',\n",
    "                    name='Validation_Loss'))\n",
    "fig.show(\"svg\")"
   ]
  },
  {
   "cell_type": "markdown",
   "metadata": {},
   "source": [
    "### Plotting Model Traning and Validation Accuracy"
   ]
  },
  {
   "cell_type": "code",
   "execution_count": 54,
   "metadata": {},
   "outputs": [
    {
     "data": {
      "image/svg+xml": [
       "<svg class=\"main-svg\" xmlns=\"http://www.w3.org/2000/svg\" xmlns:xlink=\"http://www.w3.org/1999/xlink\" width=\"700\" height=\"450\" style=\"\" viewBox=\"0 0 700 450\"><rect x=\"0\" y=\"0\" width=\"700\" height=\"450\" style=\"fill: rgb(255, 255, 255); fill-opacity: 1;\"/><defs id=\"defs-e457a3\"><g class=\"clips\"><clipPath id=\"clipe457a3xyplot\" class=\"plotclip\"><rect width=\"432\" height=\"270\"/></clipPath><clipPath class=\"axesclip\" id=\"clipe457a3x\"><rect x=\"80\" y=\"0\" width=\"432\" height=\"450\"/></clipPath><clipPath class=\"axesclip\" id=\"clipe457a3y\"><rect x=\"0\" y=\"100\" width=\"700\" height=\"270\"/></clipPath><clipPath class=\"axesclip\" id=\"clipe457a3xy\"><rect x=\"80\" y=\"100\" width=\"432\" height=\"270\"/></clipPath></g><g class=\"gradients\"/></defs><g class=\"bglayer\"><rect class=\"bg\" x=\"80\" y=\"100\" width=\"432\" height=\"270\" style=\"fill: rgb(229, 236, 246); fill-opacity: 1; stroke-width: 0;\"/></g><g class=\"layer-below\"><g class=\"imagelayer\"/><g class=\"shapelayer\"/></g><g class=\"cartesianlayer\"><g class=\"subplot xy\"><g class=\"layer-subplot\"><g class=\"shapelayer\"/><g class=\"imagelayer\"/></g><g class=\"gridlayer\"><g class=\"x\"><path class=\"xgrid crisp\" transform=\"translate(188,0)\" d=\"M0,100v270\" style=\"stroke: rgb(255, 255, 255); stroke-opacity: 1; stroke-width: 1px;\"/><path class=\"xgrid crisp\" transform=\"translate(296,0)\" d=\"M0,100v270\" style=\"stroke: rgb(255, 255, 255); stroke-opacity: 1; stroke-width: 1px;\"/><path class=\"xgrid crisp\" transform=\"translate(404,0)\" d=\"M0,100v270\" style=\"stroke: rgb(255, 255, 255); stroke-opacity: 1; stroke-width: 1px;\"/></g><g class=\"y\"><path class=\"ygrid crisp\" transform=\"translate(0,352.97)\" d=\"M80,0h432\" style=\"stroke: rgb(255, 255, 255); stroke-opacity: 1; stroke-width: 1px;\"/><path class=\"ygrid crisp\" transform=\"translate(0,284.68)\" d=\"M80,0h432\" style=\"stroke: rgb(255, 255, 255); stroke-opacity: 1; stroke-width: 1px;\"/><path class=\"ygrid crisp\" transform=\"translate(0,216.39)\" d=\"M80,0h432\" style=\"stroke: rgb(255, 255, 255); stroke-opacity: 1; stroke-width: 1px;\"/><path class=\"ygrid crisp\" transform=\"translate(0,148.1)\" d=\"M80,0h432\" style=\"stroke: rgb(255, 255, 255); stroke-opacity: 1; stroke-width: 1px;\"/></g></g><g class=\"zerolinelayer\"/><path class=\"xlines-below\"/><path class=\"ylines-below\"/><g class=\"overlines-below\"/><g class=\"xaxislayer-below\"/><g class=\"yaxislayer-below\"/><g class=\"overaxes-below\"/><g class=\"plot\" transform=\"translate(80, 100)\" clip-path=\"url('#clipe457a3xyplot')\"><g class=\"scatterlayer mlayer\"><g class=\"trace scatter tracededea9\" style=\"stroke-miterlimit: 2; opacity: 1;\"><g class=\"fills\"/><g class=\"errorbars\"/><g class=\"lines\"><path class=\"js-line\" d=\"M0,256.5L108,75.99L216,41.16L324,22.83L432,13.5\" style=\"vector-effect: non-scaling-stroke; fill: none; stroke: rgb(99, 110, 250); stroke-opacity: 1; stroke-width: 2px; opacity: 1;\"/></g><g class=\"points\"/><g class=\"text\"/></g><g class=\"trace scatter traced7974d\" style=\"stroke-miterlimit: 2; opacity: 1;\"><g class=\"fills\"/><g class=\"errorbars\"/><g class=\"lines\"><path class=\"js-line\" d=\"M0,92.49L216,63.81L324,63.81L432,68.59\" style=\"vector-effect: non-scaling-stroke; fill: none; stroke: rgb(239, 85, 59); stroke-opacity: 1; stroke-width: 2px; opacity: 1;\"/></g><g class=\"points\"/><g class=\"text\"/></g></g></g><g class=\"overplot\"/><path class=\"xlines-above crisp\" style=\"fill: none;\" d=\"M0,0\"/><path class=\"ylines-above crisp\" style=\"fill: none;\" d=\"M0,0\"/><g class=\"overlines-above\"/><g class=\"xaxislayer-above\"><g class=\"xtick\"><text text-anchor=\"middle\" x=\"0\" y=\"383\" transform=\"translate(80,0)\" style=\"font-family: 'Open Sans', verdana, arial, sans-serif; font-size: 12px; fill: rgb(42, 63, 95); fill-opacity: 1; white-space: pre;\">1</text></g><g class=\"xtick\"><text text-anchor=\"middle\" x=\"0\" y=\"383\" transform=\"translate(188,0)\" style=\"font-family: 'Open Sans', verdana, arial, sans-serif; font-size: 12px; fill: rgb(42, 63, 95); fill-opacity: 1; white-space: pre;\">2</text></g><g class=\"xtick\"><text text-anchor=\"middle\" x=\"0\" y=\"383\" transform=\"translate(296,0)\" style=\"font-family: 'Open Sans', verdana, arial, sans-serif; font-size: 12px; fill: rgb(42, 63, 95); fill-opacity: 1; white-space: pre;\">3</text></g><g class=\"xtick\"><text text-anchor=\"middle\" x=\"0\" y=\"383\" transform=\"translate(404,0)\" style=\"font-family: 'Open Sans', verdana, arial, sans-serif; font-size: 12px; fill: rgb(42, 63, 95); fill-opacity: 1; white-space: pre;\">4</text></g><g class=\"xtick\"><text text-anchor=\"middle\" x=\"0\" y=\"383\" transform=\"translate(512,0)\" style=\"font-family: 'Open Sans', verdana, arial, sans-serif; font-size: 12px; fill: rgb(42, 63, 95); fill-opacity: 1; white-space: pre;\">5</text></g></g><g class=\"yaxislayer-above\"><g class=\"ytick\"><text text-anchor=\"end\" x=\"79\" y=\"4.199999999999999\" transform=\"translate(0,352.97)\" style=\"font-family: 'Open Sans', verdana, arial, sans-serif; font-size: 12px; fill: rgb(42, 63, 95); fill-opacity: 1; white-space: pre;\">0.96</text></g><g class=\"ytick\"><text text-anchor=\"end\" x=\"79\" y=\"4.199999999999999\" transform=\"translate(0,284.68)\" style=\"font-family: 'Open Sans', verdana, arial, sans-serif; font-size: 12px; fill: rgb(42, 63, 95); fill-opacity: 1; white-space: pre;\">0.97</text></g><g class=\"ytick\"><text text-anchor=\"end\" x=\"79\" y=\"4.199999999999999\" transform=\"translate(0,216.39)\" style=\"font-family: 'Open Sans', verdana, arial, sans-serif; font-size: 12px; fill: rgb(42, 63, 95); fill-opacity: 1; white-space: pre;\">0.98</text></g><g class=\"ytick\"><text text-anchor=\"end\" x=\"79\" y=\"4.199999999999999\" transform=\"translate(0,148.1)\" style=\"font-family: 'Open Sans', verdana, arial, sans-serif; font-size: 12px; fill: rgb(42, 63, 95); fill-opacity: 1; white-space: pre;\">0.99</text></g></g><g class=\"overaxes-above\"/></g></g><g class=\"polarlayer\"/><g class=\"ternarylayer\"/><g class=\"geolayer\"/><g class=\"funnelarealayer\"/><g class=\"pielayer\"/><g class=\"treemaplayer\"/><g class=\"sunburstlayer\"/><g class=\"glimages\"/><defs id=\"topdefs-e457a3\"><g class=\"clips\"/><clipPath id=\"legende457a3\"><rect width=\"167\" height=\"48\" x=\"0\" y=\"0\"/></clipPath></defs><g class=\"layer-above\"><g class=\"imagelayer\"/><g class=\"shapelayer\"/></g><g class=\"infolayer\"><g class=\"legend\" pointer-events=\"all\" transform=\"translate(520.64, 100)\"><rect class=\"bg\" shape-rendering=\"crispEdges\" style=\"stroke: rgb(68, 68, 68); stroke-opacity: 1; fill: rgb(255, 255, 255); fill-opacity: 1; stroke-width: 0px;\" width=\"167\" height=\"48\" x=\"0\" y=\"0\"/><g class=\"scrollbox\" transform=\"translate(0, 0)\" clip-path=\"url('#legende457a3')\"><g class=\"groups\"><g class=\"traces\" style=\"opacity: 1;\" transform=\"translate(0, 14.5)\"><text class=\"legendtext user-select-none\" text-anchor=\"start\" x=\"40\" y=\"4.680000000000001\" style=\"font-family: 'Open Sans', verdana, arial, sans-serif; font-size: 12px; fill: rgb(42, 63, 95); fill-opacity: 1; white-space: pre;\">Training_Accuracy</text><g class=\"layers\" style=\"opacity: 1;\"><g class=\"legendfill\"/><g class=\"legendlines\"><path class=\"js-line\" d=\"M5,0h30\" style=\"fill: none; stroke: rgb(99, 110, 250); stroke-opacity: 1; stroke-width: 2px;\"/></g><g class=\"legendsymbols\"><g class=\"legendpoints\"/></g></g><rect class=\"legendtoggle\" pointer-events=\"all\" x=\"0\" y=\"-9.5\" width=\"161.3125\" height=\"19\" style=\"cursor: pointer; fill: rgb(0, 0, 0); fill-opacity: 0;\"/></g><g class=\"traces\" style=\"opacity: 1;\" transform=\"translate(0, 33.5)\"><text class=\"legendtext user-select-none\" text-anchor=\"start\" x=\"40\" y=\"4.680000000000001\" style=\"font-family: 'Open Sans', verdana, arial, sans-serif; font-size: 12px; fill: rgb(42, 63, 95); fill-opacity: 1; white-space: pre;\">Validation_Accuracy</text><g class=\"layers\" style=\"opacity: 1;\"><g class=\"legendfill\"/><g class=\"legendlines\"><path class=\"js-line\" d=\"M5,0h30\" style=\"fill: none; stroke: rgb(239, 85, 59); stroke-opacity: 1; stroke-width: 2px;\"/></g><g class=\"legendsymbols\"><g class=\"legendpoints\"/></g></g><rect class=\"legendtoggle\" pointer-events=\"all\" x=\"0\" y=\"-9.5\" width=\"161.3125\" height=\"19\" style=\"cursor: pointer; fill: rgb(0, 0, 0); fill-opacity: 0;\"/></g></g></g><rect class=\"scrollbar\" rx=\"20\" ry=\"3\" width=\"0\" height=\"0\" style=\"fill: rgb(128, 139, 164); fill-opacity: 1;\" x=\"0\" y=\"0\"/></g><g class=\"g-gtitle\"/><g class=\"g-xtitle\"/><g class=\"g-ytitle\"/></g></svg>"
      ]
     },
     "metadata": {},
     "output_type": "display_data"
    }
   ],
   "source": [
    "import plotly.graph_objects as go\n",
    "fig = go.Figure()\n",
    "fig.add_trace(go.Scatter(x=[1,2,3,4,5,6], y=metrics['acc'],\n",
    "                    mode='lines',\n",
    "                    name='Training_Accuracy'))\n",
    "fig.add_trace(go.Scatter(x=[1,2,3,4,5,6], y=metrics['val_acc'],\n",
    "                    mode='lines',\n",
    "                    name='Validation_Accuracy'))\n",
    "fig.show(\"svg\")"
   ]
  },
  {
   "cell_type": "code",
   "execution_count": 55,
   "metadata": {},
   "outputs": [
    {
     "data": {
      "text/plain": [
       "['loss', 'acc']"
      ]
     },
     "execution_count": 55,
     "metadata": {},
     "output_type": "execute_result"
    }
   ],
   "source": [
    "model.metrics_names"
   ]
  },
  {
   "cell_type": "code",
   "execution_count": 56,
   "metadata": {},
   "outputs": [
    {
     "data": {
      "text/plain": [
       "[0.04216828863129922, 0.987]"
      ]
     },
     "execution_count": 56,
     "metadata": {},
     "output_type": "execute_result"
    }
   ],
   "source": [
    "model.evaluate(X_test,y_category_test,verbose=0)"
   ]
  },
  {
   "cell_type": "code",
   "execution_count": 57,
   "metadata": {},
   "outputs": [],
   "source": [
    "from sklearn.metrics import classification_report,confusion_matrix"
   ]
  },
  {
   "cell_type": "code",
   "execution_count": 58,
   "metadata": {},
   "outputs": [],
   "source": [
    "predictions = model.predict_classes(X_test)"
   ]
  },
  {
   "cell_type": "code",
   "execution_count": 59,
   "metadata": {},
   "outputs": [
    {
     "data": {
      "text/plain": [
       "array([7, 2, 1, ..., 4, 5, 6], dtype=uint8)"
      ]
     },
     "execution_count": 59,
     "metadata": {},
     "output_type": "execute_result"
    }
   ],
   "source": [
    "y_test"
   ]
  },
  {
   "cell_type": "code",
   "execution_count": 60,
   "metadata": {},
   "outputs": [
    {
     "name": "stdout",
     "output_type": "stream",
     "text": [
      "              precision    recall  f1-score   support\n",
      "\n",
      "           0       0.99      0.99      0.99       980\n",
      "           1       0.99      0.99      0.99      1135\n",
      "           2       0.99      0.99      0.99      1032\n",
      "           3       0.99      0.98      0.99      1010\n",
      "           4       1.00      0.98      0.99       982\n",
      "           5       0.99      0.98      0.99       892\n",
      "           6       0.99      0.98      0.99       958\n",
      "           7       0.98      0.99      0.99      1028\n",
      "           8       0.98      0.99      0.98       974\n",
      "           9       0.97      0.99      0.98      1009\n",
      "\n",
      "    accuracy                           0.99     10000\n",
      "   macro avg       0.99      0.99      0.99     10000\n",
      "weighted avg       0.99      0.99      0.99     10000\n",
      "\n"
     ]
    }
   ],
   "source": [
    "print(classification_report(y_test,predictions))"
   ]
  },
  {
   "cell_type": "code",
   "execution_count": 61,
   "metadata": {},
   "outputs": [
    {
     "data": {
      "image/svg+xml": [
       "<svg class=\"main-svg\" xmlns=\"http://www.w3.org/2000/svg\" xmlns:xlink=\"http://www.w3.org/1999/xlink\" width=\"700\" height=\"450\" style=\"\" viewBox=\"0 0 700 450\"><rect x=\"0\" y=\"0\" width=\"700\" height=\"450\" style=\"fill: rgb(255, 255, 255); fill-opacity: 1;\"/><defs id=\"defs-846286\"><g class=\"clips\"><clipPath id=\"clip846286xyplot\" class=\"plotclip\"><rect width=\"540\" height=\"270\"/></clipPath><clipPath class=\"axesclip\" id=\"clip846286x\"><rect x=\"80\" y=\"0\" width=\"540\" height=\"450\"/></clipPath><clipPath class=\"axesclip\" id=\"clip846286y\"><rect x=\"0\" y=\"100\" width=\"700\" height=\"270\"/></clipPath><clipPath class=\"axesclip\" id=\"clip846286xy\"><rect x=\"80\" y=\"100\" width=\"540\" height=\"270\"/></clipPath></g><g class=\"gradients\"/></defs><g class=\"bglayer\"><rect class=\"bg\" x=\"80\" y=\"100\" width=\"540\" height=\"270\" style=\"fill: rgb(229, 236, 246); fill-opacity: 1; stroke-width: 0;\"/></g><g class=\"layer-below\"><g class=\"imagelayer\"/><g class=\"shapelayer\"/></g><g class=\"cartesianlayer\"><g class=\"subplot xy\"><g class=\"layer-subplot\"><g class=\"shapelayer\"/><g class=\"imagelayer\"/></g><g class=\"gridlayer\"><g class=\"x\"><path class=\"xgrid crisp\" transform=\"translate(161,0)\" d=\"M0,100v270\" style=\"stroke: rgb(0, 0, 0); stroke-opacity: 1; stroke-width: 1px;\"/><path class=\"xgrid crisp\" transform=\"translate(215,0)\" d=\"M0,100v270\" style=\"stroke: rgb(0, 0, 0); stroke-opacity: 1; stroke-width: 1px;\"/><path class=\"xgrid crisp\" transform=\"translate(269,0)\" d=\"M0,100v270\" style=\"stroke: rgb(0, 0, 0); stroke-opacity: 1; stroke-width: 1px;\"/><path class=\"xgrid crisp\" transform=\"translate(323,0)\" d=\"M0,100v270\" style=\"stroke: rgb(0, 0, 0); stroke-opacity: 1; stroke-width: 1px;\"/><path class=\"xgrid crisp\" transform=\"translate(377,0)\" d=\"M0,100v270\" style=\"stroke: rgb(0, 0, 0); stroke-opacity: 1; stroke-width: 1px;\"/><path class=\"xgrid crisp\" transform=\"translate(431,0)\" d=\"M0,100v270\" style=\"stroke: rgb(0, 0, 0); stroke-opacity: 1; stroke-width: 1px;\"/><path class=\"xgrid crisp\" transform=\"translate(485,0)\" d=\"M0,100v270\" style=\"stroke: rgb(0, 0, 0); stroke-opacity: 1; stroke-width: 1px;\"/><path class=\"xgrid crisp\" transform=\"translate(539,0)\" d=\"M0,100v270\" style=\"stroke: rgb(0, 0, 0); stroke-opacity: 1; stroke-width: 1px;\"/><path class=\"xgrid crisp\" transform=\"translate(593,0)\" d=\"M0,100v270\" style=\"stroke: rgb(0, 0, 0); stroke-opacity: 1; stroke-width: 1px;\"/></g><g class=\"y\"><path class=\"ygrid crisp\" transform=\"translate(0,329.5)\" d=\"M80,0h540\" style=\"stroke: rgb(255, 255, 255); stroke-opacity: 1; stroke-width: 1px;\"/><path class=\"ygrid crisp\" transform=\"translate(0,302.5)\" d=\"M80,0h540\" style=\"stroke: rgb(255, 255, 255); stroke-opacity: 1; stroke-width: 1px;\"/><path class=\"ygrid crisp\" transform=\"translate(0,275.5)\" d=\"M80,0h540\" style=\"stroke: rgb(255, 255, 255); stroke-opacity: 1; stroke-width: 1px;\"/><path class=\"ygrid crisp\" transform=\"translate(0,248.5)\" d=\"M80,0h540\" style=\"stroke: rgb(255, 255, 255); stroke-opacity: 1; stroke-width: 1px;\"/><path class=\"ygrid crisp\" transform=\"translate(0,221.5)\" d=\"M80,0h540\" style=\"stroke: rgb(255, 255, 255); stroke-opacity: 1; stroke-width: 1px;\"/><path class=\"ygrid crisp\" transform=\"translate(0,194.5)\" d=\"M80,0h540\" style=\"stroke: rgb(255, 255, 255); stroke-opacity: 1; stroke-width: 1px;\"/><path class=\"ygrid crisp\" transform=\"translate(0,167.5)\" d=\"M80,0h540\" style=\"stroke: rgb(255, 255, 255); stroke-opacity: 1; stroke-width: 1px;\"/><path class=\"ygrid crisp\" transform=\"translate(0,140.5)\" d=\"M80,0h540\" style=\"stroke: rgb(255, 255, 255); stroke-opacity: 1; stroke-width: 1px;\"/><path class=\"ygrid crisp\" transform=\"translate(0,113.5)\" d=\"M80,0h540\" style=\"stroke: rgb(255, 255, 255); stroke-opacity: 1; stroke-width: 1px;\"/></g></g><g class=\"zerolinelayer\"><path class=\"xzl zl crisp\" transform=\"translate(107,0)\" d=\"M0,100v270\" style=\"stroke: rgb(255, 255, 255); stroke-opacity: 1; stroke-width: 2px;\"/><path class=\"yzl zl crisp\" transform=\"translate(0,356.5)\" d=\"M80,0h540\" style=\"stroke: rgb(255, 255, 255); stroke-opacity: 1; stroke-width: 2px;\"/></g><path class=\"xlines-below\"/><path class=\"ylines-below\"/><g class=\"overlines-below\"/><g class=\"xaxislayer-below\"/><g class=\"yaxislayer-below\"/><g class=\"overaxes-below\"/><g class=\"plot\" transform=\"translate(80, 100)\" clip-path=\"url('#clip846286xyplot')\"><g class=\"heatmaplayer mlayer\"><g class=\"hm\"><image xmlns=\"http://www.w3.org/2000/svg\" preserveAspectRatio=\"none\" height=\"270\" width=\"540\" x=\"0\" y=\"0\" xlink:href=\"data:image/png;base64,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\" style=\"opacity: 1;\"/></g></g></g><g class=\"overplot\"/><path class=\"xlines-above crisp\" style=\"fill: none;\" d=\"M0,0\"/><path class=\"ylines-above crisp\" style=\"fill: none;\" d=\"M0,0\"/><g class=\"overlines-above\"/><g class=\"xaxislayer-above\"><g class=\"xtick\"><text text-anchor=\"middle\" x=\"0\" y=\"96.6\" transform=\"translate(107,0)\" style=\"font-family: 'Open Sans', verdana, arial, sans-serif; font-size: 12px; fill: rgb(42, 63, 95); fill-opacity: 1; white-space: pre;\">0</text></g><g class=\"xtick\"><text text-anchor=\"middle\" x=\"0\" y=\"96.6\" transform=\"translate(161,0)\" style=\"font-family: 'Open Sans', verdana, arial, sans-serif; font-size: 12px; fill: rgb(42, 63, 95); fill-opacity: 1; white-space: pre;\">1</text></g><g class=\"xtick\"><text text-anchor=\"middle\" x=\"0\" y=\"96.6\" transform=\"translate(215,0)\" style=\"font-family: 'Open Sans', verdana, arial, sans-serif; font-size: 12px; fill: rgb(42, 63, 95); fill-opacity: 1; white-space: pre;\">2</text></g><g class=\"xtick\"><text text-anchor=\"middle\" x=\"0\" y=\"96.6\" transform=\"translate(269,0)\" style=\"font-family: 'Open Sans', verdana, arial, sans-serif; font-size: 12px; fill: rgb(42, 63, 95); fill-opacity: 1; white-space: pre;\">3</text></g><g class=\"xtick\"><text text-anchor=\"middle\" x=\"0\" y=\"96.6\" transform=\"translate(323,0)\" style=\"font-family: 'Open Sans', verdana, arial, sans-serif; font-size: 12px; fill: rgb(42, 63, 95); fill-opacity: 1; white-space: pre;\">4</text></g><g class=\"xtick\"><text text-anchor=\"middle\" x=\"0\" y=\"96.6\" transform=\"translate(377,0)\" style=\"font-family: 'Open Sans', verdana, arial, sans-serif; font-size: 12px; fill: rgb(42, 63, 95); fill-opacity: 1; white-space: pre;\">5</text></g><g class=\"xtick\"><text text-anchor=\"middle\" x=\"0\" y=\"96.6\" transform=\"translate(431,0)\" style=\"font-family: 'Open Sans', verdana, arial, sans-serif; font-size: 12px; fill: rgb(42, 63, 95); fill-opacity: 1; white-space: pre;\">6</text></g><g class=\"xtick\"><text text-anchor=\"middle\" x=\"0\" y=\"96.6\" transform=\"translate(485,0)\" style=\"font-family: 'Open Sans', verdana, arial, sans-serif; font-size: 12px; fill: rgb(42, 63, 95); fill-opacity: 1; white-space: pre;\">7</text></g><g class=\"xtick\"><text text-anchor=\"middle\" x=\"0\" y=\"96.6\" transform=\"translate(539,0)\" style=\"font-family: 'Open Sans', verdana, arial, sans-serif; font-size: 12px; fill: rgb(42, 63, 95); fill-opacity: 1; white-space: pre;\">8</text></g><g class=\"xtick\"><text text-anchor=\"middle\" x=\"0\" y=\"96.6\" transform=\"translate(593,0)\" style=\"font-family: 'Open Sans', verdana, arial, sans-serif; font-size: 12px; fill: rgb(42, 63, 95); fill-opacity: 1; white-space: pre;\">9</text></g></g><g class=\"yaxislayer-above\"><g class=\"ytick\"><text text-anchor=\"end\" x=\"79\" y=\"4.199999999999999\" transform=\"translate(0,356.5)\" style=\"font-family: 'Open Sans', verdana, arial, sans-serif; font-size: 12px; fill: rgb(42, 63, 95); fill-opacity: 1; white-space: pre;\">0  </text></g><g class=\"ytick\"><text text-anchor=\"end\" x=\"79\" y=\"4.199999999999999\" transform=\"translate(0,329.5)\" style=\"font-family: 'Open Sans', verdana, arial, sans-serif; font-size: 12px; fill: rgb(42, 63, 95); fill-opacity: 1; white-space: pre;\">1  </text></g><g class=\"ytick\"><text text-anchor=\"end\" x=\"79\" y=\"4.199999999999999\" transform=\"translate(0,302.5)\" style=\"font-family: 'Open Sans', verdana, arial, sans-serif; font-size: 12px; fill: rgb(42, 63, 95); fill-opacity: 1; white-space: pre;\">2  </text></g><g class=\"ytick\"><text text-anchor=\"end\" x=\"79\" y=\"4.199999999999999\" transform=\"translate(0,275.5)\" style=\"font-family: 'Open Sans', verdana, arial, sans-serif; font-size: 12px; fill: rgb(42, 63, 95); fill-opacity: 1; white-space: pre;\">3  </text></g><g class=\"ytick\"><text text-anchor=\"end\" x=\"79\" y=\"4.199999999999999\" transform=\"translate(0,248.5)\" style=\"font-family: 'Open Sans', verdana, arial, sans-serif; font-size: 12px; fill: rgb(42, 63, 95); fill-opacity: 1; white-space: pre;\">4  </text></g><g class=\"ytick\"><text text-anchor=\"end\" x=\"79\" y=\"4.199999999999999\" transform=\"translate(0,221.5)\" style=\"font-family: 'Open Sans', verdana, arial, sans-serif; font-size: 12px; fill: rgb(42, 63, 95); fill-opacity: 1; white-space: pre;\">5  </text></g><g class=\"ytick\"><text text-anchor=\"end\" x=\"79\" y=\"4.199999999999999\" transform=\"translate(0,194.5)\" style=\"font-family: 'Open Sans', verdana, arial, sans-serif; font-size: 12px; fill: rgb(42, 63, 95); fill-opacity: 1; white-space: pre;\">6  </text></g><g class=\"ytick\"><text text-anchor=\"end\" x=\"79\" y=\"4.199999999999999\" transform=\"translate(0,167.5)\" style=\"font-family: 'Open Sans', verdana, arial, sans-serif; font-size: 12px; fill: rgb(42, 63, 95); fill-opacity: 1; white-space: pre;\">7  </text></g><g class=\"ytick\"><text text-anchor=\"end\" x=\"79\" y=\"4.199999999999999\" transform=\"translate(0,140.5)\" style=\"font-family: 'Open Sans', verdana, arial, sans-serif; font-size: 12px; fill: rgb(42, 63, 95); fill-opacity: 1; white-space: pre;\">8  </text></g><g class=\"ytick\"><text text-anchor=\"end\" x=\"79\" y=\"4.199999999999999\" transform=\"translate(0,113.5)\" style=\"font-family: 'Open Sans', verdana, arial, sans-serif; font-size: 12px; fill: rgb(42, 63, 95); fill-opacity: 1; white-space: pre;\">9  </text></g></g><g class=\"overaxes-above\"/></g></g><g class=\"polarlayer\"/><g class=\"ternarylayer\"/><g class=\"geolayer\"/><g class=\"funnelarealayer\"/><g class=\"pielayer\"/><g class=\"treemaplayer\"/><g class=\"sunburstlayer\"/><g class=\"glimages\"/><defs id=\"topdefs-846286\"><g class=\"clips\"/></defs><g class=\"layer-above\"><g class=\"imagelayer\"/><g class=\"shapelayer\"/></g><g class=\"infolayer\"><g class=\"g-gtitle\"/><g class=\"g-xtitle\"/><g class=\"g-ytitle\"/><g class=\"annotation\" data-index=\"0\" style=\"opacity: 1;\"><g class=\"annotation-text-g\" transform=\"rotate(0,107,356.5)\"><g class=\"cursor-pointer\" transform=\"translate(94, 348)\"><rect class=\"bg\" x=\"0.5\" y=\"0.5\" width=\"26\" height=\"17\" style=\"stroke-width: 1px; stroke: rgb(0, 0, 0); stroke-opacity: 0; fill: rgb(0, 0, 0); fill-opacity: 0;\"/><text class=\"annotation-text\" text-anchor=\"middle\" x=\"13.453125\" y=\"14\" style=\"font-family: 'Open Sans', verdana, arial, sans-serif; font-size: 12px; fill: rgb(0, 0, 0); fill-opacity: 1; white-space: pre;\">974</text></g></g></g><g class=\"annotation\" data-index=\"1\" style=\"opacity: 1;\"><g class=\"annotation-text-g\" transform=\"rotate(0,161,356.5)\"><g class=\"cursor-pointer\" transform=\"translate(155, 348)\"><rect class=\"bg\" x=\"0.5\" y=\"0.5\" width=\"11\" height=\"17\" style=\"stroke-width: 1px; stroke: rgb(0, 0, 0); stroke-opacity: 0; fill: rgb(0, 0, 0); fill-opacity: 0;\"/><text class=\"annotation-text\" text-anchor=\"middle\" x=\"5.828125\" y=\"14\" style=\"font-family: 'Open Sans', verdana, arial, sans-serif; font-size: 12px; fill: rgb(255, 255, 255); fill-opacity: 1; white-space: pre;\">1</text></g></g></g><g class=\"annotation\" data-index=\"2\" style=\"opacity: 1;\"><g class=\"annotation-text-g\" transform=\"rotate(0,215,356.5)\"><g class=\"cursor-pointer\" transform=\"translate(209, 348)\"><rect class=\"bg\" x=\"0.5\" y=\"0.5\" width=\"11\" height=\"17\" style=\"stroke-width: 1px; stroke: rgb(0, 0, 0); stroke-opacity: 0; fill: rgb(0, 0, 0); fill-opacity: 0;\"/><text class=\"annotation-text\" text-anchor=\"middle\" x=\"5.828125\" y=\"14\" style=\"font-family: 'Open Sans', verdana, arial, sans-serif; font-size: 12px; fill: rgb(255, 255, 255); fill-opacity: 1; white-space: pre;\">1</text></g></g></g><g class=\"annotation\" data-index=\"3\" style=\"opacity: 1;\"><g class=\"annotation-text-g\" transform=\"rotate(0,269,356.5)\"><g class=\"cursor-pointer\" transform=\"translate(263, 348)\"><rect class=\"bg\" x=\"0.5\" y=\"0.5\" width=\"11\" height=\"17\" style=\"stroke-width: 1px; stroke: rgb(0, 0, 0); stroke-opacity: 0; fill: rgb(0, 0, 0); fill-opacity: 0;\"/><text class=\"annotation-text\" text-anchor=\"middle\" x=\"5.828125\" y=\"14\" style=\"font-family: 'Open Sans', verdana, arial, sans-serif; font-size: 12px; fill: rgb(255, 255, 255); fill-opacity: 1; white-space: pre;\">0</text></g></g></g><g class=\"annotation\" data-index=\"4\" style=\"opacity: 1;\"><g class=\"annotation-text-g\" transform=\"rotate(0,323,356.5)\"><g class=\"cursor-pointer\" transform=\"translate(317, 348)\"><rect class=\"bg\" x=\"0.5\" y=\"0.5\" width=\"11\" height=\"17\" style=\"stroke-width: 1px; stroke: rgb(0, 0, 0); stroke-opacity: 0; fill: rgb(0, 0, 0); fill-opacity: 0;\"/><text class=\"annotation-text\" text-anchor=\"middle\" x=\"5.828125\" y=\"14\" style=\"font-family: 'Open Sans', verdana, arial, sans-serif; font-size: 12px; fill: rgb(255, 255, 255); fill-opacity: 1; white-space: pre;\">0</text></g></g></g><g class=\"annotation\" data-index=\"5\" style=\"opacity: 1;\"><g class=\"annotation-text-g\" transform=\"rotate(0,377,356.5)\"><g class=\"cursor-pointer\" transform=\"translate(371, 348)\"><rect class=\"bg\" x=\"0.5\" y=\"0.5\" width=\"11\" height=\"17\" style=\"stroke-width: 1px; stroke: rgb(0, 0, 0); stroke-opacity: 0; fill: rgb(0, 0, 0); fill-opacity: 0;\"/><text class=\"annotation-text\" text-anchor=\"middle\" x=\"5.828125\" y=\"14\" style=\"font-family: 'Open Sans', verdana, arial, sans-serif; font-size: 12px; fill: rgb(255, 255, 255); fill-opacity: 1; white-space: pre;\">0</text></g></g></g><g class=\"annotation\" data-index=\"6\" style=\"opacity: 1;\"><g class=\"annotation-text-g\" transform=\"rotate(0,431,356.5)\"><g class=\"cursor-pointer\" transform=\"translate(425, 348)\"><rect class=\"bg\" x=\"0.5\" y=\"0.5\" width=\"11\" height=\"17\" style=\"stroke-width: 1px; stroke: rgb(0, 0, 0); stroke-opacity: 0; fill: rgb(0, 0, 0); fill-opacity: 0;\"/><text class=\"annotation-text\" text-anchor=\"middle\" x=\"5.828125\" y=\"14\" style=\"font-family: 'Open Sans', verdana, arial, sans-serif; font-size: 12px; fill: rgb(255, 255, 255); fill-opacity: 1; white-space: pre;\">2</text></g></g></g><g class=\"annotation\" data-index=\"7\" style=\"opacity: 1;\"><g class=\"annotation-text-g\" transform=\"rotate(0,485,356.5)\"><g class=\"cursor-pointer\" transform=\"translate(479, 348)\"><rect class=\"bg\" x=\"0.5\" y=\"0.5\" width=\"11\" height=\"17\" style=\"stroke-width: 1px; stroke: rgb(0, 0, 0); stroke-opacity: 0; fill: rgb(0, 0, 0); fill-opacity: 0;\"/><text class=\"annotation-text\" text-anchor=\"middle\" x=\"5.828125\" y=\"14\" style=\"font-family: 'Open Sans', verdana, arial, sans-serif; font-size: 12px; fill: rgb(255, 255, 255); fill-opacity: 1; white-space: pre;\">0</text></g></g></g><g class=\"annotation\" data-index=\"8\" style=\"opacity: 1;\"><g class=\"annotation-text-g\" transform=\"rotate(0,539,356.5)\"><g class=\"cursor-pointer\" transform=\"translate(533, 348)\"><rect class=\"bg\" x=\"0.5\" y=\"0.5\" width=\"11\" height=\"17\" style=\"stroke-width: 1px; stroke: rgb(0, 0, 0); stroke-opacity: 0; fill: rgb(0, 0, 0); fill-opacity: 0;\"/><text class=\"annotation-text\" text-anchor=\"middle\" x=\"5.828125\" y=\"14\" style=\"font-family: 'Open Sans', verdana, arial, sans-serif; font-size: 12px; fill: rgb(255, 255, 255); fill-opacity: 1; white-space: pre;\">1</text></g></g></g><g class=\"annotation\" data-index=\"9\" style=\"opacity: 1;\"><g class=\"annotation-text-g\" transform=\"rotate(0,593,356.5)\"><g class=\"cursor-pointer\" transform=\"translate(587, 348)\"><rect class=\"bg\" x=\"0.5\" y=\"0.5\" width=\"11\" height=\"17\" style=\"stroke-width: 1px; stroke: rgb(0, 0, 0); stroke-opacity: 0; fill: rgb(0, 0, 0); fill-opacity: 0;\"/><text class=\"annotation-text\" text-anchor=\"middle\" x=\"5.828125\" y=\"14\" style=\"font-family: 'Open Sans', verdana, arial, sans-serif; font-size: 12px; fill: rgb(255, 255, 255); fill-opacity: 1; white-space: pre;\">1</text></g></g></g><g class=\"annotation\" data-index=\"10\" style=\"opacity: 1;\"><g class=\"annotation-text-g\" transform=\"rotate(0,107,329.5)\"><g class=\"cursor-pointer\" transform=\"translate(101, 321)\"><rect class=\"bg\" x=\"0.5\" y=\"0.5\" width=\"11\" height=\"17\" style=\"stroke-width: 1px; stroke: rgb(0, 0, 0); stroke-opacity: 0; fill: rgb(0, 0, 0); fill-opacity: 0;\"/><text class=\"annotation-text\" text-anchor=\"middle\" x=\"5.828125\" y=\"14\" style=\"font-family: 'Open Sans', verdana, arial, sans-serif; font-size: 12px; fill: rgb(255, 255, 255); fill-opacity: 1; white-space: pre;\">0</text></g></g></g><g class=\"annotation\" data-index=\"11\" style=\"opacity: 1;\"><g class=\"annotation-text-g\" transform=\"rotate(0,161,329.5)\"><g class=\"cursor-pointer\" transform=\"translate(144, 321)\"><rect class=\"bg\" x=\"0.5\" y=\"0.5\" width=\"34\" height=\"17\" style=\"stroke-width: 1px; stroke: rgb(0, 0, 0); stroke-opacity: 0; fill: rgb(0, 0, 0); fill-opacity: 0;\"/><text class=\"annotation-text\" text-anchor=\"middle\" x=\"17.265625\" y=\"14\" style=\"font-family: 'Open Sans', verdana, arial, sans-serif; font-size: 12px; fill: rgb(0, 0, 0); fill-opacity: 1; white-space: pre;\">1129</text></g></g></g><g class=\"annotation\" data-index=\"12\" style=\"opacity: 1;\"><g class=\"annotation-text-g\" transform=\"rotate(0,215,329.5)\"><g class=\"cursor-pointer\" transform=\"translate(209, 321)\"><rect class=\"bg\" x=\"0.5\" y=\"0.5\" width=\"11\" height=\"17\" style=\"stroke-width: 1px; stroke: rgb(0, 0, 0); stroke-opacity: 0; fill: rgb(0, 0, 0); fill-opacity: 0;\"/><text class=\"annotation-text\" text-anchor=\"middle\" x=\"5.828125\" y=\"14\" style=\"font-family: 'Open Sans', verdana, arial, sans-serif; font-size: 12px; fill: rgb(255, 255, 255); fill-opacity: 1; white-space: pre;\">2</text></g></g></g><g class=\"annotation\" data-index=\"13\" style=\"opacity: 1;\"><g class=\"annotation-text-g\" transform=\"rotate(0,269,329.5)\"><g class=\"cursor-pointer\" transform=\"translate(263, 321)\"><rect class=\"bg\" x=\"0.5\" y=\"0.5\" width=\"11\" height=\"17\" style=\"stroke-width: 1px; stroke: rgb(0, 0, 0); stroke-opacity: 0; fill: rgb(0, 0, 0); fill-opacity: 0;\"/><text class=\"annotation-text\" text-anchor=\"middle\" x=\"5.828125\" y=\"14\" style=\"font-family: 'Open Sans', verdana, arial, sans-serif; font-size: 12px; fill: rgb(255, 255, 255); fill-opacity: 1; white-space: pre;\">0</text></g></g></g><g class=\"annotation\" data-index=\"14\" style=\"opacity: 1;\"><g class=\"annotation-text-g\" transform=\"rotate(0,323,329.5)\"><g class=\"cursor-pointer\" transform=\"translate(317, 321)\"><rect class=\"bg\" x=\"0.5\" y=\"0.5\" width=\"11\" height=\"17\" style=\"stroke-width: 1px; stroke: rgb(0, 0, 0); stroke-opacity: 0; fill: rgb(0, 0, 0); fill-opacity: 0;\"/><text class=\"annotation-text\" text-anchor=\"middle\" x=\"5.828125\" y=\"14\" style=\"font-family: 'Open Sans', verdana, arial, sans-serif; font-size: 12px; fill: rgb(255, 255, 255); fill-opacity: 1; white-space: pre;\">0</text></g></g></g><g class=\"annotation\" data-index=\"15\" style=\"opacity: 1;\"><g class=\"annotation-text-g\" transform=\"rotate(0,377,329.5)\"><g class=\"cursor-pointer\" transform=\"translate(371, 321)\"><rect class=\"bg\" x=\"0.5\" y=\"0.5\" width=\"11\" height=\"17\" style=\"stroke-width: 1px; stroke: rgb(0, 0, 0); stroke-opacity: 0; fill: rgb(0, 0, 0); fill-opacity: 0;\"/><text class=\"annotation-text\" text-anchor=\"middle\" x=\"5.828125\" y=\"14\" style=\"font-family: 'Open Sans', verdana, arial, sans-serif; font-size: 12px; fill: rgb(255, 255, 255); fill-opacity: 1; white-space: pre;\">0</text></g></g></g><g class=\"annotation\" data-index=\"16\" style=\"opacity: 1;\"><g class=\"annotation-text-g\" transform=\"rotate(0,431,329.5)\"><g class=\"cursor-pointer\" transform=\"translate(425, 321)\"><rect class=\"bg\" x=\"0.5\" y=\"0.5\" width=\"11\" height=\"17\" style=\"stroke-width: 1px; stroke: rgb(0, 0, 0); stroke-opacity: 0; fill: rgb(0, 0, 0); fill-opacity: 0;\"/><text class=\"annotation-text\" text-anchor=\"middle\" x=\"5.828125\" y=\"14\" style=\"font-family: 'Open Sans', verdana, arial, sans-serif; font-size: 12px; fill: rgb(255, 255, 255); fill-opacity: 1; white-space: pre;\">2</text></g></g></g><g class=\"annotation\" data-index=\"17\" style=\"opacity: 1;\"><g class=\"annotation-text-g\" transform=\"rotate(0,485,329.5)\"><g class=\"cursor-pointer\" transform=\"translate(479, 321)\"><rect class=\"bg\" x=\"0.5\" y=\"0.5\" width=\"11\" height=\"17\" style=\"stroke-width: 1px; stroke: rgb(0, 0, 0); stroke-opacity: 0; fill: rgb(0, 0, 0); fill-opacity: 0;\"/><text class=\"annotation-text\" text-anchor=\"middle\" x=\"5.828125\" y=\"14\" style=\"font-family: 'Open Sans', verdana, arial, sans-serif; font-size: 12px; fill: rgb(255, 255, 255); fill-opacity: 1; white-space: pre;\">1</text></g></g></g><g class=\"annotation\" data-index=\"18\" style=\"opacity: 1;\"><g class=\"annotation-text-g\" transform=\"rotate(0,539,329.5)\"><g class=\"cursor-pointer\" transform=\"translate(533, 321)\"><rect class=\"bg\" x=\"0.5\" y=\"0.5\" width=\"11\" height=\"17\" style=\"stroke-width: 1px; stroke: rgb(0, 0, 0); stroke-opacity: 0; fill: rgb(0, 0, 0); fill-opacity: 0;\"/><text class=\"annotation-text\" text-anchor=\"middle\" x=\"5.828125\" y=\"14\" style=\"font-family: 'Open Sans', verdana, arial, sans-serif; font-size: 12px; fill: rgb(255, 255, 255); fill-opacity: 1; white-space: pre;\">1</text></g></g></g><g class=\"annotation\" data-index=\"19\" style=\"opacity: 1;\"><g class=\"annotation-text-g\" transform=\"rotate(0,593,329.5)\"><g class=\"cursor-pointer\" transform=\"translate(587, 321)\"><rect class=\"bg\" x=\"0.5\" y=\"0.5\" width=\"11\" height=\"17\" style=\"stroke-width: 1px; stroke: rgb(0, 0, 0); stroke-opacity: 0; fill: rgb(0, 0, 0); fill-opacity: 0;\"/><text class=\"annotation-text\" text-anchor=\"middle\" x=\"5.828125\" y=\"14\" style=\"font-family: 'Open Sans', verdana, arial, sans-serif; font-size: 12px; fill: rgb(255, 255, 255); fill-opacity: 1; white-space: pre;\">0</text></g></g></g><g class=\"annotation\" data-index=\"20\" style=\"opacity: 1;\"><g class=\"annotation-text-g\" transform=\"rotate(0,107,302.5)\"><g class=\"cursor-pointer\" transform=\"translate(101, 294)\"><rect class=\"bg\" x=\"0.5\" y=\"0.5\" width=\"11\" height=\"17\" style=\"stroke-width: 1px; stroke: rgb(0, 0, 0); stroke-opacity: 0; fill: rgb(0, 0, 0); fill-opacity: 0;\"/><text class=\"annotation-text\" text-anchor=\"middle\" x=\"5.828125\" y=\"14\" style=\"font-family: 'Open Sans', verdana, arial, sans-serif; font-size: 12px; fill: rgb(255, 255, 255); fill-opacity: 1; white-space: pre;\">1</text></g></g></g><g class=\"annotation\" data-index=\"21\" style=\"opacity: 1;\"><g class=\"annotation-text-g\" transform=\"rotate(0,161,302.5)\"><g class=\"cursor-pointer\" transform=\"translate(155, 294)\"><rect class=\"bg\" x=\"0.5\" y=\"0.5\" width=\"11\" height=\"17\" style=\"stroke-width: 1px; stroke: rgb(0, 0, 0); stroke-opacity: 0; fill: rgb(0, 0, 0); fill-opacity: 0;\"/><text class=\"annotation-text\" text-anchor=\"middle\" x=\"5.828125\" y=\"14\" style=\"font-family: 'Open Sans', verdana, arial, sans-serif; font-size: 12px; fill: rgb(255, 255, 255); fill-opacity: 1; white-space: pre;\">0</text></g></g></g><g class=\"annotation\" data-index=\"22\" style=\"opacity: 1;\"><g class=\"annotation-text-g\" transform=\"rotate(0,215,302.5)\"><g class=\"cursor-pointer\" transform=\"translate(198, 294)\"><rect class=\"bg\" x=\"0.5\" y=\"0.5\" width=\"34\" height=\"17\" style=\"stroke-width: 1px; stroke: rgb(0, 0, 0); stroke-opacity: 0; fill: rgb(0, 0, 0); fill-opacity: 0;\"/><text class=\"annotation-text\" text-anchor=\"middle\" x=\"17.265625\" y=\"14\" style=\"font-family: 'Open Sans', verdana, arial, sans-serif; font-size: 12px; fill: rgb(0, 0, 0); fill-opacity: 1; white-space: pre;\">1020</text></g></g></g><g class=\"annotation\" data-index=\"23\" style=\"opacity: 1;\"><g class=\"annotation-text-g\" transform=\"rotate(0,269,302.5)\"><g class=\"cursor-pointer\" transform=\"translate(263, 294)\"><rect class=\"bg\" x=\"0.5\" y=\"0.5\" width=\"11\" height=\"17\" style=\"stroke-width: 1px; stroke: rgb(0, 0, 0); stroke-opacity: 0; fill: rgb(0, 0, 0); fill-opacity: 0;\"/><text class=\"annotation-text\" text-anchor=\"middle\" x=\"5.828125\" y=\"14\" style=\"font-family: 'Open Sans', verdana, arial, sans-serif; font-size: 12px; fill: rgb(255, 255, 255); fill-opacity: 1; white-space: pre;\">0</text></g></g></g><g class=\"annotation\" data-index=\"24\" style=\"opacity: 1;\"><g class=\"annotation-text-g\" transform=\"rotate(0,323,302.5)\"><g class=\"cursor-pointer\" transform=\"translate(317, 294)\"><rect class=\"bg\" x=\"0.5\" y=\"0.5\" width=\"11\" height=\"17\" style=\"stroke-width: 1px; stroke: rgb(0, 0, 0); stroke-opacity: 0; fill: rgb(0, 0, 0); fill-opacity: 0;\"/><text class=\"annotation-text\" text-anchor=\"middle\" x=\"5.828125\" y=\"14\" style=\"font-family: 'Open Sans', verdana, arial, sans-serif; font-size: 12px; fill: rgb(255, 255, 255); fill-opacity: 1; white-space: pre;\">0</text></g></g></g><g class=\"annotation\" data-index=\"25\" style=\"opacity: 1;\"><g class=\"annotation-text-g\" transform=\"rotate(0,377,302.5)\"><g class=\"cursor-pointer\" transform=\"translate(371, 294)\"><rect class=\"bg\" x=\"0.5\" y=\"0.5\" width=\"11\" height=\"17\" style=\"stroke-width: 1px; stroke: rgb(0, 0, 0); stroke-opacity: 0; fill: rgb(0, 0, 0); fill-opacity: 0;\"/><text class=\"annotation-text\" text-anchor=\"middle\" x=\"5.828125\" y=\"14\" style=\"font-family: 'Open Sans', verdana, arial, sans-serif; font-size: 12px; fill: rgb(255, 255, 255); fill-opacity: 1; white-space: pre;\">0</text></g></g></g><g class=\"annotation\" data-index=\"26\" style=\"opacity: 1;\"><g class=\"annotation-text-g\" transform=\"rotate(0,431,302.5)\"><g class=\"cursor-pointer\" transform=\"translate(425, 294)\"><rect class=\"bg\" x=\"0.5\" y=\"0.5\" width=\"11\" height=\"17\" style=\"stroke-width: 1px; stroke: rgb(0, 0, 0); stroke-opacity: 0; fill: rgb(0, 0, 0); fill-opacity: 0;\"/><text class=\"annotation-text\" text-anchor=\"middle\" x=\"5.828125\" y=\"14\" style=\"font-family: 'Open Sans', verdana, arial, sans-serif; font-size: 12px; fill: rgb(255, 255, 255); fill-opacity: 1; white-space: pre;\">1</text></g></g></g><g class=\"annotation\" data-index=\"27\" style=\"opacity: 1;\"><g class=\"annotation-text-g\" transform=\"rotate(0,485,302.5)\"><g class=\"cursor-pointer\" transform=\"translate(479, 294)\"><rect class=\"bg\" x=\"0.5\" y=\"0.5\" width=\"11\" height=\"17\" style=\"stroke-width: 1px; stroke: rgb(0, 0, 0); stroke-opacity: 0; fill: rgb(0, 0, 0); fill-opacity: 0;\"/><text class=\"annotation-text\" text-anchor=\"middle\" x=\"5.828125\" y=\"14\" style=\"font-family: 'Open Sans', verdana, arial, sans-serif; font-size: 12px; fill: rgb(255, 255, 255); fill-opacity: 1; white-space: pre;\">7</text></g></g></g><g class=\"annotation\" data-index=\"28\" style=\"opacity: 1;\"><g class=\"annotation-text-g\" transform=\"rotate(0,539,302.5)\"><g class=\"cursor-pointer\" transform=\"translate(533, 294)\"><rect class=\"bg\" x=\"0.5\" y=\"0.5\" width=\"11\" height=\"17\" style=\"stroke-width: 1px; stroke: rgb(0, 0, 0); stroke-opacity: 0; fill: rgb(0, 0, 0); fill-opacity: 0;\"/><text class=\"annotation-text\" text-anchor=\"middle\" x=\"5.828125\" y=\"14\" style=\"font-family: 'Open Sans', verdana, arial, sans-serif; font-size: 12px; fill: rgb(255, 255, 255); fill-opacity: 1; white-space: pre;\">3</text></g></g></g><g class=\"annotation\" data-index=\"29\" style=\"opacity: 1;\"><g class=\"annotation-text-g\" transform=\"rotate(0,593,302.5)\"><g class=\"cursor-pointer\" transform=\"translate(587, 294)\"><rect class=\"bg\" x=\"0.5\" y=\"0.5\" width=\"11\" height=\"17\" style=\"stroke-width: 1px; stroke: rgb(0, 0, 0); stroke-opacity: 0; fill: rgb(0, 0, 0); fill-opacity: 0;\"/><text class=\"annotation-text\" text-anchor=\"middle\" x=\"5.828125\" y=\"14\" style=\"font-family: 'Open Sans', verdana, arial, sans-serif; font-size: 12px; fill: rgb(255, 255, 255); fill-opacity: 1; white-space: pre;\">0</text></g></g></g><g class=\"annotation\" data-index=\"30\" style=\"opacity: 1;\"><g class=\"annotation-text-g\" transform=\"rotate(0,107,275.5)\"><g class=\"cursor-pointer\" transform=\"translate(101, 267)\"><rect class=\"bg\" x=\"0.5\" y=\"0.5\" width=\"11\" height=\"17\" style=\"stroke-width: 1px; stroke: rgb(0, 0, 0); stroke-opacity: 0; fill: rgb(0, 0, 0); fill-opacity: 0;\"/><text class=\"annotation-text\" text-anchor=\"middle\" x=\"5.828125\" y=\"14\" style=\"font-family: 'Open Sans', verdana, arial, sans-serif; font-size: 12px; fill: rgb(255, 255, 255); fill-opacity: 1; white-space: pre;\">0</text></g></g></g><g class=\"annotation\" data-index=\"31\" style=\"opacity: 1;\"><g class=\"annotation-text-g\" transform=\"rotate(0,161,275.5)\"><g class=\"cursor-pointer\" transform=\"translate(155, 267)\"><rect class=\"bg\" x=\"0.5\" y=\"0.5\" width=\"11\" height=\"17\" style=\"stroke-width: 1px; stroke: rgb(0, 0, 0); stroke-opacity: 0; fill: rgb(0, 0, 0); fill-opacity: 0;\"/><text class=\"annotation-text\" text-anchor=\"middle\" x=\"5.828125\" y=\"14\" style=\"font-family: 'Open Sans', verdana, arial, sans-serif; font-size: 12px; fill: rgb(255, 255, 255); fill-opacity: 1; white-space: pre;\">0</text></g></g></g><g class=\"annotation\" data-index=\"32\" style=\"opacity: 1;\"><g class=\"annotation-text-g\" transform=\"rotate(0,215,275.5)\"><g class=\"cursor-pointer\" transform=\"translate(209, 267)\"><rect class=\"bg\" x=\"0.5\" y=\"0.5\" width=\"11\" height=\"17\" style=\"stroke-width: 1px; stroke: rgb(0, 0, 0); stroke-opacity: 0; fill: rgb(0, 0, 0); fill-opacity: 0;\"/><text class=\"annotation-text\" text-anchor=\"middle\" x=\"5.828125\" y=\"14\" style=\"font-family: 'Open Sans', verdana, arial, sans-serif; font-size: 12px; fill: rgb(255, 255, 255); fill-opacity: 1; white-space: pre;\">1</text></g></g></g><g class=\"annotation\" data-index=\"33\" style=\"opacity: 1;\"><g class=\"annotation-text-g\" transform=\"rotate(0,269,275.5)\"><g class=\"cursor-pointer\" transform=\"translate(256, 267)\"><rect class=\"bg\" x=\"0.5\" y=\"0.5\" width=\"26\" height=\"17\" style=\"stroke-width: 1px; stroke: rgb(0, 0, 0); stroke-opacity: 0; fill: rgb(0, 0, 0); fill-opacity: 0;\"/><text class=\"annotation-text\" text-anchor=\"middle\" x=\"13.453125\" y=\"14\" style=\"font-family: 'Open Sans', verdana, arial, sans-serif; font-size: 12px; fill: rgb(0, 0, 0); fill-opacity: 1; white-space: pre;\">992</text></g></g></g><g class=\"annotation\" data-index=\"34\" style=\"opacity: 1;\"><g class=\"annotation-text-g\" transform=\"rotate(0,323,275.5)\"><g class=\"cursor-pointer\" transform=\"translate(317, 267)\"><rect class=\"bg\" x=\"0.5\" y=\"0.5\" width=\"11\" height=\"17\" style=\"stroke-width: 1px; stroke: rgb(0, 0, 0); stroke-opacity: 0; fill: rgb(0, 0, 0); fill-opacity: 0;\"/><text class=\"annotation-text\" text-anchor=\"middle\" x=\"5.828125\" y=\"14\" style=\"font-family: 'Open Sans', verdana, arial, sans-serif; font-size: 12px; fill: rgb(255, 255, 255); fill-opacity: 1; white-space: pre;\">0</text></g></g></g><g class=\"annotation\" data-index=\"35\" style=\"opacity: 1;\"><g class=\"annotation-text-g\" transform=\"rotate(0,377,275.5)\"><g class=\"cursor-pointer\" transform=\"translate(371, 267)\"><rect class=\"bg\" x=\"0.5\" y=\"0.5\" width=\"11\" height=\"17\" style=\"stroke-width: 1px; stroke: rgb(0, 0, 0); stroke-opacity: 0; fill: rgb(0, 0, 0); fill-opacity: 0;\"/><text class=\"annotation-text\" text-anchor=\"middle\" x=\"5.828125\" y=\"14\" style=\"font-family: 'Open Sans', verdana, arial, sans-serif; font-size: 12px; fill: rgb(255, 255, 255); fill-opacity: 1; white-space: pre;\">4</text></g></g></g><g class=\"annotation\" data-index=\"36\" style=\"opacity: 1;\"><g class=\"annotation-text-g\" transform=\"rotate(0,431,275.5)\"><g class=\"cursor-pointer\" transform=\"translate(425, 267)\"><rect class=\"bg\" x=\"0.5\" y=\"0.5\" width=\"11\" height=\"17\" style=\"stroke-width: 1px; stroke: rgb(0, 0, 0); stroke-opacity: 0; fill: rgb(0, 0, 0); fill-opacity: 0;\"/><text class=\"annotation-text\" text-anchor=\"middle\" x=\"5.828125\" y=\"14\" style=\"font-family: 'Open Sans', verdana, arial, sans-serif; font-size: 12px; fill: rgb(255, 255, 255); fill-opacity: 1; white-space: pre;\">0</text></g></g></g><g class=\"annotation\" data-index=\"37\" style=\"opacity: 1;\"><g class=\"annotation-text-g\" transform=\"rotate(0,485,275.5)\"><g class=\"cursor-pointer\" transform=\"translate(479, 267)\"><rect class=\"bg\" x=\"0.5\" y=\"0.5\" width=\"11\" height=\"17\" style=\"stroke-width: 1px; stroke: rgb(0, 0, 0); stroke-opacity: 0; fill: rgb(0, 0, 0); fill-opacity: 0;\"/><text class=\"annotation-text\" text-anchor=\"middle\" x=\"5.828125\" y=\"14\" style=\"font-family: 'Open Sans', verdana, arial, sans-serif; font-size: 12px; fill: rgb(255, 255, 255); fill-opacity: 1; white-space: pre;\">5</text></g></g></g><g class=\"annotation\" data-index=\"38\" style=\"opacity: 1;\"><g class=\"annotation-text-g\" transform=\"rotate(0,539,275.5)\"><g class=\"cursor-pointer\" transform=\"translate(533, 267)\"><rect class=\"bg\" x=\"0.5\" y=\"0.5\" width=\"11\" height=\"17\" style=\"stroke-width: 1px; stroke: rgb(0, 0, 0); stroke-opacity: 0; fill: rgb(0, 0, 0); fill-opacity: 0;\"/><text class=\"annotation-text\" text-anchor=\"middle\" x=\"5.828125\" y=\"14\" style=\"font-family: 'Open Sans', verdana, arial, sans-serif; font-size: 12px; fill: rgb(255, 255, 255); fill-opacity: 1; white-space: pre;\">4</text></g></g></g><g class=\"annotation\" data-index=\"39\" style=\"opacity: 1;\"><g class=\"annotation-text-g\" transform=\"rotate(0,593,275.5)\"><g class=\"cursor-pointer\" transform=\"translate(587, 267)\"><rect class=\"bg\" x=\"0.5\" y=\"0.5\" width=\"11\" height=\"17\" style=\"stroke-width: 1px; stroke: rgb(0, 0, 0); stroke-opacity: 0; fill: rgb(0, 0, 0); fill-opacity: 0;\"/><text class=\"annotation-text\" text-anchor=\"middle\" x=\"5.828125\" y=\"14\" style=\"font-family: 'Open Sans', verdana, arial, sans-serif; font-size: 12px; fill: rgb(255, 255, 255); fill-opacity: 1; white-space: pre;\">4</text></g></g></g><g class=\"annotation\" data-index=\"40\" style=\"opacity: 1;\"><g class=\"annotation-text-g\" transform=\"rotate(0,107,248.5)\"><g class=\"cursor-pointer\" transform=\"translate(101, 240)\"><rect class=\"bg\" x=\"0.5\" y=\"0.5\" width=\"11\" height=\"17\" style=\"stroke-width: 1px; stroke: rgb(0, 0, 0); stroke-opacity: 0; fill: rgb(0, 0, 0); fill-opacity: 0;\"/><text class=\"annotation-text\" text-anchor=\"middle\" x=\"5.828125\" y=\"14\" style=\"font-family: 'Open Sans', verdana, arial, sans-serif; font-size: 12px; fill: rgb(255, 255, 255); fill-opacity: 1; white-space: pre;\">0</text></g></g></g><g class=\"annotation\" data-index=\"41\" style=\"opacity: 1;\"><g class=\"annotation-text-g\" transform=\"rotate(0,161,248.5)\"><g class=\"cursor-pointer\" transform=\"translate(155, 240)\"><rect class=\"bg\" x=\"0.5\" y=\"0.5\" width=\"11\" height=\"17\" style=\"stroke-width: 1px; stroke: rgb(0, 0, 0); stroke-opacity: 0; fill: rgb(0, 0, 0); fill-opacity: 0;\"/><text class=\"annotation-text\" text-anchor=\"middle\" x=\"5.828125\" y=\"14\" style=\"font-family: 'Open Sans', verdana, arial, sans-serif; font-size: 12px; fill: rgb(255, 255, 255); fill-opacity: 1; white-space: pre;\">1</text></g></g></g><g class=\"annotation\" data-index=\"42\" style=\"opacity: 1;\"><g class=\"annotation-text-g\" transform=\"rotate(0,215,248.5)\"><g class=\"cursor-pointer\" transform=\"translate(209, 240)\"><rect class=\"bg\" x=\"0.5\" y=\"0.5\" width=\"11\" height=\"17\" style=\"stroke-width: 1px; stroke: rgb(0, 0, 0); stroke-opacity: 0; fill: rgb(0, 0, 0); fill-opacity: 0;\"/><text class=\"annotation-text\" text-anchor=\"middle\" x=\"5.828125\" y=\"14\" style=\"font-family: 'Open Sans', verdana, arial, sans-serif; font-size: 12px; fill: rgb(255, 255, 255); fill-opacity: 1; white-space: pre;\">2</text></g></g></g><g class=\"annotation\" data-index=\"43\" style=\"opacity: 1;\"><g class=\"annotation-text-g\" transform=\"rotate(0,269,248.5)\"><g class=\"cursor-pointer\" transform=\"translate(263, 240)\"><rect class=\"bg\" x=\"0.5\" y=\"0.5\" width=\"11\" height=\"17\" style=\"stroke-width: 1px; stroke: rgb(0, 0, 0); stroke-opacity: 0; fill: rgb(0, 0, 0); fill-opacity: 0;\"/><text class=\"annotation-text\" text-anchor=\"middle\" x=\"5.828125\" y=\"14\" style=\"font-family: 'Open Sans', verdana, arial, sans-serif; font-size: 12px; fill: rgb(255, 255, 255); fill-opacity: 1; white-space: pre;\">0</text></g></g></g><g class=\"annotation\" data-index=\"44\" style=\"opacity: 1;\"><g class=\"annotation-text-g\" transform=\"rotate(0,323,248.5)\"><g class=\"cursor-pointer\" transform=\"translate(310, 240)\"><rect class=\"bg\" x=\"0.5\" y=\"0.5\" width=\"26\" height=\"17\" style=\"stroke-width: 1px; stroke: rgb(0, 0, 0); stroke-opacity: 0; fill: rgb(0, 0, 0); fill-opacity: 0;\"/><text class=\"annotation-text\" text-anchor=\"middle\" x=\"13.453125\" y=\"14\" style=\"font-family: 'Open Sans', verdana, arial, sans-serif; font-size: 12px; fill: rgb(0, 0, 0); fill-opacity: 1; white-space: pre;\">959</text></g></g></g><g class=\"annotation\" data-index=\"45\" style=\"opacity: 1;\"><g class=\"annotation-text-g\" transform=\"rotate(0,377,248.5)\"><g class=\"cursor-pointer\" transform=\"translate(371, 240)\"><rect class=\"bg\" x=\"0.5\" y=\"0.5\" width=\"11\" height=\"17\" style=\"stroke-width: 1px; stroke: rgb(0, 0, 0); stroke-opacity: 0; fill: rgb(0, 0, 0); fill-opacity: 0;\"/><text class=\"annotation-text\" text-anchor=\"middle\" x=\"5.828125\" y=\"14\" style=\"font-family: 'Open Sans', verdana, arial, sans-serif; font-size: 12px; fill: rgb(255, 255, 255); fill-opacity: 1; white-space: pre;\">0</text></g></g></g><g class=\"annotation\" data-index=\"46\" style=\"opacity: 1;\"><g class=\"annotation-text-g\" transform=\"rotate(0,431,248.5)\"><g class=\"cursor-pointer\" transform=\"translate(425, 240)\"><rect class=\"bg\" x=\"0.5\" y=\"0.5\" width=\"11\" height=\"17\" style=\"stroke-width: 1px; stroke: rgb(0, 0, 0); stroke-opacity: 0; fill: rgb(0, 0, 0); fill-opacity: 0;\"/><text class=\"annotation-text\" text-anchor=\"middle\" x=\"5.828125\" y=\"14\" style=\"font-family: 'Open Sans', verdana, arial, sans-serif; font-size: 12px; fill: rgb(255, 255, 255); fill-opacity: 1; white-space: pre;\">3</text></g></g></g><g class=\"annotation\" data-index=\"47\" style=\"opacity: 1;\"><g class=\"annotation-text-g\" transform=\"rotate(0,485,248.5)\"><g class=\"cursor-pointer\" transform=\"translate(479, 240)\"><rect class=\"bg\" x=\"0.5\" y=\"0.5\" width=\"11\" height=\"17\" style=\"stroke-width: 1px; stroke: rgb(0, 0, 0); stroke-opacity: 0; fill: rgb(0, 0, 0); fill-opacity: 0;\"/><text class=\"annotation-text\" text-anchor=\"middle\" x=\"5.828125\" y=\"14\" style=\"font-family: 'Open Sans', verdana, arial, sans-serif; font-size: 12px; fill: rgb(255, 255, 255); fill-opacity: 1; white-space: pre;\">0</text></g></g></g><g class=\"annotation\" data-index=\"48\" style=\"opacity: 1;\"><g class=\"annotation-text-g\" transform=\"rotate(0,539,248.5)\"><g class=\"cursor-pointer\" transform=\"translate(533, 240)\"><rect class=\"bg\" x=\"0.5\" y=\"0.5\" width=\"11\" height=\"17\" style=\"stroke-width: 1px; stroke: rgb(0, 0, 0); stroke-opacity: 0; fill: rgb(0, 0, 0); fill-opacity: 0;\"/><text class=\"annotation-text\" text-anchor=\"middle\" x=\"5.828125\" y=\"14\" style=\"font-family: 'Open Sans', verdana, arial, sans-serif; font-size: 12px; fill: rgb(255, 255, 255); fill-opacity: 1; white-space: pre;\">3</text></g></g></g><g class=\"annotation\" data-index=\"49\" style=\"opacity: 1;\"><g class=\"annotation-text-g\" transform=\"rotate(0,593,248.5)\"><g class=\"cursor-pointer\" transform=\"translate(583, 240)\"><rect class=\"bg\" x=\"0.5\" y=\"0.5\" width=\"19\" height=\"17\" style=\"stroke-width: 1px; stroke: rgb(0, 0, 0); stroke-opacity: 0; fill: rgb(0, 0, 0); fill-opacity: 0;\"/><text class=\"annotation-text\" text-anchor=\"middle\" x=\"9.640625\" y=\"14\" style=\"font-family: 'Open Sans', verdana, arial, sans-serif; font-size: 12px; fill: rgb(255, 255, 255); fill-opacity: 1; white-space: pre;\">14</text></g></g></g><g class=\"annotation\" data-index=\"50\" style=\"opacity: 1;\"><g class=\"annotation-text-g\" transform=\"rotate(0,107,221.5)\"><g class=\"cursor-pointer\" transform=\"translate(101, 213)\"><rect class=\"bg\" x=\"0.5\" y=\"0.5\" width=\"11\" height=\"17\" style=\"stroke-width: 1px; stroke: rgb(0, 0, 0); stroke-opacity: 0; fill: rgb(0, 0, 0); fill-opacity: 0;\"/><text class=\"annotation-text\" text-anchor=\"middle\" x=\"5.828125\" y=\"14\" style=\"font-family: 'Open Sans', verdana, arial, sans-serif; font-size: 12px; fill: rgb(255, 255, 255); fill-opacity: 1; white-space: pre;\">3</text></g></g></g><g class=\"annotation\" data-index=\"51\" style=\"opacity: 1;\"><g class=\"annotation-text-g\" transform=\"rotate(0,161,221.5)\"><g class=\"cursor-pointer\" transform=\"translate(155, 213)\"><rect class=\"bg\" x=\"0.5\" y=\"0.5\" width=\"11\" height=\"17\" style=\"stroke-width: 1px; stroke: rgb(0, 0, 0); stroke-opacity: 0; fill: rgb(0, 0, 0); fill-opacity: 0;\"/><text class=\"annotation-text\" text-anchor=\"middle\" x=\"5.828125\" y=\"14\" style=\"font-family: 'Open Sans', verdana, arial, sans-serif; font-size: 12px; fill: rgb(255, 255, 255); fill-opacity: 1; white-space: pre;\">0</text></g></g></g><g class=\"annotation\" data-index=\"52\" style=\"opacity: 1;\"><g class=\"annotation-text-g\" transform=\"rotate(0,215,221.5)\"><g class=\"cursor-pointer\" transform=\"translate(209, 213)\"><rect class=\"bg\" x=\"0.5\" y=\"0.5\" width=\"11\" height=\"17\" style=\"stroke-width: 1px; stroke: rgb(0, 0, 0); stroke-opacity: 0; fill: rgb(0, 0, 0); fill-opacity: 0;\"/><text class=\"annotation-text\" text-anchor=\"middle\" x=\"5.828125\" y=\"14\" style=\"font-family: 'Open Sans', verdana, arial, sans-serif; font-size: 12px; fill: rgb(255, 255, 255); fill-opacity: 1; white-space: pre;\">0</text></g></g></g><g class=\"annotation\" data-index=\"53\" style=\"opacity: 1;\"><g class=\"annotation-text-g\" transform=\"rotate(0,269,221.5)\"><g class=\"cursor-pointer\" transform=\"translate(263, 213)\"><rect class=\"bg\" x=\"0.5\" y=\"0.5\" width=\"11\" height=\"17\" style=\"stroke-width: 1px; stroke: rgb(0, 0, 0); stroke-opacity: 0; fill: rgb(0, 0, 0); fill-opacity: 0;\"/><text class=\"annotation-text\" text-anchor=\"middle\" x=\"5.828125\" y=\"14\" style=\"font-family: 'Open Sans', verdana, arial, sans-serif; font-size: 12px; fill: rgb(255, 255, 255); fill-opacity: 1; white-space: pre;\">7</text></g></g></g><g class=\"annotation\" data-index=\"54\" style=\"opacity: 1;\"><g class=\"annotation-text-g\" transform=\"rotate(0,323,221.5)\"><g class=\"cursor-pointer\" transform=\"translate(317, 213)\"><rect class=\"bg\" x=\"0.5\" y=\"0.5\" width=\"11\" height=\"17\" style=\"stroke-width: 1px; stroke: rgb(0, 0, 0); stroke-opacity: 0; fill: rgb(0, 0, 0); fill-opacity: 0;\"/><text class=\"annotation-text\" text-anchor=\"middle\" x=\"5.828125\" y=\"14\" style=\"font-family: 'Open Sans', verdana, arial, sans-serif; font-size: 12px; fill: rgb(255, 255, 255); fill-opacity: 1; white-space: pre;\">0</text></g></g></g><g class=\"annotation\" data-index=\"55\" style=\"opacity: 1;\"><g class=\"annotation-text-g\" transform=\"rotate(0,377,221.5)\"><g class=\"cursor-pointer\" transform=\"translate(364, 213)\"><rect class=\"bg\" x=\"0.5\" y=\"0.5\" width=\"26\" height=\"17\" style=\"stroke-width: 1px; stroke: rgb(0, 0, 0); stroke-opacity: 0; fill: rgb(0, 0, 0); fill-opacity: 0;\"/><text class=\"annotation-text\" text-anchor=\"middle\" x=\"13.453125\" y=\"14\" style=\"font-family: 'Open Sans', verdana, arial, sans-serif; font-size: 12px; fill: rgb(0, 0, 0); fill-opacity: 1; white-space: pre;\">873</text></g></g></g><g class=\"annotation\" data-index=\"56\" style=\"opacity: 1;\"><g class=\"annotation-text-g\" transform=\"rotate(0,431,221.5)\"><g class=\"cursor-pointer\" transform=\"translate(425, 213)\"><rect class=\"bg\" x=\"0.5\" y=\"0.5\" width=\"11\" height=\"17\" style=\"stroke-width: 1px; stroke: rgb(0, 0, 0); stroke-opacity: 0; fill: rgb(0, 0, 0); fill-opacity: 0;\"/><text class=\"annotation-text\" text-anchor=\"middle\" x=\"5.828125\" y=\"14\" style=\"font-family: 'Open Sans', verdana, arial, sans-serif; font-size: 12px; fill: rgb(255, 255, 255); fill-opacity: 1; white-space: pre;\">5</text></g></g></g><g class=\"annotation\" data-index=\"57\" style=\"opacity: 1;\"><g class=\"annotation-text-g\" transform=\"rotate(0,485,221.5)\"><g class=\"cursor-pointer\" transform=\"translate(479, 213)\"><rect class=\"bg\" x=\"0.5\" y=\"0.5\" width=\"11\" height=\"17\" style=\"stroke-width: 1px; stroke: rgb(0, 0, 0); stroke-opacity: 0; fill: rgb(0, 0, 0); fill-opacity: 0;\"/><text class=\"annotation-text\" text-anchor=\"middle\" x=\"5.828125\" y=\"14\" style=\"font-family: 'Open Sans', verdana, arial, sans-serif; font-size: 12px; fill: rgb(255, 255, 255); fill-opacity: 1; white-space: pre;\">0</text></g></g></g><g class=\"annotation\" data-index=\"58\" style=\"opacity: 1;\"><g class=\"annotation-text-g\" transform=\"rotate(0,539,221.5)\"><g class=\"cursor-pointer\" transform=\"translate(533, 213)\"><rect class=\"bg\" x=\"0.5\" y=\"0.5\" width=\"11\" height=\"17\" style=\"stroke-width: 1px; stroke: rgb(0, 0, 0); stroke-opacity: 0; fill: rgb(0, 0, 0); fill-opacity: 0;\"/><text class=\"annotation-text\" text-anchor=\"middle\" x=\"5.828125\" y=\"14\" style=\"font-family: 'Open Sans', verdana, arial, sans-serif; font-size: 12px; fill: rgb(255, 255, 255); fill-opacity: 1; white-space: pre;\">2</text></g></g></g><g class=\"annotation\" data-index=\"59\" style=\"opacity: 1;\"><g class=\"annotation-text-g\" transform=\"rotate(0,593,221.5)\"><g class=\"cursor-pointer\" transform=\"translate(587, 213)\"><rect class=\"bg\" x=\"0.5\" y=\"0.5\" width=\"11\" height=\"17\" style=\"stroke-width: 1px; stroke: rgb(0, 0, 0); stroke-opacity: 0; fill: rgb(0, 0, 0); fill-opacity: 0;\"/><text class=\"annotation-text\" text-anchor=\"middle\" x=\"5.828125\" y=\"14\" style=\"font-family: 'Open Sans', verdana, arial, sans-serif; font-size: 12px; fill: rgb(255, 255, 255); fill-opacity: 1; white-space: pre;\">2</text></g></g></g><g class=\"annotation\" data-index=\"60\" style=\"opacity: 1;\"><g class=\"annotation-text-g\" transform=\"rotate(0,107,194.5)\"><g class=\"cursor-pointer\" transform=\"translate(101, 186)\"><rect class=\"bg\" x=\"0.5\" y=\"0.5\" width=\"11\" height=\"17\" style=\"stroke-width: 1px; stroke: rgb(0, 0, 0); stroke-opacity: 0; fill: rgb(0, 0, 0); fill-opacity: 0;\"/><text class=\"annotation-text\" text-anchor=\"middle\" x=\"5.828125\" y=\"14\" style=\"font-family: 'Open Sans', verdana, arial, sans-serif; font-size: 12px; fill: rgb(255, 255, 255); fill-opacity: 1; white-space: pre;\">5</text></g></g></g><g class=\"annotation\" data-index=\"61\" style=\"opacity: 1;\"><g class=\"annotation-text-g\" transform=\"rotate(0,161,194.5)\"><g class=\"cursor-pointer\" transform=\"translate(155, 186)\"><rect class=\"bg\" x=\"0.5\" y=\"0.5\" width=\"11\" height=\"17\" style=\"stroke-width: 1px; stroke: rgb(0, 0, 0); stroke-opacity: 0; fill: rgb(0, 0, 0); fill-opacity: 0;\"/><text class=\"annotation-text\" text-anchor=\"middle\" x=\"5.828125\" y=\"14\" style=\"font-family: 'Open Sans', verdana, arial, sans-serif; font-size: 12px; fill: rgb(255, 255, 255); fill-opacity: 1; white-space: pre;\">4</text></g></g></g><g class=\"annotation\" data-index=\"62\" style=\"opacity: 1;\"><g class=\"annotation-text-g\" transform=\"rotate(0,215,194.5)\"><g class=\"cursor-pointer\" transform=\"translate(209, 186)\"><rect class=\"bg\" x=\"0.5\" y=\"0.5\" width=\"11\" height=\"17\" style=\"stroke-width: 1px; stroke: rgb(0, 0, 0); stroke-opacity: 0; fill: rgb(0, 0, 0); fill-opacity: 0;\"/><text class=\"annotation-text\" text-anchor=\"middle\" x=\"5.828125\" y=\"14\" style=\"font-family: 'Open Sans', verdana, arial, sans-serif; font-size: 12px; fill: rgb(255, 255, 255); fill-opacity: 1; white-space: pre;\">1</text></g></g></g><g class=\"annotation\" data-index=\"63\" style=\"opacity: 1;\"><g class=\"annotation-text-g\" transform=\"rotate(0,269,194.5)\"><g class=\"cursor-pointer\" transform=\"translate(263, 186)\"><rect class=\"bg\" x=\"0.5\" y=\"0.5\" width=\"11\" height=\"17\" style=\"stroke-width: 1px; stroke: rgb(0, 0, 0); stroke-opacity: 0; fill: rgb(0, 0, 0); fill-opacity: 0;\"/><text class=\"annotation-text\" text-anchor=\"middle\" x=\"5.828125\" y=\"14\" style=\"font-family: 'Open Sans', verdana, arial, sans-serif; font-size: 12px; fill: rgb(255, 255, 255); fill-opacity: 1; white-space: pre;\">0</text></g></g></g><g class=\"annotation\" data-index=\"64\" style=\"opacity: 1;\"><g class=\"annotation-text-g\" transform=\"rotate(0,323,194.5)\"><g class=\"cursor-pointer\" transform=\"translate(317, 186)\"><rect class=\"bg\" x=\"0.5\" y=\"0.5\" width=\"11\" height=\"17\" style=\"stroke-width: 1px; stroke: rgb(0, 0, 0); stroke-opacity: 0; fill: rgb(0, 0, 0); fill-opacity: 0;\"/><text class=\"annotation-text\" text-anchor=\"middle\" x=\"5.828125\" y=\"14\" style=\"font-family: 'Open Sans', verdana, arial, sans-serif; font-size: 12px; fill: rgb(255, 255, 255); fill-opacity: 1; white-space: pre;\">1</text></g></g></g><g class=\"annotation\" data-index=\"65\" style=\"opacity: 1;\"><g class=\"annotation-text-g\" transform=\"rotate(0,377,194.5)\"><g class=\"cursor-pointer\" transform=\"translate(371, 186)\"><rect class=\"bg\" x=\"0.5\" y=\"0.5\" width=\"11\" height=\"17\" style=\"stroke-width: 1px; stroke: rgb(0, 0, 0); stroke-opacity: 0; fill: rgb(0, 0, 0); fill-opacity: 0;\"/><text class=\"annotation-text\" text-anchor=\"middle\" x=\"5.828125\" y=\"14\" style=\"font-family: 'Open Sans', verdana, arial, sans-serif; font-size: 12px; fill: rgb(255, 255, 255); fill-opacity: 1; white-space: pre;\">1</text></g></g></g><g class=\"annotation\" data-index=\"66\" style=\"opacity: 1;\"><g class=\"annotation-text-g\" transform=\"rotate(0,431,194.5)\"><g class=\"cursor-pointer\" transform=\"translate(418, 186)\"><rect class=\"bg\" x=\"0.5\" y=\"0.5\" width=\"26\" height=\"17\" style=\"stroke-width: 1px; stroke: rgb(0, 0, 0); stroke-opacity: 0; fill: rgb(0, 0, 0); fill-opacity: 0;\"/><text class=\"annotation-text\" text-anchor=\"middle\" x=\"13.453125\" y=\"14\" style=\"font-family: 'Open Sans', verdana, arial, sans-serif; font-size: 12px; fill: rgb(0, 0, 0); fill-opacity: 1; white-space: pre;\">943</text></g></g></g><g class=\"annotation\" data-index=\"67\" style=\"opacity: 1;\"><g class=\"annotation-text-g\" transform=\"rotate(0,485,194.5)\"><g class=\"cursor-pointer\" transform=\"translate(479, 186)\"><rect class=\"bg\" x=\"0.5\" y=\"0.5\" width=\"11\" height=\"17\" style=\"stroke-width: 1px; stroke: rgb(0, 0, 0); stroke-opacity: 0; fill: rgb(0, 0, 0); fill-opacity: 0;\"/><text class=\"annotation-text\" text-anchor=\"middle\" x=\"5.828125\" y=\"14\" style=\"font-family: 'Open Sans', verdana, arial, sans-serif; font-size: 12px; fill: rgb(255, 255, 255); fill-opacity: 1; white-space: pre;\">0</text></g></g></g><g class=\"annotation\" data-index=\"68\" style=\"opacity: 1;\"><g class=\"annotation-text-g\" transform=\"rotate(0,539,194.5)\"><g class=\"cursor-pointer\" transform=\"translate(533, 186)\"><rect class=\"bg\" x=\"0.5\" y=\"0.5\" width=\"11\" height=\"17\" style=\"stroke-width: 1px; stroke: rgb(0, 0, 0); stroke-opacity: 0; fill: rgb(0, 0, 0); fill-opacity: 0;\"/><text class=\"annotation-text\" text-anchor=\"middle\" x=\"5.828125\" y=\"14\" style=\"font-family: 'Open Sans', verdana, arial, sans-serif; font-size: 12px; fill: rgb(255, 255, 255); fill-opacity: 1; white-space: pre;\">3</text></g></g></g><g class=\"annotation\" data-index=\"69\" style=\"opacity: 1;\"><g class=\"annotation-text-g\" transform=\"rotate(0,593,194.5)\"><g class=\"cursor-pointer\" transform=\"translate(587, 186)\"><rect class=\"bg\" x=\"0.5\" y=\"0.5\" width=\"11\" height=\"17\" style=\"stroke-width: 1px; stroke: rgb(0, 0, 0); stroke-opacity: 0; fill: rgb(0, 0, 0); fill-opacity: 0;\"/><text class=\"annotation-text\" text-anchor=\"middle\" x=\"5.828125\" y=\"14\" style=\"font-family: 'Open Sans', verdana, arial, sans-serif; font-size: 12px; fill: rgb(255, 255, 255); fill-opacity: 1; white-space: pre;\">0</text></g></g></g><g class=\"annotation\" data-index=\"70\" style=\"opacity: 1;\"><g class=\"annotation-text-g\" transform=\"rotate(0,107,167.5)\"><g class=\"cursor-pointer\" transform=\"translate(101, 159)\"><rect class=\"bg\" x=\"0.5\" y=\"0.5\" width=\"11\" height=\"17\" style=\"stroke-width: 1px; stroke: rgb(0, 0, 0); stroke-opacity: 0; fill: rgb(0, 0, 0); fill-opacity: 0;\"/><text class=\"annotation-text\" text-anchor=\"middle\" x=\"5.828125\" y=\"14\" style=\"font-family: 'Open Sans', verdana, arial, sans-serif; font-size: 12px; fill: rgb(255, 255, 255); fill-opacity: 1; white-space: pre;\">0</text></g></g></g><g class=\"annotation\" data-index=\"71\" style=\"opacity: 1;\"><g class=\"annotation-text-g\" transform=\"rotate(0,161,167.5)\"><g class=\"cursor-pointer\" transform=\"translate(155, 159)\"><rect class=\"bg\" x=\"0.5\" y=\"0.5\" width=\"11\" height=\"17\" style=\"stroke-width: 1px; stroke: rgb(0, 0, 0); stroke-opacity: 0; fill: rgb(0, 0, 0); fill-opacity: 0;\"/><text class=\"annotation-text\" text-anchor=\"middle\" x=\"5.828125\" y=\"14\" style=\"font-family: 'Open Sans', verdana, arial, sans-serif; font-size: 12px; fill: rgb(255, 255, 255); fill-opacity: 1; white-space: pre;\">0</text></g></g></g><g class=\"annotation\" data-index=\"72\" style=\"opacity: 1;\"><g class=\"annotation-text-g\" transform=\"rotate(0,215,167.5)\"><g class=\"cursor-pointer\" transform=\"translate(209, 159)\"><rect class=\"bg\" x=\"0.5\" y=\"0.5\" width=\"11\" height=\"17\" style=\"stroke-width: 1px; stroke: rgb(0, 0, 0); stroke-opacity: 0; fill: rgb(0, 0, 0); fill-opacity: 0;\"/><text class=\"annotation-text\" text-anchor=\"middle\" x=\"5.828125\" y=\"14\" style=\"font-family: 'Open Sans', verdana, arial, sans-serif; font-size: 12px; fill: rgb(255, 255, 255); fill-opacity: 1; white-space: pre;\">3</text></g></g></g><g class=\"annotation\" data-index=\"73\" style=\"opacity: 1;\"><g class=\"annotation-text-g\" transform=\"rotate(0,269,167.5)\"><g class=\"cursor-pointer\" transform=\"translate(263, 159)\"><rect class=\"bg\" x=\"0.5\" y=\"0.5\" width=\"11\" height=\"17\" style=\"stroke-width: 1px; stroke: rgb(0, 0, 0); stroke-opacity: 0; fill: rgb(0, 0, 0); fill-opacity: 0;\"/><text class=\"annotation-text\" text-anchor=\"middle\" x=\"5.828125\" y=\"14\" style=\"font-family: 'Open Sans', verdana, arial, sans-serif; font-size: 12px; fill: rgb(255, 255, 255); fill-opacity: 1; white-space: pre;\">0</text></g></g></g><g class=\"annotation\" data-index=\"74\" style=\"opacity: 1;\"><g class=\"annotation-text-g\" transform=\"rotate(0,323,167.5)\"><g class=\"cursor-pointer\" transform=\"translate(317, 159)\"><rect class=\"bg\" x=\"0.5\" y=\"0.5\" width=\"11\" height=\"17\" style=\"stroke-width: 1px; stroke: rgb(0, 0, 0); stroke-opacity: 0; fill: rgb(0, 0, 0); fill-opacity: 0;\"/><text class=\"annotation-text\" text-anchor=\"middle\" x=\"5.828125\" y=\"14\" style=\"font-family: 'Open Sans', verdana, arial, sans-serif; font-size: 12px; fill: rgb(255, 255, 255); fill-opacity: 1; white-space: pre;\">0</text></g></g></g><g class=\"annotation\" data-index=\"75\" style=\"opacity: 1;\"><g class=\"annotation-text-g\" transform=\"rotate(0,377,167.5)\"><g class=\"cursor-pointer\" transform=\"translate(371, 159)\"><rect class=\"bg\" x=\"0.5\" y=\"0.5\" width=\"11\" height=\"17\" style=\"stroke-width: 1px; stroke: rgb(0, 0, 0); stroke-opacity: 0; fill: rgb(0, 0, 0); fill-opacity: 0;\"/><text class=\"annotation-text\" text-anchor=\"middle\" x=\"5.828125\" y=\"14\" style=\"font-family: 'Open Sans', verdana, arial, sans-serif; font-size: 12px; fill: rgb(255, 255, 255); fill-opacity: 1; white-space: pre;\">0</text></g></g></g><g class=\"annotation\" data-index=\"76\" style=\"opacity: 1;\"><g class=\"annotation-text-g\" transform=\"rotate(0,431,167.5)\"><g class=\"cursor-pointer\" transform=\"translate(425, 159)\"><rect class=\"bg\" x=\"0.5\" y=\"0.5\" width=\"11\" height=\"17\" style=\"stroke-width: 1px; stroke: rgb(0, 0, 0); stroke-opacity: 0; fill: rgb(0, 0, 0); fill-opacity: 0;\"/><text class=\"annotation-text\" text-anchor=\"middle\" x=\"5.828125\" y=\"14\" style=\"font-family: 'Open Sans', verdana, arial, sans-serif; font-size: 12px; fill: rgb(255, 255, 255); fill-opacity: 1; white-space: pre;\">0</text></g></g></g><g class=\"annotation\" data-index=\"77\" style=\"opacity: 1;\"><g class=\"annotation-text-g\" transform=\"rotate(0,485,167.5)\"><g class=\"cursor-pointer\" transform=\"translate(468, 159)\"><rect class=\"bg\" x=\"0.5\" y=\"0.5\" width=\"34\" height=\"17\" style=\"stroke-width: 1px; stroke: rgb(0, 0, 0); stroke-opacity: 0; fill: rgb(0, 0, 0); fill-opacity: 0;\"/><text class=\"annotation-text\" text-anchor=\"middle\" x=\"17.265625\" y=\"14\" style=\"font-family: 'Open Sans', verdana, arial, sans-serif; font-size: 12px; fill: rgb(0, 0, 0); fill-opacity: 1; white-space: pre;\">1019</text></g></g></g><g class=\"annotation\" data-index=\"78\" style=\"opacity: 1;\"><g class=\"annotation-text-g\" transform=\"rotate(0,539,167.5)\"><g class=\"cursor-pointer\" transform=\"translate(533, 159)\"><rect class=\"bg\" x=\"0.5\" y=\"0.5\" width=\"11\" height=\"17\" style=\"stroke-width: 1px; stroke: rgb(0, 0, 0); stroke-opacity: 0; fill: rgb(0, 0, 0); fill-opacity: 0;\"/><text class=\"annotation-text\" text-anchor=\"middle\" x=\"5.828125\" y=\"14\" style=\"font-family: 'Open Sans', verdana, arial, sans-serif; font-size: 12px; fill: rgb(255, 255, 255); fill-opacity: 1; white-space: pre;\">1</text></g></g></g><g class=\"annotation\" data-index=\"79\" style=\"opacity: 1;\"><g class=\"annotation-text-g\" transform=\"rotate(0,593,167.5)\"><g class=\"cursor-pointer\" transform=\"translate(587, 159)\"><rect class=\"bg\" x=\"0.5\" y=\"0.5\" width=\"11\" height=\"17\" style=\"stroke-width: 1px; stroke: rgb(0, 0, 0); stroke-opacity: 0; fill: rgb(0, 0, 0); fill-opacity: 0;\"/><text class=\"annotation-text\" text-anchor=\"middle\" x=\"5.828125\" y=\"14\" style=\"font-family: 'Open Sans', verdana, arial, sans-serif; font-size: 12px; fill: rgb(255, 255, 255); fill-opacity: 1; white-space: pre;\">5</text></g></g></g><g class=\"annotation\" data-index=\"80\" style=\"opacity: 1;\"><g class=\"annotation-text-g\" transform=\"rotate(0,107,140.5)\"><g class=\"cursor-pointer\" transform=\"translate(101, 132)\"><rect class=\"bg\" x=\"0.5\" y=\"0.5\" width=\"11\" height=\"17\" style=\"stroke-width: 1px; stroke: rgb(0, 0, 0); stroke-opacity: 0; fill: rgb(0, 0, 0); fill-opacity: 0;\"/><text class=\"annotation-text\" text-anchor=\"middle\" x=\"5.828125\" y=\"14\" style=\"font-family: 'Open Sans', verdana, arial, sans-serif; font-size: 12px; fill: rgb(255, 255, 255); fill-opacity: 1; white-space: pre;\">2</text></g></g></g><g class=\"annotation\" data-index=\"81\" style=\"opacity: 1;\"><g class=\"annotation-text-g\" transform=\"rotate(0,161,140.5)\"><g class=\"cursor-pointer\" transform=\"translate(155, 132)\"><rect class=\"bg\" x=\"0.5\" y=\"0.5\" width=\"11\" height=\"17\" style=\"stroke-width: 1px; stroke: rgb(0, 0, 0); stroke-opacity: 0; fill: rgb(0, 0, 0); fill-opacity: 0;\"/><text class=\"annotation-text\" text-anchor=\"middle\" x=\"5.828125\" y=\"14\" style=\"font-family: 'Open Sans', verdana, arial, sans-serif; font-size: 12px; fill: rgb(255, 255, 255); fill-opacity: 1; white-space: pre;\">0</text></g></g></g><g class=\"annotation\" data-index=\"82\" style=\"opacity: 1;\"><g class=\"annotation-text-g\" transform=\"rotate(0,215,140.5)\"><g class=\"cursor-pointer\" transform=\"translate(209, 132)\"><rect class=\"bg\" x=\"0.5\" y=\"0.5\" width=\"11\" height=\"17\" style=\"stroke-width: 1px; stroke: rgb(0, 0, 0); stroke-opacity: 0; fill: rgb(0, 0, 0); fill-opacity: 0;\"/><text class=\"annotation-text\" text-anchor=\"middle\" x=\"5.828125\" y=\"14\" style=\"font-family: 'Open Sans', verdana, arial, sans-serif; font-size: 12px; fill: rgb(255, 255, 255); fill-opacity: 1; white-space: pre;\">3</text></g></g></g><g class=\"annotation\" data-index=\"83\" style=\"opacity: 1;\"><g class=\"annotation-text-g\" transform=\"rotate(0,269,140.5)\"><g class=\"cursor-pointer\" transform=\"translate(263, 132)\"><rect class=\"bg\" x=\"0.5\" y=\"0.5\" width=\"11\" height=\"17\" style=\"stroke-width: 1px; stroke: rgb(0, 0, 0); stroke-opacity: 0; fill: rgb(0, 0, 0); fill-opacity: 0;\"/><text class=\"annotation-text\" text-anchor=\"middle\" x=\"5.828125\" y=\"14\" style=\"font-family: 'Open Sans', verdana, arial, sans-serif; font-size: 12px; fill: rgb(255, 255, 255); fill-opacity: 1; white-space: pre;\">0</text></g></g></g><g class=\"annotation\" data-index=\"84\" style=\"opacity: 1;\"><g class=\"annotation-text-g\" transform=\"rotate(0,323,140.5)\"><g class=\"cursor-pointer\" transform=\"translate(317, 132)\"><rect class=\"bg\" x=\"0.5\" y=\"0.5\" width=\"11\" height=\"17\" style=\"stroke-width: 1px; stroke: rgb(0, 0, 0); stroke-opacity: 0; fill: rgb(0, 0, 0); fill-opacity: 0;\"/><text class=\"annotation-text\" text-anchor=\"middle\" x=\"5.828125\" y=\"14\" style=\"font-family: 'Open Sans', verdana, arial, sans-serif; font-size: 12px; fill: rgb(255, 255, 255); fill-opacity: 1; white-space: pre;\">0</text></g></g></g><g class=\"annotation\" data-index=\"85\" style=\"opacity: 1;\"><g class=\"annotation-text-g\" transform=\"rotate(0,377,140.5)\"><g class=\"cursor-pointer\" transform=\"translate(371, 132)\"><rect class=\"bg\" x=\"0.5\" y=\"0.5\" width=\"11\" height=\"17\" style=\"stroke-width: 1px; stroke: rgb(0, 0, 0); stroke-opacity: 0; fill: rgb(0, 0, 0); fill-opacity: 0;\"/><text class=\"annotation-text\" text-anchor=\"middle\" x=\"5.828125\" y=\"14\" style=\"font-family: 'Open Sans', verdana, arial, sans-serif; font-size: 12px; fill: rgb(255, 255, 255); fill-opacity: 1; white-space: pre;\">0</text></g></g></g><g class=\"annotation\" data-index=\"86\" style=\"opacity: 1;\"><g class=\"annotation-text-g\" transform=\"rotate(0,431,140.5)\"><g class=\"cursor-pointer\" transform=\"translate(425, 132)\"><rect class=\"bg\" x=\"0.5\" y=\"0.5\" width=\"11\" height=\"17\" style=\"stroke-width: 1px; stroke: rgb(0, 0, 0); stroke-opacity: 0; fill: rgb(0, 0, 0); fill-opacity: 0;\"/><text class=\"annotation-text\" text-anchor=\"middle\" x=\"5.828125\" y=\"14\" style=\"font-family: 'Open Sans', verdana, arial, sans-serif; font-size: 12px; fill: rgb(255, 255, 255); fill-opacity: 1; white-space: pre;\">0</text></g></g></g><g class=\"annotation\" data-index=\"87\" style=\"opacity: 1;\"><g class=\"annotation-text-g\" transform=\"rotate(0,485,140.5)\"><g class=\"cursor-pointer\" transform=\"translate(479, 132)\"><rect class=\"bg\" x=\"0.5\" y=\"0.5\" width=\"11\" height=\"17\" style=\"stroke-width: 1px; stroke: rgb(0, 0, 0); stroke-opacity: 0; fill: rgb(0, 0, 0); fill-opacity: 0;\"/><text class=\"annotation-text\" text-anchor=\"middle\" x=\"5.828125\" y=\"14\" style=\"font-family: 'Open Sans', verdana, arial, sans-serif; font-size: 12px; fill: rgb(255, 255, 255); fill-opacity: 1; white-space: pre;\">1</text></g></g></g><g class=\"annotation\" data-index=\"88\" style=\"opacity: 1;\"><g class=\"annotation-text-g\" transform=\"rotate(0,539,140.5)\"><g class=\"cursor-pointer\" transform=\"translate(526, 132)\"><rect class=\"bg\" x=\"0.5\" y=\"0.5\" width=\"26\" height=\"17\" style=\"stroke-width: 1px; stroke: rgb(0, 0, 0); stroke-opacity: 0; fill: rgb(0, 0, 0); fill-opacity: 0;\"/><text class=\"annotation-text\" text-anchor=\"middle\" x=\"13.453125\" y=\"14\" style=\"font-family: 'Open Sans', verdana, arial, sans-serif; font-size: 12px; fill: rgb(0, 0, 0); fill-opacity: 1; white-space: pre;\">962</text></g></g></g><g class=\"annotation\" data-index=\"89\" style=\"opacity: 1;\"><g class=\"annotation-text-g\" transform=\"rotate(0,593,140.5)\"><g class=\"cursor-pointer\" transform=\"translate(587, 132)\"><rect class=\"bg\" x=\"0.5\" y=\"0.5\" width=\"11\" height=\"17\" style=\"stroke-width: 1px; stroke: rgb(0, 0, 0); stroke-opacity: 0; fill: rgb(0, 0, 0); fill-opacity: 0;\"/><text class=\"annotation-text\" text-anchor=\"middle\" x=\"5.828125\" y=\"14\" style=\"font-family: 'Open Sans', verdana, arial, sans-serif; font-size: 12px; fill: rgb(255, 255, 255); fill-opacity: 1; white-space: pre;\">6</text></g></g></g><g class=\"annotation\" data-index=\"90\" style=\"opacity: 1;\"><g class=\"annotation-text-g\" transform=\"rotate(0,107,113.5)\"><g class=\"cursor-pointer\" transform=\"translate(101, 105)\"><rect class=\"bg\" x=\"0.5\" y=\"0.5\" width=\"11\" height=\"17\" style=\"stroke-width: 1px; stroke: rgb(0, 0, 0); stroke-opacity: 0; fill: rgb(0, 0, 0); fill-opacity: 0;\"/><text class=\"annotation-text\" text-anchor=\"middle\" x=\"5.828125\" y=\"14\" style=\"font-family: 'Open Sans', verdana, arial, sans-serif; font-size: 12px; fill: rgb(255, 255, 255); fill-opacity: 1; white-space: pre;\">1</text></g></g></g><g class=\"annotation\" data-index=\"91\" style=\"opacity: 1;\"><g class=\"annotation-text-g\" transform=\"rotate(0,161,113.5)\"><g class=\"cursor-pointer\" transform=\"translate(155, 105)\"><rect class=\"bg\" x=\"0.5\" y=\"0.5\" width=\"11\" height=\"17\" style=\"stroke-width: 1px; stroke: rgb(0, 0, 0); stroke-opacity: 0; fill: rgb(0, 0, 0); fill-opacity: 0;\"/><text class=\"annotation-text\" text-anchor=\"middle\" x=\"5.828125\" y=\"14\" style=\"font-family: 'Open Sans', verdana, arial, sans-serif; font-size: 12px; fill: rgb(255, 255, 255); fill-opacity: 1; white-space: pre;\">1</text></g></g></g><g class=\"annotation\" data-index=\"92\" style=\"opacity: 1;\"><g class=\"annotation-text-g\" transform=\"rotate(0,215,113.5)\"><g class=\"cursor-pointer\" transform=\"translate(209, 105)\"><rect class=\"bg\" x=\"0.5\" y=\"0.5\" width=\"11\" height=\"17\" style=\"stroke-width: 1px; stroke: rgb(0, 0, 0); stroke-opacity: 0; fill: rgb(0, 0, 0); fill-opacity: 0;\"/><text class=\"annotation-text\" text-anchor=\"middle\" x=\"5.828125\" y=\"14\" style=\"font-family: 'Open Sans', verdana, arial, sans-serif; font-size: 12px; fill: rgb(255, 255, 255); fill-opacity: 1; white-space: pre;\">0</text></g></g></g><g class=\"annotation\" data-index=\"93\" style=\"opacity: 1;\"><g class=\"annotation-text-g\" transform=\"rotate(0,269,113.5)\"><g class=\"cursor-pointer\" transform=\"translate(263, 105)\"><rect class=\"bg\" x=\"0.5\" y=\"0.5\" width=\"11\" height=\"17\" style=\"stroke-width: 1px; stroke: rgb(0, 0, 0); stroke-opacity: 0; fill: rgb(0, 0, 0); fill-opacity: 0;\"/><text class=\"annotation-text\" text-anchor=\"middle\" x=\"5.828125\" y=\"14\" style=\"font-family: 'Open Sans', verdana, arial, sans-serif; font-size: 12px; fill: rgb(255, 255, 255); fill-opacity: 1; white-space: pre;\">0</text></g></g></g><g class=\"annotation\" data-index=\"94\" style=\"opacity: 1;\"><g class=\"annotation-text-g\" transform=\"rotate(0,323,113.5)\"><g class=\"cursor-pointer\" transform=\"translate(317, 105)\"><rect class=\"bg\" x=\"0.5\" y=\"0.5\" width=\"11\" height=\"17\" style=\"stroke-width: 1px; stroke: rgb(0, 0, 0); stroke-opacity: 0; fill: rgb(0, 0, 0); fill-opacity: 0;\"/><text class=\"annotation-text\" text-anchor=\"middle\" x=\"5.828125\" y=\"14\" style=\"font-family: 'Open Sans', verdana, arial, sans-serif; font-size: 12px; fill: rgb(255, 255, 255); fill-opacity: 1; white-space: pre;\">2</text></g></g></g><g class=\"annotation\" data-index=\"95\" style=\"opacity: 1;\"><g class=\"annotation-text-g\" transform=\"rotate(0,377,113.5)\"><g class=\"cursor-pointer\" transform=\"translate(371, 105)\"><rect class=\"bg\" x=\"0.5\" y=\"0.5\" width=\"11\" height=\"17\" style=\"stroke-width: 1px; stroke: rgb(0, 0, 0); stroke-opacity: 0; fill: rgb(0, 0, 0); fill-opacity: 0;\"/><text class=\"annotation-text\" text-anchor=\"middle\" x=\"5.828125\" y=\"14\" style=\"font-family: 'Open Sans', verdana, arial, sans-serif; font-size: 12px; fill: rgb(255, 255, 255); fill-opacity: 1; white-space: pre;\">2</text></g></g></g><g class=\"annotation\" data-index=\"96\" style=\"opacity: 1;\"><g class=\"annotation-text-g\" transform=\"rotate(0,431,113.5)\"><g class=\"cursor-pointer\" transform=\"translate(425, 105)\"><rect class=\"bg\" x=\"0.5\" y=\"0.5\" width=\"11\" height=\"17\" style=\"stroke-width: 1px; stroke: rgb(0, 0, 0); stroke-opacity: 0; fill: rgb(0, 0, 0); fill-opacity: 0;\"/><text class=\"annotation-text\" text-anchor=\"middle\" x=\"5.828125\" y=\"14\" style=\"font-family: 'Open Sans', verdana, arial, sans-serif; font-size: 12px; fill: rgb(255, 255, 255); fill-opacity: 1; white-space: pre;\">0</text></g></g></g><g class=\"annotation\" data-index=\"97\" style=\"opacity: 1;\"><g class=\"annotation-text-g\" transform=\"rotate(0,485,113.5)\"><g class=\"cursor-pointer\" transform=\"translate(479, 105)\"><rect class=\"bg\" x=\"0.5\" y=\"0.5\" width=\"11\" height=\"17\" style=\"stroke-width: 1px; stroke: rgb(0, 0, 0); stroke-opacity: 0; fill: rgb(0, 0, 0); fill-opacity: 0;\"/><text class=\"annotation-text\" text-anchor=\"middle\" x=\"5.828125\" y=\"14\" style=\"font-family: 'Open Sans', verdana, arial, sans-serif; font-size: 12px; fill: rgb(255, 255, 255); fill-opacity: 1; white-space: pre;\">2</text></g></g></g><g class=\"annotation\" data-index=\"98\" style=\"opacity: 1;\"><g class=\"annotation-text-g\" transform=\"rotate(0,539,113.5)\"><g class=\"cursor-pointer\" transform=\"translate(533, 105)\"><rect class=\"bg\" x=\"0.5\" y=\"0.5\" width=\"11\" height=\"17\" style=\"stroke-width: 1px; stroke: rgb(0, 0, 0); stroke-opacity: 0; fill: rgb(0, 0, 0); fill-opacity: 0;\"/><text class=\"annotation-text\" text-anchor=\"middle\" x=\"5.828125\" y=\"14\" style=\"font-family: 'Open Sans', verdana, arial, sans-serif; font-size: 12px; fill: rgb(255, 255, 255); fill-opacity: 1; white-space: pre;\">2</text></g></g></g><g class=\"annotation\" data-index=\"99\" style=\"opacity: 1;\"><g class=\"annotation-text-g\" transform=\"rotate(0,593,113.5)\"><g class=\"cursor-pointer\" transform=\"translate(580, 105)\"><rect class=\"bg\" x=\"0.5\" y=\"0.5\" width=\"26\" height=\"17\" style=\"stroke-width: 1px; stroke: rgb(0, 0, 0); stroke-opacity: 0; fill: rgb(0, 0, 0); fill-opacity: 0;\"/><text class=\"annotation-text\" text-anchor=\"middle\" x=\"13.453125\" y=\"14\" style=\"font-family: 'Open Sans', verdana, arial, sans-serif; font-size: 12px; fill: rgb(0, 0, 0); fill-opacity: 1; white-space: pre;\">999</text></g></g></g></g></svg>"
      ]
     },
     "metadata": {},
     "output_type": "display_data"
    }
   ],
   "source": [
    "import plotly.figure_factory as ff\n",
    "fig = ff.create_annotated_heatmap(confusion_matrix(y_test,predictions),x=[0,1,2,3,4,5,6,7,8,9],y=[0,1,2,3,4,5,6,7,8,9])\n",
    "fig.show(\"svg\")          "
   ]
  },
  {
   "cell_type": "code",
   "execution_count": 62,
   "metadata": {},
   "outputs": [],
   "source": [
    "my_number = X_test[0]"
   ]
  },
  {
   "cell_type": "code",
   "execution_count": 63,
   "metadata": {},
   "outputs": [
    {
     "data": {
      "text/plain": [
       "<matplotlib.image.AxesImage at 0x28381ca3a88>"
      ]
     },
     "execution_count": 63,
     "metadata": {},
     "output_type": "execute_result"
    },
    {
     "data": {
      "image/png": "[encoded data removed]",
      "text/plain": [
       "<Figure size 432x288 with 1 Axes>"
      ]
     },
     "metadata": {
      "needs_background": "light"
     },
     "output_type": "display_data"
    }
   ],
   "source": [
    "plt.imshow(my_number.reshape(28,28),cmap='gray')"
   ]
  },
  {
   "cell_type": "code",
   "execution_count": 64,
   "metadata": {},
   "outputs": [
    {
     "data": {
      "text/plain": [
       "array([7], dtype=int64)"
      ]
     },
     "execution_count": 64,
     "metadata": {},
     "output_type": "execute_result"
    }
   ],
   "source": [
    "#num_images,width,height,color_channels\n",
    "model.predict_classes(my_number.reshape(1,28,28,1))"
   ]
  },
  {
   "cell_type": "code",
   "execution_count": null,
   "metadata": {},
   "outputs": [],
   "source": []
  },
  {
   "cell_type": "code",
   "execution_count": null,
   "metadata": {},
   "outputs": [],
   "source": []
  }
 ],
 "metadata": {
  "kernelspec": {
   "display_name": "Python 3",
   "language": "python",
   "name": "python3"
  },
  "language_info": {
   "codemirror_mode": {
    "name": "ipython",
    "version": 3
   },
   "file_extension": ".py",
   "mimetype": "text/x-python",
   "name": "python",
   "nbconvert_exporter": "python",
   "pygments_lexer": "ipython3",
   "version": "3.7.4"
  }
 },
 "nbformat": 4,
 "nbformat_minor": 2
}
