{
 "cells": [
  {
   "cell_type": "markdown",
   "metadata": {},
   "source": [
    "### Importing Required Libraries"
   ]
  },
  {
   "cell_type": "code",
   "execution_count": 1,
   "metadata": {},
   "outputs": [],
   "source": [
    "import pandas as pd\n",
    "import numpy as np\n",
    "import matplotlib.pyplot as plt\n",
    "import plotly.express as px\n",
    "%matplotlib inline"
   ]
  },
  {
   "cell_type": "markdown",
   "metadata": {},
   "source": [
    "### Importing mnist dataset"
   ]
  },
  {
   "cell_type": "code",
   "execution_count": 2,
   "metadata": {},
   "outputs": [],
   "source": [
    "from tensorflow.keras.datasets import mnist"
   ]
  },
  {
   "cell_type": "markdown",
   "metadata": {},
   "source": [
    "### Loading Data into Train and Test set"
   ]
  },
  {
   "cell_type": "code",
   "execution_count": 3,
   "metadata": {},
   "outputs": [],
   "source": [
    "(X_train,y_train),(X_test,y_test) = mnist.load_data()"
   ]
  },
  {
   "cell_type": "code",
   "execution_count": 4,
   "metadata": {},
   "outputs": [
    {
     "data": {
      "text/plain": [
       "(60000, 28, 28)"
      ]
     },
     "execution_count": 4,
     "metadata": {},
     "output_type": "execute_result"
    }
   ],
   "source": [
    "X_train.shape"
   ]
  },
  {
   "cell_type": "markdown",
   "metadata": {},
   "source": [
    "### Plotting Images"
   ]
  },
  {
   "cell_type": "code",
   "execution_count": 5,
   "metadata": {},
   "outputs": [
    {
     "data": {
      "image/png": "[encoded data removed]",
      "text/plain": [
       "<Figure size 1080x360 with 10 Axes>"
      ]
     },
     "metadata": {
      "needs_background": "light"
     },
     "output_type": "display_data"
    }
   ],
   "source": [
    "fig,ax = plt.subplots(2,5,figsize=(15,5))\n",
    "ax[0][0].imshow(X_train[0])\n",
    "ax[0][1].imshow(X_train[1])\n",
    "ax[0][2].imshow(X_train[2])\n",
    "ax[1][0].imshow(X_train[3])\n",
    "ax[1][1].imshow(X_train[4])\n",
    "ax[1][2].imshow(X_train[5])\n",
    "ax[0][3].imshow(X_train[6])\n",
    "ax[1][3].imshow(X_train[7])\n",
    "ax[1][4].imshow(X_train[9])\n",
    "ax[0][4].imshow(X_train[10])\n",
    "plt.show()"
   ]
  },
  {
   "cell_type": "code",
   "execution_count": 6,
   "metadata": {},
   "outputs": [
    {
     "data": {
      "text/plain": [
       "array([5, 0, 4, ..., 5, 6, 8], dtype=uint8)"
      ]
     },
     "execution_count": 6,
     "metadata": {},
     "output_type": "execute_result"
    }
   ],
   "source": [
    "y_train"
   ]
  },
  {
   "cell_type": "code",
   "execution_count": 7,
   "metadata": {},
   "outputs": [
    {
     "data": {
      "text/plain": [
       "(60000,)"
      ]
     },
     "execution_count": 7,
     "metadata": {},
     "output_type": "execute_result"
    }
   ],
   "source": [
    "y_train.shape"
   ]
  },
  {
   "cell_type": "markdown",
   "metadata": {},
   "source": [
    "### Data Preprocessing"
   ]
  },
  {
   "cell_type": "code",
   "execution_count": 8,
   "metadata": {},
   "outputs": [],
   "source": [
    "from tensorflow.keras.utils import to_categorical"
   ]
  },
  {
   "cell_type": "code",
   "execution_count": 9,
   "metadata": {},
   "outputs": [],
   "source": [
    "y_category_train = to_categorical(y_train,10)"
   ]
  },
  {
   "cell_type": "code",
   "execution_count": 10,
   "metadata": {},
   "outputs": [
    {
     "data": {
      "text/plain": [
       "(60000, 10)"
      ]
     },
     "execution_count": 10,
     "metadata": {},
     "output_type": "execute_result"
    }
   ],
   "source": [
    "y_category_train.shape"
   ]
  },
  {
   "cell_type": "code",
   "execution_count": 11,
   "metadata": {},
   "outputs": [
    {
     "data": {
      "text/plain": [
       "array([0., 0., 0., 0., 0., 1., 0., 0., 0., 0.], dtype=float32)"
      ]
     },
     "execution_count": 11,
     "metadata": {},
     "output_type": "execute_result"
    }
   ],
   "source": [
    "y_category_train[0]"
   ]
  },
  {
   "cell_type": "code",
   "execution_count": 12,
   "metadata": {},
   "outputs": [],
   "source": [
    "y_category_test = to_categorical(y_test,num_classes=10)"
   ]
  },
  {
   "cell_type": "code",
   "execution_count": 13,
   "metadata": {},
   "outputs": [
    {
     "data": {
      "text/plain": [
       "(10000, 10)"
      ]
     },
     "execution_count": 13,
     "metadata": {},
     "output_type": "execute_result"
    }
   ],
   "source": [
    "y_category_test.shape"
   ]
  },
  {
   "cell_type": "code",
   "execution_count": 14,
   "metadata": {},
   "outputs": [
    {
     "data": {
      "text/plain": [
       "array([0., 0., 0., 0., 0., 0., 0., 1., 0., 0.], dtype=float32)"
      ]
     },
     "execution_count": 14,
     "metadata": {},
     "output_type": "execute_result"
    }
   ],
   "source": [
    "y_category_test[0]"
   ]
  },
  {
   "cell_type": "code",
   "execution_count": 15,
   "metadata": {},
   "outputs": [],
   "source": [
    "X_train = X_train/255"
   ]
  },
  {
   "cell_type": "code",
   "execution_count": 16,
   "metadata": {},
   "outputs": [],
   "source": [
    "X_test = X_test/255"
   ]
  },
  {
   "cell_type": "code",
   "execution_count": 17,
   "metadata": {},
   "outputs": [],
   "source": [
    "X_train = X_train.reshape(60000,28,28,1)"
   ]
  },
  {
   "cell_type": "code",
   "execution_count": 18,
   "metadata": {},
   "outputs": [],
   "source": [
    "X_test = X_test.reshape(10000,28,28,1)"
   ]
  },
  {
   "cell_type": "markdown",
   "metadata": {},
   "source": [
    "### Model Building"
   ]
  },
  {
   "cell_type": "code",
   "execution_count": 19,
   "metadata": {},
   "outputs": [],
   "source": [
    "from tensorflow.keras.models import Sequential"
   ]
  },
  {
   "cell_type": "code",
   "execution_count": 20,
   "metadata": {},
   "outputs": [],
   "source": [
    "from tensorflow.keras.layers import Dense,Conv2D,MaxPool2D,Flatten"
   ]
  },
  {
   "cell_type": "code",
   "execution_count": 21,
   "metadata": {},
   "outputs": [
    {
     "name": "stdout",
     "output_type": "stream",
     "text": [
      "WARNING:tensorflow:From C:\\Users\\saiko\\Anaconda3\\lib\\site-packages\\tensorflow\\python\\ops\\resource_variable_ops.py:435: colocate_with (from tensorflow.python.framework.ops) is deprecated and will be removed in a future version.\n",
      "Instructions for updating:\n",
      "Colocations handled automatically by placer.\n"
     ]
    }
   ],
   "source": [
    "model = Sequential()\n",
    "\n",
    "model.add(Conv2D(filters=32,kernel_size=(4,4),input_shape=(28,28,1),activation='relu'))\n",
    "\n",
    "model.add(MaxPool2D(pool_size=(2,2)))\n",
    "\n",
    "model.add(Flatten())\n",
    "\n",
    "model.add(Dense(128,activation='relu'))\n",
    "\n",
    "model.add(Dense(10,activation='softmax'))\n",
    "\n",
    "model.compile(loss='categorical_crossentropy',optimizer='adam',metrics=['accuracy'])"
   ]
  },
  {
   "cell_type": "code",
   "execution_count": 22,
   "metadata": {},
   "outputs": [],
   "source": [
    "from tensorflow.keras.callbacks import EarlyStopping"
   ]
  },
  {
   "cell_type": "code",
   "execution_count": 23,
   "metadata": {},
   "outputs": [],
   "source": [
    "early_stop = EarlyStopping(monitor='val_loss',patience=1)"
   ]
  },
  {
   "cell_type": "markdown",
   "metadata": {},
   "source": [
    "### Model Training"
   ]
  },
  {
   "cell_type": "code",
   "execution_count": 24,
   "metadata": {},
   "outputs": [
    {
     "name": "stdout",
     "output_type": "stream",
     "text": [
      "Train on 60000 samples, validate on 10000 samples\n",
      "WARNING:tensorflow:From C:\\Users\\saiko\\Anaconda3\\lib\\site-packages\\tensorflow\\python\\ops\\math_ops.py:3066: to_int32 (from tensorflow.python.ops.math_ops) is deprecated and will be removed in a future version.\n",
      "Instructions for updating:\n",
      "Use tf.cast instead.\n",
      "Epoch 1/10\n",
      "60000/60000 [==============================] - 28s 463us/sample - loss: 0.1346 - acc: 0.9594 - val_loss: 0.0495 - val_acc: 0.9840\n",
      "Epoch 2/10\n",
      "60000/60000 [==============================] - 28s 467us/sample - loss: 0.0479 - acc: 0.9854 - val_loss: 0.0473 - val_acc: 0.9836\n",
      "Epoch 3/10\n",
      "60000/60000 [==============================] - 28s 464us/sample - loss: 0.0307 - acc: 0.9905 - val_loss: 0.0473 - val_acc: 0.9838\n",
      "Epoch 4/10\n",
      "60000/60000 [==============================] - 28s 470us/sample - loss: 0.0209 - acc: 0.9930 - val_loss: 0.0409 - val_acc: 0.9875: \n",
      "Epoch 5/10\n",
      "60000/60000 [==============================] - 29s 478us/sample - loss: 0.0154 - acc: 0.9951 - val_loss: 0.0493 - val_acc: 0.9862\n"
     ]
    },
    {
     "data": {
      "text/plain": [
       "<tensorflow.python.keras.callbacks.History at 0x2203569dd48>"
      ]
     },
     "execution_count": 24,
     "metadata": {},
     "output_type": "execute_result"
    }
   ],
   "source": [
    "model.fit(X_train,y_category_train,epochs=10,validation_data=(X_test,y_category_test),callbacks=[early_stop])"
   ]
  },
  {
   "cell_type": "code",
   "execution_count": 25,
   "metadata": {},
   "outputs": [],
   "source": [
    "metrics = pd.DataFrame(model.history.history)"
   ]
  },
  {
   "cell_type": "code",
   "execution_count": 26,
   "metadata": {},
   "outputs": [
    {
     "data": {
      "text/html": [
       "<div>\n",
       "<style scoped>\n",
       "    .dataframe tbody tr th:only-of-type {\n",
       "        vertical-align: middle;\n",
       "    }\n",
       "\n",
       "    .dataframe tbody tr th {\n",
       "        vertical-align: top;\n",
       "    }\n",
       "\n",
       "    .dataframe thead th {\n",
       "        text-align: right;\n",
       "    }\n",
       "</style>\n",
       "<table border=\"1\" class=\"dataframe\">\n",
       "  <thead>\n",
       "    <tr style=\"text-align: right;\">\n",
       "      <th></th>\n",
       "      <th>loss</th>\n",
       "      <th>acc</th>\n",
       "      <th>val_loss</th>\n",
       "      <th>val_acc</th>\n",
       "    </tr>\n",
       "  </thead>\n",
       "  <tbody>\n",
       "    <tr>\n",
       "      <th>0</th>\n",
       "      <td>0.134614</td>\n",
       "      <td>0.959383</td>\n",
       "      <td>0.049451</td>\n",
       "      <td>0.9840</td>\n",
       "    </tr>\n",
       "    <tr>\n",
       "      <th>1</th>\n",
       "      <td>0.047874</td>\n",
       "      <td>0.985417</td>\n",
       "      <td>0.047330</td>\n",
       "      <td>0.9836</td>\n",
       "    </tr>\n",
       "    <tr>\n",
       "      <th>2</th>\n",
       "      <td>0.030730</td>\n",
       "      <td>0.990517</td>\n",
       "      <td>0.047264</td>\n",
       "      <td>0.9838</td>\n",
       "    </tr>\n",
       "    <tr>\n",
       "      <th>3</th>\n",
       "      <td>0.020863</td>\n",
       "      <td>0.992983</td>\n",
       "      <td>0.040942</td>\n",
       "      <td>0.9875</td>\n",
       "    </tr>\n",
       "    <tr>\n",
       "      <th>4</th>\n",
       "      <td>0.015411</td>\n",
       "      <td>0.995083</td>\n",
       "      <td>0.049293</td>\n",
       "      <td>0.9862</td>\n",
       "    </tr>\n",
       "  </tbody>\n",
       "</table>\n",
       "</div>"
      ],
      "text/plain": [
       "       loss       acc  val_loss  val_acc\n",
       "0  0.134614  0.959383  0.049451   0.9840\n",
       "1  0.047874  0.985417  0.047330   0.9836\n",
       "2  0.030730  0.990517  0.047264   0.9838\n",
       "3  0.020863  0.992983  0.040942   0.9875\n",
       "4  0.015411  0.995083  0.049293   0.9862"
      ]
     },
     "execution_count": 26,
     "metadata": {},
     "output_type": "execute_result"
    }
   ],
   "source": [
    "metrics"
   ]
  },
  {
   "cell_type": "markdown",
   "metadata": {},
   "source": [
    "### Plotting Model Traning and Validation Loss"
   ]
  },
  {
   "cell_type": "code",
   "execution_count": 27,
   "metadata": {},
   "outputs": [
    {
     "data": {
      "image/svg+xml": [
       "<svg class=\"main-svg\" xmlns=\"http://www.w3.org/2000/svg\" xmlns:xlink=\"http://www.w3.org/1999/xlink\" width=\"700\" height=\"450\" style=\"\" viewBox=\"0 0 700 450\"><rect x=\"0\" y=\"0\" width=\"700\" height=\"450\" style=\"fill: rgb(255, 255, 255); fill-opacity: 1;\"/><defs id=\"defs-e1381d\"><g class=\"clips\"><clipPath id=\"clipe1381dxyplot\" class=\"plotclip\"><rect width=\"459\" height=\"270\"/></clipPath><clipPath class=\"axesclip\" id=\"clipe1381dx\"><rect x=\"80\" y=\"0\" width=\"459\" height=\"450\"/></clipPath><clipPath class=\"axesclip\" id=\"clipe1381dy\"><rect x=\"0\" y=\"100\" width=\"700\" height=\"270\"/></clipPath><clipPath class=\"axesclip\" id=\"clipe1381dxy\"><rect x=\"80\" y=\"100\" width=\"459\" height=\"270\"/></clipPath></g><g class=\"gradients\"/></defs><g class=\"bglayer\"><rect class=\"bg\" x=\"80\" y=\"100\" width=\"459\" height=\"270\" style=\"fill: rgb(229, 236, 246); fill-opacity: 1; stroke-width: 0;\"/></g><g class=\"layer-below\"><g class=\"imagelayer\"/><g class=\"shapelayer\"/></g><g class=\"cartesianlayer\"><g class=\"subplot xy\"><g class=\"layer-subplot\"><g class=\"shapelayer\"/><g class=\"imagelayer\"/></g><g class=\"gridlayer\"><g class=\"x\"><path class=\"xgrid crisp\" transform=\"translate(194.75,0)\" d=\"M0,100v270\" style=\"stroke: rgb(255, 255, 255); stroke-opacity: 1; stroke-width: 1px;\"/><path class=\"xgrid crisp\" transform=\"translate(309.5,0)\" d=\"M0,100v270\" style=\"stroke: rgb(255, 255, 255); stroke-opacity: 1; stroke-width: 1px;\"/><path class=\"xgrid crisp\" transform=\"translate(424.25,0)\" d=\"M0,100v270\" style=\"stroke: rgb(255, 255, 255); stroke-opacity: 1; stroke-width: 1px;\"/></g><g class=\"y\"><path class=\"ygrid crisp\" transform=\"translate(0,347.15)\" d=\"M80,0h459\" style=\"stroke: rgb(255, 255, 255); stroke-opacity: 1; stroke-width: 1px;\"/><path class=\"ygrid crisp\" transform=\"translate(0,306.37)\" d=\"M80,0h459\" style=\"stroke: rgb(255, 255, 255); stroke-opacity: 1; stroke-width: 1px;\"/><path class=\"ygrid crisp\" transform=\"translate(0,265.6)\" d=\"M80,0h459\" style=\"stroke: rgb(255, 255, 255); stroke-opacity: 1; stroke-width: 1px;\"/><path class=\"ygrid crisp\" transform=\"translate(0,224.82999999999998)\" d=\"M80,0h459\" style=\"stroke: rgb(255, 255, 255); stroke-opacity: 1; stroke-width: 1px;\"/><path class=\"ygrid crisp\" transform=\"translate(0,184.06)\" d=\"M80,0h459\" style=\"stroke: rgb(255, 255, 255); stroke-opacity: 1; stroke-width: 1px;\"/><path class=\"ygrid crisp\" transform=\"translate(0,143.29)\" d=\"M80,0h459\" style=\"stroke: rgb(255, 255, 255); stroke-opacity: 1; stroke-width: 1px;\"/><path class=\"ygrid crisp\" transform=\"translate(0,102.52)\" d=\"M80,0h459\" style=\"stroke: rgb(255, 255, 255); stroke-opacity: 1; stroke-width: 1px;\"/></g></g><g class=\"zerolinelayer\"/><path class=\"xlines-below\"/><path class=\"ylines-below\"/><g class=\"overlines-below\"/><g class=\"xaxislayer-below\"/><g class=\"yaxislayer-below\"/><g class=\"overaxes-below\"/><g class=\"plot\" transform=\"translate(80, 100)\" clip-path=\"url('#clipe1381dxyplot')\"><g class=\"scatterlayer mlayer\"><g class=\"trace scatter trace54dd57\" style=\"stroke-miterlimit: 2; opacity: 1;\"><g class=\"fills\"/><g class=\"errorbars\"/><g class=\"lines\"><path class=\"js-line\" d=\"M0,13.5L114.75,190.32L229.5,225.27L344.25,245.39L459,256.5\" style=\"vector-effect: non-scaling-stroke; fill: none; stroke: rgb(99, 110, 250); stroke-opacity: 1; stroke-width: 2px; opacity: 1;\"/></g><g class=\"points\"/><g class=\"text\"/></g><g class=\"trace scatter trace27f38e\" style=\"stroke-miterlimit: 2; opacity: 1;\"><g class=\"fills\"/><g class=\"errorbars\"/><g class=\"lines\"><path class=\"js-line\" d=\"M0,187.11L114.75,191.43L229.5,191.57L344.25,204.45L459,187.43\" style=\"vector-effect: non-scaling-stroke; fill: none; stroke: rgb(239, 85, 59); stroke-opacity: 1; stroke-width: 2px; opacity: 1;\"/></g><g class=\"points\"/><g class=\"text\"/></g></g></g><g class=\"overplot\"/><path class=\"xlines-above crisp\" style=\"fill: none;\" d=\"M0,0\"/><path class=\"ylines-above crisp\" style=\"fill: none;\" d=\"M0,0\"/><g class=\"overlines-above\"/><g class=\"xaxislayer-above\"><g class=\"xtick\"><text text-anchor=\"middle\" x=\"0\" y=\"383\" transform=\"translate(80,0)\" style=\"font-family: 'Open Sans', verdana, arial, sans-serif; font-size: 12px; fill: rgb(42, 63, 95); fill-opacity: 1; white-space: pre;\">1</text></g><g class=\"xtick\"><text text-anchor=\"middle\" x=\"0\" y=\"383\" transform=\"translate(194.75,0)\" style=\"font-family: 'Open Sans', verdana, arial, sans-serif; font-size: 12px; fill: rgb(42, 63, 95); fill-opacity: 1; white-space: pre;\">2</text></g><g class=\"xtick\"><text text-anchor=\"middle\" x=\"0\" y=\"383\" transform=\"translate(309.5,0)\" style=\"font-family: 'Open Sans', verdana, arial, sans-serif; font-size: 12px; fill: rgb(42, 63, 95); fill-opacity: 1; white-space: pre;\">3</text></g><g class=\"xtick\"><text text-anchor=\"middle\" x=\"0\" y=\"383\" transform=\"translate(424.25,0)\" style=\"font-family: 'Open Sans', verdana, arial, sans-serif; font-size: 12px; fill: rgb(42, 63, 95); fill-opacity: 1; white-space: pre;\">4</text></g><g class=\"xtick\"><text text-anchor=\"middle\" x=\"0\" y=\"383\" transform=\"translate(539,0)\" style=\"font-family: 'Open Sans', verdana, arial, sans-serif; font-size: 12px; fill: rgb(42, 63, 95); fill-opacity: 1; white-space: pre;\">5</text></g></g><g class=\"yaxislayer-above\"><g class=\"ytick\"><text text-anchor=\"end\" x=\"79\" y=\"4.199999999999999\" transform=\"translate(0,347.15)\" style=\"font-family: 'Open Sans', verdana, arial, sans-serif; font-size: 12px; fill: rgb(42, 63, 95); fill-opacity: 1; white-space: pre;\">0.02</text></g><g class=\"ytick\"><text text-anchor=\"end\" x=\"79\" y=\"4.199999999999999\" transform=\"translate(0,306.37)\" style=\"font-family: 'Open Sans', verdana, arial, sans-serif; font-size: 12px; fill: rgb(42, 63, 95); fill-opacity: 1; white-space: pre;\">0.04</text></g><g class=\"ytick\"><text text-anchor=\"end\" x=\"79\" y=\"4.199999999999999\" transform=\"translate(0,265.6)\" style=\"font-family: 'Open Sans', verdana, arial, sans-serif; font-size: 12px; fill: rgb(42, 63, 95); fill-opacity: 1; white-space: pre;\">0.06</text></g><g class=\"ytick\"><text text-anchor=\"end\" x=\"79\" y=\"4.199999999999999\" transform=\"translate(0,224.82999999999998)\" style=\"font-family: 'Open Sans', verdana, arial, sans-serif; font-size: 12px; fill: rgb(42, 63, 95); fill-opacity: 1; white-space: pre;\">0.08</text></g><g class=\"ytick\"><text text-anchor=\"end\" x=\"79\" y=\"4.199999999999999\" transform=\"translate(0,184.06)\" style=\"font-family: 'Open Sans', verdana, arial, sans-serif; font-size: 12px; fill: rgb(42, 63, 95); fill-opacity: 1; white-space: pre;\">0.1</text></g><g class=\"ytick\"><text text-anchor=\"end\" x=\"79\" y=\"4.199999999999999\" transform=\"translate(0,143.29)\" style=\"font-family: 'Open Sans', verdana, arial, sans-serif; font-size: 12px; fill: rgb(42, 63, 95); fill-opacity: 1; white-space: pre;\">0.12</text></g><g class=\"ytick\"><text text-anchor=\"end\" x=\"79\" y=\"4.199999999999999\" transform=\"translate(0,102.52)\" style=\"font-family: 'Open Sans', verdana, arial, sans-serif; font-size: 12px; fill: rgb(42, 63, 95); fill-opacity: 1; white-space: pre;\">0.14</text></g></g><g class=\"overaxes-above\"/></g></g><g class=\"polarlayer\"/><g class=\"ternarylayer\"/><g class=\"geolayer\"/><g class=\"funnelarealayer\"/><g class=\"pielayer\"/><g class=\"treemaplayer\"/><g class=\"sunburstlayer\"/><g class=\"glimages\"/><defs id=\"topdefs-e1381d\"><g class=\"clips\"/><clipPath id=\"legende1381d\"><rect width=\"140\" height=\"48\" x=\"0\" y=\"0\"/></clipPath></defs><g class=\"layer-above\"><g class=\"imagelayer\"/><g class=\"shapelayer\"/></g><g class=\"infolayer\"><g class=\"legend\" pointer-events=\"all\" transform=\"translate(548.1800000000001, 100)\"><rect class=\"bg\" shape-rendering=\"crispEdges\" style=\"stroke: rgb(68, 68, 68); stroke-opacity: 1; fill: rgb(255, 255, 255); fill-opacity: 1; stroke-width: 0px;\" width=\"140\" height=\"48\" x=\"0\" y=\"0\"/><g class=\"scrollbox\" transform=\"translate(0, 0)\" clip-path=\"url('#legende1381d')\"><g class=\"groups\"><g class=\"traces\" style=\"opacity: 1;\" transform=\"translate(0, 14.5)\"><text class=\"legendtext user-select-none\" text-anchor=\"start\" x=\"40\" y=\"4.680000000000001\" style=\"font-family: 'Open Sans', verdana, arial, sans-serif; font-size: 12px; fill: rgb(42, 63, 95); fill-opacity: 1; white-space: pre;\">Training_Loss</text><g class=\"layers\" style=\"opacity: 1;\"><g class=\"legendfill\"/><g class=\"legendlines\"><path class=\"js-line\" d=\"M5,0h30\" style=\"fill: none; stroke: rgb(99, 110, 250); stroke-opacity: 1; stroke-width: 2px;\"/></g><g class=\"legendsymbols\"><g class=\"legendpoints\"/></g></g><rect class=\"legendtoggle\" pointer-events=\"all\" x=\"0\" y=\"-9.5\" width=\"134.0625\" height=\"19\" style=\"cursor: pointer; fill: rgb(0, 0, 0); fill-opacity: 0;\"/></g><g class=\"traces\" style=\"opacity: 1;\" transform=\"translate(0, 33.5)\"><text class=\"legendtext user-select-none\" text-anchor=\"start\" x=\"40\" y=\"4.680000000000001\" style=\"font-family: 'Open Sans', verdana, arial, sans-serif; font-size: 12px; fill: rgb(42, 63, 95); fill-opacity: 1; white-space: pre;\">Validation_Loss</text><g class=\"layers\" style=\"opacity: 1;\"><g class=\"legendfill\"/><g class=\"legendlines\"><path class=\"js-line\" d=\"M5,0h30\" style=\"fill: none; stroke: rgb(239, 85, 59); stroke-opacity: 1; stroke-width: 2px;\"/></g><g class=\"legendsymbols\"><g class=\"legendpoints\"/></g></g><rect class=\"legendtoggle\" pointer-events=\"all\" x=\"0\" y=\"-9.5\" width=\"134.0625\" height=\"19\" style=\"cursor: pointer; fill: rgb(0, 0, 0); fill-opacity: 0;\"/></g></g></g><rect class=\"scrollbar\" rx=\"20\" ry=\"3\" width=\"0\" height=\"0\" style=\"fill: rgb(128, 139, 164); fill-opacity: 1;\" x=\"0\" y=\"0\"/></g><g class=\"g-gtitle\"/><g class=\"g-xtitle\"/><g class=\"g-ytitle\"/></g></svg>"
      ]
     },
     "metadata": {},
     "output_type": "display_data"
    }
   ],
   "source": [
    "import plotly.graph_objects as go\n",
    "fig = go.Figure()\n",
    "fig.add_trace(go.Scatter(x=[1,2,3,4,5,6], y=metrics['loss'],\n",
    "                    mode='lines',\n",
    "                    name='Training_Loss'))\n",
    "fig.add_trace(go.Scatter(x=[1,2,3,4,5,6], y=metrics['val_loss'],\n",
    "                    mode='lines',\n",
    "                    name='Validation_Loss'))\n",
    "fig.show(\"svg\")"
   ]
  },
  {
   "cell_type": "markdown",
   "metadata": {},
   "source": [
    "### Plotting Model Traning and Validation Accuracy"
   ]
  },
  {
   "cell_type": "code",
   "execution_count": 28,
   "metadata": {},
   "outputs": [
    {
     "data": {
      "image/svg+xml": [
       "<svg class=\"main-svg\" xmlns=\"http://www.w3.org/2000/svg\" xmlns:xlink=\"http://www.w3.org/1999/xlink\" width=\"700\" height=\"450\" style=\"\" viewBox=\"0 0 700 450\"><rect x=\"0\" y=\"0\" width=\"700\" height=\"450\" style=\"fill: rgb(255, 255, 255); fill-opacity: 1;\"/><defs id=\"defs-3d3e6f\"><g class=\"clips\"><clipPath id=\"clip3d3e6fxyplot\" class=\"plotclip\"><rect width=\"432\" height=\"270\"/></clipPath><clipPath class=\"axesclip\" id=\"clip3d3e6fx\"><rect x=\"80\" y=\"0\" width=\"432\" height=\"450\"/></clipPath><clipPath class=\"axesclip\" id=\"clip3d3e6fy\"><rect x=\"0\" y=\"100\" width=\"700\" height=\"270\"/></clipPath><clipPath class=\"axesclip\" id=\"clip3d3e6fxy\"><rect x=\"80\" y=\"100\" width=\"432\" height=\"270\"/></clipPath></g><g class=\"gradients\"/></defs><g class=\"bglayer\"><rect class=\"bg\" x=\"80\" y=\"100\" width=\"432\" height=\"270\" style=\"fill: rgb(229, 236, 246); fill-opacity: 1; stroke-width: 0;\"/></g><g class=\"layer-below\"><g class=\"imagelayer\"/><g class=\"shapelayer\"/></g><g class=\"cartesianlayer\"><g class=\"subplot xy\"><g class=\"layer-subplot\"><g class=\"shapelayer\"/><g class=\"imagelayer\"/></g><g class=\"gridlayer\"><g class=\"x\"><path class=\"xgrid crisp\" transform=\"translate(188,0)\" d=\"M0,100v270\" style=\"stroke: rgb(255, 255, 255); stroke-opacity: 1; stroke-width: 1px;\"/><path class=\"xgrid crisp\" transform=\"translate(296,0)\" d=\"M0,100v270\" style=\"stroke: rgb(255, 255, 255); stroke-opacity: 1; stroke-width: 1px;\"/><path class=\"xgrid crisp\" transform=\"translate(404,0)\" d=\"M0,100v270\" style=\"stroke: rgb(255, 255, 255); stroke-opacity: 1; stroke-width: 1px;\"/></g><g class=\"y\"><path class=\"ygrid crisp\" transform=\"translate(0,352.3)\" d=\"M80,0h432\" style=\"stroke: rgb(255, 255, 255); stroke-opacity: 1; stroke-width: 1px;\"/><path class=\"ygrid crisp\" transform=\"translate(0,284.24)\" d=\"M80,0h432\" style=\"stroke: rgb(255, 255, 255); stroke-opacity: 1; stroke-width: 1px;\"/><path class=\"ygrid crisp\" transform=\"translate(0,216.17000000000002)\" d=\"M80,0h432\" style=\"stroke: rgb(255, 255, 255); stroke-opacity: 1; stroke-width: 1px;\"/><path class=\"ygrid crisp\" transform=\"translate(0,148.1)\" d=\"M80,0h432\" style=\"stroke: rgb(255, 255, 255); stroke-opacity: 1; stroke-width: 1px;\"/></g></g><g class=\"zerolinelayer\"/><path class=\"xlines-below\"/><path class=\"ylines-below\"/><g class=\"overlines-below\"/><g class=\"xaxislayer-below\"/><g class=\"yaxislayer-below\"/><g class=\"overaxes-below\"/><g class=\"plot\" transform=\"translate(80, 100)\" clip-path=\"url('#clip3d3e6fxyplot')\"><g class=\"scatterlayer mlayer\"><g class=\"trace scatter tracec88f3b\" style=\"stroke-miterlimit: 2; opacity: 1;\"><g class=\"fills\"/><g class=\"errorbars\"/><g class=\"lines\"><path class=\"js-line\" d=\"M0,256.5L108,79.3L216,44.58L324,27.79L432,13.5\" style=\"vector-effect: non-scaling-stroke; fill: none; stroke: rgb(99, 110, 250); stroke-opacity: 1; stroke-width: 2px; opacity: 1;\"/></g><g class=\"points\"/><g class=\"text\"/></g><g class=\"trace scatter traced7ee3f\" style=\"stroke-miterlimit: 2; opacity: 1;\"><g class=\"fills\"/><g class=\"errorbars\"/><g class=\"lines\"><path class=\"js-line\" d=\"M0,88.94L108,91.66L216,90.3L324,65.12L432,73.97\" style=\"vector-effect: non-scaling-stroke; fill: none; stroke: rgb(239, 85, 59); stroke-opacity: 1; stroke-width: 2px; opacity: 1;\"/></g><g class=\"points\"/><g class=\"text\"/></g></g></g><g class=\"overplot\"/><path class=\"xlines-above crisp\" style=\"fill: none;\" d=\"M0,0\"/><path class=\"ylines-above crisp\" style=\"fill: none;\" d=\"M0,0\"/><g class=\"overlines-above\"/><g class=\"xaxislayer-above\"><g class=\"xtick\"><text text-anchor=\"middle\" x=\"0\" y=\"383\" transform=\"translate(80,0)\" style=\"font-family: 'Open Sans', verdana, arial, sans-serif; font-size: 12px; fill: rgb(42, 63, 95); fill-opacity: 1; white-space: pre;\">1</text></g><g class=\"xtick\"><text text-anchor=\"middle\" x=\"0\" y=\"383\" transform=\"translate(188,0)\" style=\"font-family: 'Open Sans', verdana, arial, sans-serif; font-size: 12px; fill: rgb(42, 63, 95); fill-opacity: 1; white-space: pre;\">2</text></g><g class=\"xtick\"><text text-anchor=\"middle\" x=\"0\" y=\"383\" transform=\"translate(296,0)\" style=\"font-family: 'Open Sans', verdana, arial, sans-serif; font-size: 12px; fill: rgb(42, 63, 95); fill-opacity: 1; white-space: pre;\">3</text></g><g class=\"xtick\"><text text-anchor=\"middle\" x=\"0\" y=\"383\" transform=\"translate(404,0)\" style=\"font-family: 'Open Sans', verdana, arial, sans-serif; font-size: 12px; fill: rgb(42, 63, 95); fill-opacity: 1; white-space: pre;\">4</text></g><g class=\"xtick\"><text text-anchor=\"middle\" x=\"0\" y=\"383\" transform=\"translate(512,0)\" style=\"font-family: 'Open Sans', verdana, arial, sans-serif; font-size: 12px; fill: rgb(42, 63, 95); fill-opacity: 1; white-space: pre;\">5</text></g></g><g class=\"yaxislayer-above\"><g class=\"ytick\"><text text-anchor=\"end\" x=\"79\" y=\"4.199999999999999\" transform=\"translate(0,352.3)\" style=\"font-family: 'Open Sans', verdana, arial, sans-serif; font-size: 12px; fill: rgb(42, 63, 95); fill-opacity: 1; white-space: pre;\">0.96</text></g><g class=\"ytick\"><text text-anchor=\"end\" x=\"79\" y=\"4.199999999999999\" transform=\"translate(0,284.24)\" style=\"font-family: 'Open Sans', verdana, arial, sans-serif; font-size: 12px; fill: rgb(42, 63, 95); fill-opacity: 1; white-space: pre;\">0.97</text></g><g class=\"ytick\"><text text-anchor=\"end\" x=\"79\" y=\"4.199999999999999\" transform=\"translate(0,216.17000000000002)\" style=\"font-family: 'Open Sans', verdana, arial, sans-serif; font-size: 12px; fill: rgb(42, 63, 95); fill-opacity: 1; white-space: pre;\">0.98</text></g><g class=\"ytick\"><text text-anchor=\"end\" x=\"79\" y=\"4.199999999999999\" transform=\"translate(0,148.1)\" style=\"font-family: 'Open Sans', verdana, arial, sans-serif; font-size: 12px; fill: rgb(42, 63, 95); fill-opacity: 1; white-space: pre;\">0.99</text></g></g><g class=\"overaxes-above\"/></g></g><g class=\"polarlayer\"/><g class=\"ternarylayer\"/><g class=\"geolayer\"/><g class=\"funnelarealayer\"/><g class=\"pielayer\"/><g class=\"treemaplayer\"/><g class=\"sunburstlayer\"/><g class=\"glimages\"/><defs id=\"topdefs-3d3e6f\"><g class=\"clips\"/><clipPath id=\"legend3d3e6f\"><rect width=\"167\" height=\"48\" x=\"0\" y=\"0\"/></clipPath></defs><g class=\"layer-above\"><g class=\"imagelayer\"/><g class=\"shapelayer\"/></g><g class=\"infolayer\"><g class=\"legend\" pointer-events=\"all\" transform=\"translate(520.64, 100)\"><rect class=\"bg\" shape-rendering=\"crispEdges\" style=\"stroke: rgb(68, 68, 68); stroke-opacity: 1; fill: rgb(255, 255, 255); fill-opacity: 1; stroke-width: 0px;\" width=\"167\" height=\"48\" x=\"0\" y=\"0\"/><g class=\"scrollbox\" transform=\"translate(0, 0)\" clip-path=\"url('#legend3d3e6f')\"><g class=\"groups\"><g class=\"traces\" style=\"opacity: 1;\" transform=\"translate(0, 14.5)\"><text class=\"legendtext user-select-none\" text-anchor=\"start\" x=\"40\" y=\"4.680000000000001\" style=\"font-family: 'Open Sans', verdana, arial, sans-serif; font-size: 12px; fill: rgb(42, 63, 95); fill-opacity: 1; white-space: pre;\">Training_Accuracy</text><g class=\"layers\" style=\"opacity: 1;\"><g class=\"legendfill\"/><g class=\"legendlines\"><path class=\"js-line\" d=\"M5,0h30\" style=\"fill: none; stroke: rgb(99, 110, 250); stroke-opacity: 1; stroke-width: 2px;\"/></g><g class=\"legendsymbols\"><g class=\"legendpoints\"/></g></g><rect class=\"legendtoggle\" pointer-events=\"all\" x=\"0\" y=\"-9.5\" width=\"161.3125\" height=\"19\" style=\"cursor: pointer; fill: rgb(0, 0, 0); fill-opacity: 0;\"/></g><g class=\"traces\" style=\"opacity: 1;\" transform=\"translate(0, 33.5)\"><text class=\"legendtext user-select-none\" text-anchor=\"start\" x=\"40\" y=\"4.680000000000001\" style=\"font-family: 'Open Sans', verdana, arial, sans-serif; font-size: 12px; fill: rgb(42, 63, 95); fill-opacity: 1; white-space: pre;\">Validation_Accuracy</text><g class=\"layers\" style=\"opacity: 1;\"><g class=\"legendfill\"/><g class=\"legendlines\"><path class=\"js-line\" d=\"M5,0h30\" style=\"fill: none; stroke: rgb(239, 85, 59); stroke-opacity: 1; stroke-width: 2px;\"/></g><g class=\"legendsymbols\"><g class=\"legendpoints\"/></g></g><rect class=\"legendtoggle\" pointer-events=\"all\" x=\"0\" y=\"-9.5\" width=\"161.3125\" height=\"19\" style=\"cursor: pointer; fill: rgb(0, 0, 0); fill-opacity: 0;\"/></g></g></g><rect class=\"scrollbar\" rx=\"20\" ry=\"3\" width=\"0\" height=\"0\" style=\"fill: rgb(128, 139, 164); fill-opacity: 1;\" x=\"0\" y=\"0\"/></g><g class=\"g-gtitle\"/><g class=\"g-xtitle\"/><g class=\"g-ytitle\"/></g></svg>"
      ]
     },
     "metadata": {},
     "output_type": "display_data"
    }
   ],
   "source": [
    "import plotly.graph_objects as go\n",
    "fig = go.Figure()\n",
    "fig.add_trace(go.Scatter(x=[1,2,3,4,5,6], y=metrics['acc'],\n",
    "                    mode='lines',\n",
    "                    name='Training_Accuracy'))\n",
    "fig.add_trace(go.Scatter(x=[1,2,3,4,5,6], y=metrics['val_acc'],\n",
    "                    mode='lines',\n",
    "                    name='Validation_Accuracy'))\n",
    "fig.show(\"svg\")"
   ]
  },
  {
   "cell_type": "markdown",
   "metadata": {},
   "source": [
    "### Model Evaluation"
   ]
  },
  {
   "cell_type": "code",
   "execution_count": 29,
   "metadata": {},
   "outputs": [
    {
     "data": {
      "text/plain": [
       "['loss', 'acc']"
      ]
     },
     "execution_count": 29,
     "metadata": {},
     "output_type": "execute_result"
    }
   ],
   "source": [
    "model.metrics_names"
   ]
  },
  {
   "cell_type": "code",
   "execution_count": 30,
   "metadata": {},
   "outputs": [
    {
     "data": {
      "text/plain": [
       "[0.0492927012774584, 0.9862]"
      ]
     },
     "execution_count": 30,
     "metadata": {},
     "output_type": "execute_result"
    }
   ],
   "source": [
    "model.evaluate(X_test,y_category_test,verbose=0)"
   ]
  },
  {
   "cell_type": "code",
   "execution_count": 31,
   "metadata": {},
   "outputs": [],
   "source": [
    "from sklearn.metrics import classification_report,confusion_matrix"
   ]
  },
  {
   "cell_type": "code",
   "execution_count": 32,
   "metadata": {},
   "outputs": [],
   "source": [
    "predictions = model.predict_classes(X_test)"
   ]
  },
  {
   "cell_type": "code",
   "execution_count": 33,
   "metadata": {},
   "outputs": [
    {
     "data": {
      "text/plain": [
       "array([7, 2, 1, ..., 4, 5, 6], dtype=uint8)"
      ]
     },
     "execution_count": 33,
     "metadata": {},
     "output_type": "execute_result"
    }
   ],
   "source": [
    "y_test"
   ]
  },
  {
   "cell_type": "code",
   "execution_count": 34,
   "metadata": {},
   "outputs": [
    {
     "name": "stdout",
     "output_type": "stream",
     "text": [
      "              precision    recall  f1-score   support\n",
      "\n",
      "           0       0.97      1.00      0.98       980\n",
      "           1       0.99      0.99      0.99      1135\n",
      "           2       0.98      0.99      0.99      1032\n",
      "           3       0.99      0.99      0.99      1010\n",
      "           4       0.99      0.98      0.99       982\n",
      "           5       0.99      0.99      0.99       892\n",
      "           6       0.99      0.98      0.99       958\n",
      "           7       0.99      0.97      0.98      1028\n",
      "           8       0.99      0.98      0.98       974\n",
      "           9       0.97      0.98      0.98      1009\n",
      "\n",
      "    accuracy                           0.99     10000\n",
      "   macro avg       0.99      0.99      0.99     10000\n",
      "weighted avg       0.99      0.99      0.99     10000\n",
      "\n"
     ]
    }
   ],
   "source": [
    "print(classification_report(y_test,predictions))"
   ]
  },
  {
   "cell_type": "code",
   "execution_count": 35,
   "metadata": {},
   "outputs": [
    {
     "data": {
      "image/svg+xml": [
       "<svg class=\"main-svg\" xmlns=\"http://www.w3.org/2000/svg\" xmlns:xlink=\"http://www.w3.org/1999/xlink\" width=\"700\" height=\"450\" style=\"\" viewBox=\"0 0 700 450\"><rect x=\"0\" y=\"0\" width=\"700\" height=\"450\" style=\"fill: rgb(255, 255, 255); fill-opacity: 1;\"/><defs id=\"defs-edbc1b\"><g class=\"clips\"><clipPath id=\"clipedbc1bxyplot\" class=\"plotclip\"><rect width=\"540\" height=\"270\"/></clipPath><clipPath class=\"axesclip\" id=\"clipedbc1bx\"><rect x=\"80\" y=\"0\" width=\"540\" height=\"450\"/></clipPath><clipPath class=\"axesclip\" id=\"clipedbc1by\"><rect x=\"0\" y=\"100\" width=\"700\" height=\"270\"/></clipPath><clipPath class=\"axesclip\" id=\"clipedbc1bxy\"><rect x=\"80\" y=\"100\" width=\"540\" height=\"270\"/></clipPath></g><g class=\"gradients\"/></defs><g class=\"bglayer\"><rect class=\"bg\" x=\"80\" y=\"100\" width=\"540\" height=\"270\" style=\"fill: rgb(229, 236, 246); fill-opacity: 1; stroke-width: 0;\"/></g><g class=\"layer-below\"><g class=\"imagelayer\"/><g class=\"shapelayer\"/></g><g class=\"cartesianlayer\"><g class=\"subplot xy\"><g class=\"layer-subplot\"><g class=\"shapelayer\"/><g class=\"imagelayer\"/></g><g class=\"gridlayer\"><g class=\"x\"><path class=\"xgrid crisp\" transform=\"translate(161,0)\" d=\"M0,100v270\" style=\"stroke: rgb(0, 0, 0); stroke-opacity: 1; stroke-width: 1px;\"/><path class=\"xgrid crisp\" transform=\"translate(215,0)\" d=\"M0,100v270\" style=\"stroke: rgb(0, 0, 0); stroke-opacity: 1; stroke-width: 1px;\"/><path class=\"xgrid crisp\" transform=\"translate(269,0)\" d=\"M0,100v270\" style=\"stroke: rgb(0, 0, 0); stroke-opacity: 1; stroke-width: 1px;\"/><path class=\"xgrid crisp\" transform=\"translate(323,0)\" d=\"M0,100v270\" style=\"stroke: rgb(0, 0, 0); stroke-opacity: 1; stroke-width: 1px;\"/><path class=\"xgrid crisp\" transform=\"translate(377,0)\" d=\"M0,100v270\" style=\"stroke: rgb(0, 0, 0); stroke-opacity: 1; stroke-width: 1px;\"/><path class=\"xgrid crisp\" transform=\"translate(431,0)\" d=\"M0,100v270\" style=\"stroke: rgb(0, 0, 0); stroke-opacity: 1; stroke-width: 1px;\"/><path class=\"xgrid crisp\" transform=\"translate(485,0)\" d=\"M0,100v270\" style=\"stroke: rgb(0, 0, 0); stroke-opacity: 1; stroke-width: 1px;\"/><path class=\"xgrid crisp\" transform=\"translate(539,0)\" d=\"M0,100v270\" style=\"stroke: rgb(0, 0, 0); stroke-opacity: 1; stroke-width: 1px;\"/><path class=\"xgrid crisp\" transform=\"translate(593,0)\" d=\"M0,100v270\" style=\"stroke: rgb(0, 0, 0); stroke-opacity: 1; stroke-width: 1px;\"/></g><g class=\"y\"><path class=\"ygrid crisp\" transform=\"translate(0,329.5)\" d=\"M80,0h540\" style=\"stroke: rgb(255, 255, 255); stroke-opacity: 1; stroke-width: 1px;\"/><path class=\"ygrid crisp\" transform=\"translate(0,302.5)\" d=\"M80,0h540\" style=\"stroke: rgb(255, 255, 255); stroke-opacity: 1; stroke-width: 1px;\"/><path class=\"ygrid crisp\" transform=\"translate(0,275.5)\" d=\"M80,0h540\" style=\"stroke: rgb(255, 255, 255); stroke-opacity: 1; stroke-width: 1px;\"/><path class=\"ygrid crisp\" transform=\"translate(0,248.5)\" d=\"M80,0h540\" style=\"stroke: rgb(255, 255, 255); stroke-opacity: 1; stroke-width: 1px;\"/><path class=\"ygrid crisp\" transform=\"translate(0,221.5)\" d=\"M80,0h540\" style=\"stroke: rgb(255, 255, 255); stroke-opacity: 1; stroke-width: 1px;\"/><path class=\"ygrid crisp\" transform=\"translate(0,194.5)\" d=\"M80,0h540\" style=\"stroke: rgb(255, 255, 255); stroke-opacity: 1; stroke-width: 1px;\"/><path class=\"ygrid crisp\" transform=\"translate(0,167.5)\" d=\"M80,0h540\" style=\"stroke: rgb(255, 255, 255); stroke-opacity: 1; stroke-width: 1px;\"/><path class=\"ygrid crisp\" transform=\"translate(0,140.5)\" d=\"M80,0h540\" style=\"stroke: rgb(255, 255, 255); stroke-opacity: 1; stroke-width: 1px;\"/><path class=\"ygrid crisp\" transform=\"translate(0,113.5)\" d=\"M80,0h540\" style=\"stroke: rgb(255, 255, 255); stroke-opacity: 1; stroke-width: 1px;\"/></g></g><g class=\"zerolinelayer\"><path class=\"xzl zl crisp\" transform=\"translate(107,0)\" d=\"M0,100v270\" style=\"stroke: rgb(255, 255, 255); stroke-opacity: 1; stroke-width: 2px;\"/><path class=\"yzl zl crisp\" transform=\"translate(0,356.5)\" d=\"M80,0h540\" style=\"stroke: rgb(255, 255, 255); stroke-opacity: 1; stroke-width: 2px;\"/></g><path class=\"xlines-below\"/><path class=\"ylines-below\"/><g class=\"overlines-below\"/><g class=\"xaxislayer-below\"/><g class=\"yaxislayer-below\"/><g class=\"overaxes-below\"/><g class=\"plot\" transform=\"translate(80, 100)\" clip-path=\"url('#clipedbc1bxyplot')\"><g class=\"heatmaplayer mlayer\"><g class=\"hm\"><image xmlns=\"http://www.w3.org/2000/svg\" preserveAspectRatio=\"none\" height=\"270\" width=\"540\" x=\"0\" y=\"0\" xlink:href=\"data:image/png;base64,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\" style=\"opacity: 1;\"/></g></g></g><g class=\"overplot\"/><path class=\"xlines-above crisp\" style=\"fill: none;\" d=\"M0,0\"/><path class=\"ylines-above crisp\" style=\"fill: none;\" d=\"M0,0\"/><g class=\"overlines-above\"/><g class=\"xaxislayer-above\"><g class=\"xtick\"><text text-anchor=\"middle\" x=\"0\" y=\"96.6\" transform=\"translate(107,0)\" style=\"font-family: 'Open Sans', verdana, arial, sans-serif; font-size: 12px; fill: rgb(42, 63, 95); fill-opacity: 1; white-space: pre;\">0</text></g><g class=\"xtick\"><text text-anchor=\"middle\" x=\"0\" y=\"96.6\" transform=\"translate(161,0)\" style=\"font-family: 'Open Sans', verdana, arial, sans-serif; font-size: 12px; fill: rgb(42, 63, 95); fill-opacity: 1; white-space: pre;\">1</text></g><g class=\"xtick\"><text text-anchor=\"middle\" x=\"0\" y=\"96.6\" transform=\"translate(215,0)\" style=\"font-family: 'Open Sans', verdana, arial, sans-serif; font-size: 12px; fill: rgb(42, 63, 95); fill-opacity: 1; white-space: pre;\">2</text></g><g class=\"xtick\"><text text-anchor=\"middle\" x=\"0\" y=\"96.6\" transform=\"translate(269,0)\" style=\"font-family: 'Open Sans', verdana, arial, sans-serif; font-size: 12px; fill: rgb(42, 63, 95); fill-opacity: 1; white-space: pre;\">3</text></g><g class=\"xtick\"><text text-anchor=\"middle\" x=\"0\" y=\"96.6\" transform=\"translate(323,0)\" style=\"font-family: 'Open Sans', verdana, arial, sans-serif; font-size: 12px; fill: rgb(42, 63, 95); fill-opacity: 1; white-space: pre;\">4</text></g><g class=\"xtick\"><text text-anchor=\"middle\" x=\"0\" y=\"96.6\" transform=\"translate(377,0)\" style=\"font-family: 'Open Sans', verdana, arial, sans-serif; font-size: 12px; fill: rgb(42, 63, 95); fill-opacity: 1; white-space: pre;\">5</text></g><g class=\"xtick\"><text text-anchor=\"middle\" x=\"0\" y=\"96.6\" transform=\"translate(431,0)\" style=\"font-family: 'Open Sans', verdana, arial, sans-serif; font-size: 12px; fill: rgb(42, 63, 95); fill-opacity: 1; white-space: pre;\">6</text></g><g class=\"xtick\"><text text-anchor=\"middle\" x=\"0\" y=\"96.6\" transform=\"translate(485,0)\" style=\"font-family: 'Open Sans', verdana, arial, sans-serif; font-size: 12px; fill: rgb(42, 63, 95); fill-opacity: 1; white-space: pre;\">7</text></g><g class=\"xtick\"><text text-anchor=\"middle\" x=\"0\" y=\"96.6\" transform=\"translate(539,0)\" style=\"font-family: 'Open Sans', verdana, arial, sans-serif; font-size: 12px; fill: rgb(42, 63, 95); fill-opacity: 1; white-space: pre;\">8</text></g><g class=\"xtick\"><text text-anchor=\"middle\" x=\"0\" y=\"96.6\" transform=\"translate(593,0)\" style=\"font-family: 'Open Sans', verdana, arial, sans-serif; font-size: 12px; fill: rgb(42, 63, 95); fill-opacity: 1; white-space: pre;\">9</text></g></g><g class=\"yaxislayer-above\"><g class=\"ytick\"><text text-anchor=\"end\" x=\"79\" y=\"4.199999999999999\" transform=\"translate(0,356.5)\" style=\"font-family: 'Open Sans', verdana, arial, sans-serif; font-size: 12px; fill: rgb(42, 63, 95); fill-opacity: 1; white-space: pre;\">0  </text></g><g class=\"ytick\"><text text-anchor=\"end\" x=\"79\" y=\"4.199999999999999\" transform=\"translate(0,329.5)\" style=\"font-family: 'Open Sans', verdana, arial, sans-serif; font-size: 12px; fill: rgb(42, 63, 95); fill-opacity: 1; white-space: pre;\">1  </text></g><g class=\"ytick\"><text text-anchor=\"end\" x=\"79\" y=\"4.199999999999999\" transform=\"translate(0,302.5)\" style=\"font-family: 'Open Sans', verdana, arial, sans-serif; font-size: 12px; fill: rgb(42, 63, 95); fill-opacity: 1; white-space: pre;\">2  </text></g><g class=\"ytick\"><text text-anchor=\"end\" x=\"79\" y=\"4.199999999999999\" transform=\"translate(0,275.5)\" style=\"font-family: 'Open Sans', verdana, arial, sans-serif; font-size: 12px; fill: rgb(42, 63, 95); fill-opacity: 1; white-space: pre;\">3  </text></g><g class=\"ytick\"><text text-anchor=\"end\" x=\"79\" y=\"4.199999999999999\" transform=\"translate(0,248.5)\" style=\"font-family: 'Open Sans', verdana, arial, sans-serif; font-size: 12px; fill: rgb(42, 63, 95); fill-opacity: 1; white-space: pre;\">4  </text></g><g class=\"ytick\"><text text-anchor=\"end\" x=\"79\" y=\"4.199999999999999\" transform=\"translate(0,221.5)\" style=\"font-family: 'Open Sans', verdana, arial, sans-serif; font-size: 12px; fill: rgb(42, 63, 95); fill-opacity: 1; white-space: pre;\">5  </text></g><g class=\"ytick\"><text text-anchor=\"end\" x=\"79\" y=\"4.199999999999999\" transform=\"translate(0,194.5)\" style=\"font-family: 'Open Sans', verdana, arial, sans-serif; font-size: 12px; fill: rgb(42, 63, 95); fill-opacity: 1; white-space: pre;\">6  </text></g><g class=\"ytick\"><text text-anchor=\"end\" x=\"79\" y=\"4.199999999999999\" transform=\"translate(0,167.5)\" style=\"font-family: 'Open Sans', verdana, arial, sans-serif; font-size: 12px; fill: rgb(42, 63, 95); fill-opacity: 1; white-space: pre;\">7  </text></g><g class=\"ytick\"><text text-anchor=\"end\" x=\"79\" y=\"4.199999999999999\" transform=\"translate(0,140.5)\" style=\"font-family: 'Open Sans', verdana, arial, sans-serif; font-size: 12px; fill: rgb(42, 63, 95); fill-opacity: 1; white-space: pre;\">8  </text></g><g class=\"ytick\"><text text-anchor=\"end\" x=\"79\" y=\"4.199999999999999\" transform=\"translate(0,113.5)\" style=\"font-family: 'Open Sans', verdana, arial, sans-serif; font-size: 12px; fill: rgb(42, 63, 95); fill-opacity: 1; white-space: pre;\">9  </text></g></g><g class=\"overaxes-above\"/></g></g><g class=\"polarlayer\"/><g class=\"ternarylayer\"/><g class=\"geolayer\"/><g class=\"funnelarealayer\"/><g class=\"pielayer\"/><g class=\"treemaplayer\"/><g class=\"sunburstlayer\"/><g class=\"glimages\"/><defs id=\"topdefs-edbc1b\"><g class=\"clips\"/></defs><g class=\"layer-above\"><g class=\"imagelayer\"/><g class=\"shapelayer\"/></g><g class=\"infolayer\"><g class=\"g-gtitle\"/><g class=\"g-xtitle\"/><g class=\"g-ytitle\"/><g class=\"annotation\" data-index=\"0\" style=\"opacity: 1;\"><g class=\"annotation-text-g\" transform=\"rotate(0,107,356.5)\"><g class=\"cursor-pointer\" transform=\"translate(94, 348)\"><rect class=\"bg\" x=\"0.5\" y=\"0.5\" width=\"26\" height=\"17\" style=\"stroke-width: 1px; stroke: rgb(0, 0, 0); stroke-opacity: 0; fill: rgb(0, 0, 0); fill-opacity: 0;\"/><text class=\"annotation-text\" text-anchor=\"middle\" x=\"13.453125\" y=\"14\" style=\"font-family: 'Open Sans', verdana, arial, sans-serif; font-size: 12px; fill: rgb(0, 0, 0); fill-opacity: 1; white-space: pre;\">978</text></g></g></g><g class=\"annotation\" data-index=\"1\" style=\"opacity: 1;\"><g class=\"annotation-text-g\" transform=\"rotate(0,161,356.5)\"><g class=\"cursor-pointer\" transform=\"translate(155, 348)\"><rect class=\"bg\" x=\"0.5\" y=\"0.5\" width=\"11\" height=\"17\" style=\"stroke-width: 1px; stroke: rgb(0, 0, 0); stroke-opacity: 0; fill: rgb(0, 0, 0); fill-opacity: 0;\"/><text class=\"annotation-text\" text-anchor=\"middle\" x=\"5.828125\" y=\"14\" style=\"font-family: 'Open Sans', verdana, arial, sans-serif; font-size: 12px; fill: rgb(255, 255, 255); fill-opacity: 1; white-space: pre;\">0</text></g></g></g><g class=\"annotation\" data-index=\"2\" style=\"opacity: 1;\"><g class=\"annotation-text-g\" transform=\"rotate(0,215,356.5)\"><g class=\"cursor-pointer\" transform=\"translate(209, 348)\"><rect class=\"bg\" x=\"0.5\" y=\"0.5\" width=\"11\" height=\"17\" style=\"stroke-width: 1px; stroke: rgb(0, 0, 0); stroke-opacity: 0; fill: rgb(0, 0, 0); fill-opacity: 0;\"/><text class=\"annotation-text\" text-anchor=\"middle\" x=\"5.828125\" y=\"14\" style=\"font-family: 'Open Sans', verdana, arial, sans-serif; font-size: 12px; fill: rgb(255, 255, 255); fill-opacity: 1; white-space: pre;\">0</text></g></g></g><g class=\"annotation\" data-index=\"3\" style=\"opacity: 1;\"><g class=\"annotation-text-g\" transform=\"rotate(0,269,356.5)\"><g class=\"cursor-pointer\" transform=\"translate(263, 348)\"><rect class=\"bg\" x=\"0.5\" y=\"0.5\" width=\"11\" height=\"17\" style=\"stroke-width: 1px; stroke: rgb(0, 0, 0); stroke-opacity: 0; fill: rgb(0, 0, 0); fill-opacity: 0;\"/><text class=\"annotation-text\" text-anchor=\"middle\" x=\"5.828125\" y=\"14\" style=\"font-family: 'Open Sans', verdana, arial, sans-serif; font-size: 12px; fill: rgb(255, 255, 255); fill-opacity: 1; white-space: pre;\">1</text></g></g></g><g class=\"annotation\" data-index=\"4\" style=\"opacity: 1;\"><g class=\"annotation-text-g\" transform=\"rotate(0,323,356.5)\"><g class=\"cursor-pointer\" transform=\"translate(317, 348)\"><rect class=\"bg\" x=\"0.5\" y=\"0.5\" width=\"11\" height=\"17\" style=\"stroke-width: 1px; stroke: rgb(0, 0, 0); stroke-opacity: 0; fill: rgb(0, 0, 0); fill-opacity: 0;\"/><text class=\"annotation-text\" text-anchor=\"middle\" x=\"5.828125\" y=\"14\" style=\"font-family: 'Open Sans', verdana, arial, sans-serif; font-size: 12px; fill: rgb(255, 255, 255); fill-opacity: 1; white-space: pre;\">0</text></g></g></g><g class=\"annotation\" data-index=\"5\" style=\"opacity: 1;\"><g class=\"annotation-text-g\" transform=\"rotate(0,377,356.5)\"><g class=\"cursor-pointer\" transform=\"translate(371, 348)\"><rect class=\"bg\" x=\"0.5\" y=\"0.5\" width=\"11\" height=\"17\" style=\"stroke-width: 1px; stroke: rgb(0, 0, 0); stroke-opacity: 0; fill: rgb(0, 0, 0); fill-opacity: 0;\"/><text class=\"annotation-text\" text-anchor=\"middle\" x=\"5.828125\" y=\"14\" style=\"font-family: 'Open Sans', verdana, arial, sans-serif; font-size: 12px; fill: rgb(255, 255, 255); fill-opacity: 1; white-space: pre;\">0</text></g></g></g><g class=\"annotation\" data-index=\"6\" style=\"opacity: 1;\"><g class=\"annotation-text-g\" transform=\"rotate(0,431,356.5)\"><g class=\"cursor-pointer\" transform=\"translate(425, 348)\"><rect class=\"bg\" x=\"0.5\" y=\"0.5\" width=\"11\" height=\"17\" style=\"stroke-width: 1px; stroke: rgb(0, 0, 0); stroke-opacity: 0; fill: rgb(0, 0, 0); fill-opacity: 0;\"/><text class=\"annotation-text\" text-anchor=\"middle\" x=\"5.828125\" y=\"14\" style=\"font-family: 'Open Sans', verdana, arial, sans-serif; font-size: 12px; fill: rgb(255, 255, 255); fill-opacity: 1; white-space: pre;\">1</text></g></g></g><g class=\"annotation\" data-index=\"7\" style=\"opacity: 1;\"><g class=\"annotation-text-g\" transform=\"rotate(0,485,356.5)\"><g class=\"cursor-pointer\" transform=\"translate(479, 348)\"><rect class=\"bg\" x=\"0.5\" y=\"0.5\" width=\"11\" height=\"17\" style=\"stroke-width: 1px; stroke: rgb(0, 0, 0); stroke-opacity: 0; fill: rgb(0, 0, 0); fill-opacity: 0;\"/><text class=\"annotation-text\" text-anchor=\"middle\" x=\"5.828125\" y=\"14\" style=\"font-family: 'Open Sans', verdana, arial, sans-serif; font-size: 12px; fill: rgb(255, 255, 255); fill-opacity: 1; white-space: pre;\">0</text></g></g></g><g class=\"annotation\" data-index=\"8\" style=\"opacity: 1;\"><g class=\"annotation-text-g\" transform=\"rotate(0,539,356.5)\"><g class=\"cursor-pointer\" transform=\"translate(533, 348)\"><rect class=\"bg\" x=\"0.5\" y=\"0.5\" width=\"11\" height=\"17\" style=\"stroke-width: 1px; stroke: rgb(0, 0, 0); stroke-opacity: 0; fill: rgb(0, 0, 0); fill-opacity: 0;\"/><text class=\"annotation-text\" text-anchor=\"middle\" x=\"5.828125\" y=\"14\" style=\"font-family: 'Open Sans', verdana, arial, sans-serif; font-size: 12px; fill: rgb(255, 255, 255); fill-opacity: 1; white-space: pre;\">0</text></g></g></g><g class=\"annotation\" data-index=\"9\" style=\"opacity: 1;\"><g class=\"annotation-text-g\" transform=\"rotate(0,593,356.5)\"><g class=\"cursor-pointer\" transform=\"translate(587, 348)\"><rect class=\"bg\" x=\"0.5\" y=\"0.5\" width=\"11\" height=\"17\" style=\"stroke-width: 1px; stroke: rgb(0, 0, 0); stroke-opacity: 0; fill: rgb(0, 0, 0); fill-opacity: 0;\"/><text class=\"annotation-text\" text-anchor=\"middle\" x=\"5.828125\" y=\"14\" style=\"font-family: 'Open Sans', verdana, arial, sans-serif; font-size: 12px; fill: rgb(255, 255, 255); fill-opacity: 1; white-space: pre;\">0</text></g></g></g><g class=\"annotation\" data-index=\"10\" style=\"opacity: 1;\"><g class=\"annotation-text-g\" transform=\"rotate(0,107,329.5)\"><g class=\"cursor-pointer\" transform=\"translate(101, 321)\"><rect class=\"bg\" x=\"0.5\" y=\"0.5\" width=\"11\" height=\"17\" style=\"stroke-width: 1px; stroke: rgb(0, 0, 0); stroke-opacity: 0; fill: rgb(0, 0, 0); fill-opacity: 0;\"/><text class=\"annotation-text\" text-anchor=\"middle\" x=\"5.828125\" y=\"14\" style=\"font-family: 'Open Sans', verdana, arial, sans-serif; font-size: 12px; fill: rgb(255, 255, 255); fill-opacity: 1; white-space: pre;\">3</text></g></g></g><g class=\"annotation\" data-index=\"11\" style=\"opacity: 1;\"><g class=\"annotation-text-g\" transform=\"rotate(0,161,329.5)\"><g class=\"cursor-pointer\" transform=\"translate(144, 321)\"><rect class=\"bg\" x=\"0.5\" y=\"0.5\" width=\"34\" height=\"17\" style=\"stroke-width: 1px; stroke: rgb(0, 0, 0); stroke-opacity: 0; fill: rgb(0, 0, 0); fill-opacity: 0;\"/><text class=\"annotation-text\" text-anchor=\"middle\" x=\"17.265625\" y=\"14\" style=\"font-family: 'Open Sans', verdana, arial, sans-serif; font-size: 12px; fill: rgb(0, 0, 0); fill-opacity: 1; white-space: pre;\">1127</text></g></g></g><g class=\"annotation\" data-index=\"12\" style=\"opacity: 1;\"><g class=\"annotation-text-g\" transform=\"rotate(0,215,329.5)\"><g class=\"cursor-pointer\" transform=\"translate(209, 321)\"><rect class=\"bg\" x=\"0.5\" y=\"0.5\" width=\"11\" height=\"17\" style=\"stroke-width: 1px; stroke: rgb(0, 0, 0); stroke-opacity: 0; fill: rgb(0, 0, 0); fill-opacity: 0;\"/><text class=\"annotation-text\" text-anchor=\"middle\" x=\"5.828125\" y=\"14\" style=\"font-family: 'Open Sans', verdana, arial, sans-serif; font-size: 12px; fill: rgb(255, 255, 255); fill-opacity: 1; white-space: pre;\">2</text></g></g></g><g class=\"annotation\" data-index=\"13\" style=\"opacity: 1;\"><g class=\"annotation-text-g\" transform=\"rotate(0,269,329.5)\"><g class=\"cursor-pointer\" transform=\"translate(263, 321)\"><rect class=\"bg\" x=\"0.5\" y=\"0.5\" width=\"11\" height=\"17\" style=\"stroke-width: 1px; stroke: rgb(0, 0, 0); stroke-opacity: 0; fill: rgb(0, 0, 0); fill-opacity: 0;\"/><text class=\"annotation-text\" text-anchor=\"middle\" x=\"5.828125\" y=\"14\" style=\"font-family: 'Open Sans', verdana, arial, sans-serif; font-size: 12px; fill: rgb(255, 255, 255); fill-opacity: 1; white-space: pre;\">1</text></g></g></g><g class=\"annotation\" data-index=\"14\" style=\"opacity: 1;\"><g class=\"annotation-text-g\" transform=\"rotate(0,323,329.5)\"><g class=\"cursor-pointer\" transform=\"translate(317, 321)\"><rect class=\"bg\" x=\"0.5\" y=\"0.5\" width=\"11\" height=\"17\" style=\"stroke-width: 1px; stroke: rgb(0, 0, 0); stroke-opacity: 0; fill: rgb(0, 0, 0); fill-opacity: 0;\"/><text class=\"annotation-text\" text-anchor=\"middle\" x=\"5.828125\" y=\"14\" style=\"font-family: 'Open Sans', verdana, arial, sans-serif; font-size: 12px; fill: rgb(255, 255, 255); fill-opacity: 1; white-space: pre;\">0</text></g></g></g><g class=\"annotation\" data-index=\"15\" style=\"opacity: 1;\"><g class=\"annotation-text-g\" transform=\"rotate(0,377,329.5)\"><g class=\"cursor-pointer\" transform=\"translate(371, 321)\"><rect class=\"bg\" x=\"0.5\" y=\"0.5\" width=\"11\" height=\"17\" style=\"stroke-width: 1px; stroke: rgb(0, 0, 0); stroke-opacity: 0; fill: rgb(0, 0, 0); fill-opacity: 0;\"/><text class=\"annotation-text\" text-anchor=\"middle\" x=\"5.828125\" y=\"14\" style=\"font-family: 'Open Sans', verdana, arial, sans-serif; font-size: 12px; fill: rgb(255, 255, 255); fill-opacity: 1; white-space: pre;\">0</text></g></g></g><g class=\"annotation\" data-index=\"16\" style=\"opacity: 1;\"><g class=\"annotation-text-g\" transform=\"rotate(0,431,329.5)\"><g class=\"cursor-pointer\" transform=\"translate(425, 321)\"><rect class=\"bg\" x=\"0.5\" y=\"0.5\" width=\"11\" height=\"17\" style=\"stroke-width: 1px; stroke: rgb(0, 0, 0); stroke-opacity: 0; fill: rgb(0, 0, 0); fill-opacity: 0;\"/><text class=\"annotation-text\" text-anchor=\"middle\" x=\"5.828125\" y=\"14\" style=\"font-family: 'Open Sans', verdana, arial, sans-serif; font-size: 12px; fill: rgb(255, 255, 255); fill-opacity: 1; white-space: pre;\">2</text></g></g></g><g class=\"annotation\" data-index=\"17\" style=\"opacity: 1;\"><g class=\"annotation-text-g\" transform=\"rotate(0,485,329.5)\"><g class=\"cursor-pointer\" transform=\"translate(479, 321)\"><rect class=\"bg\" x=\"0.5\" y=\"0.5\" width=\"11\" height=\"17\" style=\"stroke-width: 1px; stroke: rgb(0, 0, 0); stroke-opacity: 0; fill: rgb(0, 0, 0); fill-opacity: 0;\"/><text class=\"annotation-text\" text-anchor=\"middle\" x=\"5.828125\" y=\"14\" style=\"font-family: 'Open Sans', verdana, arial, sans-serif; font-size: 12px; fill: rgb(255, 255, 255); fill-opacity: 1; white-space: pre;\">0</text></g></g></g><g class=\"annotation\" data-index=\"18\" style=\"opacity: 1;\"><g class=\"annotation-text-g\" transform=\"rotate(0,539,329.5)\"><g class=\"cursor-pointer\" transform=\"translate(533, 321)\"><rect class=\"bg\" x=\"0.5\" y=\"0.5\" width=\"11\" height=\"17\" style=\"stroke-width: 1px; stroke: rgb(0, 0, 0); stroke-opacity: 0; fill: rgb(0, 0, 0); fill-opacity: 0;\"/><text class=\"annotation-text\" text-anchor=\"middle\" x=\"5.828125\" y=\"14\" style=\"font-family: 'Open Sans', verdana, arial, sans-serif; font-size: 12px; fill: rgb(255, 255, 255); fill-opacity: 1; white-space: pre;\">0</text></g></g></g><g class=\"annotation\" data-index=\"19\" style=\"opacity: 1;\"><g class=\"annotation-text-g\" transform=\"rotate(0,593,329.5)\"><g class=\"cursor-pointer\" transform=\"translate(587, 321)\"><rect class=\"bg\" x=\"0.5\" y=\"0.5\" width=\"11\" height=\"17\" style=\"stroke-width: 1px; stroke: rgb(0, 0, 0); stroke-opacity: 0; fill: rgb(0, 0, 0); fill-opacity: 0;\"/><text class=\"annotation-text\" text-anchor=\"middle\" x=\"5.828125\" y=\"14\" style=\"font-family: 'Open Sans', verdana, arial, sans-serif; font-size: 12px; fill: rgb(255, 255, 255); fill-opacity: 1; white-space: pre;\">0</text></g></g></g><g class=\"annotation\" data-index=\"20\" style=\"opacity: 1;\"><g class=\"annotation-text-g\" transform=\"rotate(0,107,302.5)\"><g class=\"cursor-pointer\" transform=\"translate(101, 294)\"><rect class=\"bg\" x=\"0.5\" y=\"0.5\" width=\"11\" height=\"17\" style=\"stroke-width: 1px; stroke: rgb(0, 0, 0); stroke-opacity: 0; fill: rgb(0, 0, 0); fill-opacity: 0;\"/><text class=\"annotation-text\" text-anchor=\"middle\" x=\"5.828125\" y=\"14\" style=\"font-family: 'Open Sans', verdana, arial, sans-serif; font-size: 12px; fill: rgb(255, 255, 255); fill-opacity: 1; white-space: pre;\">2</text></g></g></g><g class=\"annotation\" data-index=\"21\" style=\"opacity: 1;\"><g class=\"annotation-text-g\" transform=\"rotate(0,161,302.5)\"><g class=\"cursor-pointer\" transform=\"translate(155, 294)\"><rect class=\"bg\" x=\"0.5\" y=\"0.5\" width=\"11\" height=\"17\" style=\"stroke-width: 1px; stroke: rgb(0, 0, 0); stroke-opacity: 0; fill: rgb(0, 0, 0); fill-opacity: 0;\"/><text class=\"annotation-text\" text-anchor=\"middle\" x=\"5.828125\" y=\"14\" style=\"font-family: 'Open Sans', verdana, arial, sans-serif; font-size: 12px; fill: rgb(255, 255, 255); fill-opacity: 1; white-space: pre;\">1</text></g></g></g><g class=\"annotation\" data-index=\"22\" style=\"opacity: 1;\"><g class=\"annotation-text-g\" transform=\"rotate(0,215,302.5)\"><g class=\"cursor-pointer\" transform=\"translate(198, 294)\"><rect class=\"bg\" x=\"0.5\" y=\"0.5\" width=\"34\" height=\"17\" style=\"stroke-width: 1px; stroke: rgb(0, 0, 0); stroke-opacity: 0; fill: rgb(0, 0, 0); fill-opacity: 0;\"/><text class=\"annotation-text\" text-anchor=\"middle\" x=\"17.265625\" y=\"14\" style=\"font-family: 'Open Sans', verdana, arial, sans-serif; font-size: 12px; fill: rgb(0, 0, 0); fill-opacity: 1; white-space: pre;\">1024</text></g></g></g><g class=\"annotation\" data-index=\"23\" style=\"opacity: 1;\"><g class=\"annotation-text-g\" transform=\"rotate(0,269,302.5)\"><g class=\"cursor-pointer\" transform=\"translate(263, 294)\"><rect class=\"bg\" x=\"0.5\" y=\"0.5\" width=\"11\" height=\"17\" style=\"stroke-width: 1px; stroke: rgb(0, 0, 0); stroke-opacity: 0; fill: rgb(0, 0, 0); fill-opacity: 0;\"/><text class=\"annotation-text\" text-anchor=\"middle\" x=\"5.828125\" y=\"14\" style=\"font-family: 'Open Sans', verdana, arial, sans-serif; font-size: 12px; fill: rgb(255, 255, 255); fill-opacity: 1; white-space: pre;\">1</text></g></g></g><g class=\"annotation\" data-index=\"24\" style=\"opacity: 1;\"><g class=\"annotation-text-g\" transform=\"rotate(0,323,302.5)\"><g class=\"cursor-pointer\" transform=\"translate(317, 294)\"><rect class=\"bg\" x=\"0.5\" y=\"0.5\" width=\"11\" height=\"17\" style=\"stroke-width: 1px; stroke: rgb(0, 0, 0); stroke-opacity: 0; fill: rgb(0, 0, 0); fill-opacity: 0;\"/><text class=\"annotation-text\" text-anchor=\"middle\" x=\"5.828125\" y=\"14\" style=\"font-family: 'Open Sans', verdana, arial, sans-serif; font-size: 12px; fill: rgb(255, 255, 255); fill-opacity: 1; white-space: pre;\">0</text></g></g></g><g class=\"annotation\" data-index=\"25\" style=\"opacity: 1;\"><g class=\"annotation-text-g\" transform=\"rotate(0,377,302.5)\"><g class=\"cursor-pointer\" transform=\"translate(371, 294)\"><rect class=\"bg\" x=\"0.5\" y=\"0.5\" width=\"11\" height=\"17\" style=\"stroke-width: 1px; stroke: rgb(0, 0, 0); stroke-opacity: 0; fill: rgb(0, 0, 0); fill-opacity: 0;\"/><text class=\"annotation-text\" text-anchor=\"middle\" x=\"5.828125\" y=\"14\" style=\"font-family: 'Open Sans', verdana, arial, sans-serif; font-size: 12px; fill: rgb(255, 255, 255); fill-opacity: 1; white-space: pre;\">0</text></g></g></g><g class=\"annotation\" data-index=\"26\" style=\"opacity: 1;\"><g class=\"annotation-text-g\" transform=\"rotate(0,431,302.5)\"><g class=\"cursor-pointer\" transform=\"translate(425, 294)\"><rect class=\"bg\" x=\"0.5\" y=\"0.5\" width=\"11\" height=\"17\" style=\"stroke-width: 1px; stroke: rgb(0, 0, 0); stroke-opacity: 0; fill: rgb(0, 0, 0); fill-opacity: 0;\"/><text class=\"annotation-text\" text-anchor=\"middle\" x=\"5.828125\" y=\"14\" style=\"font-family: 'Open Sans', verdana, arial, sans-serif; font-size: 12px; fill: rgb(255, 255, 255); fill-opacity: 1; white-space: pre;\">0</text></g></g></g><g class=\"annotation\" data-index=\"27\" style=\"opacity: 1;\"><g class=\"annotation-text-g\" transform=\"rotate(0,485,302.5)\"><g class=\"cursor-pointer\" transform=\"translate(479, 294)\"><rect class=\"bg\" x=\"0.5\" y=\"0.5\" width=\"11\" height=\"17\" style=\"stroke-width: 1px; stroke: rgb(0, 0, 0); stroke-opacity: 0; fill: rgb(0, 0, 0); fill-opacity: 0;\"/><text class=\"annotation-text\" text-anchor=\"middle\" x=\"5.828125\" y=\"14\" style=\"font-family: 'Open Sans', verdana, arial, sans-serif; font-size: 12px; fill: rgb(255, 255, 255); fill-opacity: 1; white-space: pre;\">3</text></g></g></g><g class=\"annotation\" data-index=\"28\" style=\"opacity: 1;\"><g class=\"annotation-text-g\" transform=\"rotate(0,539,302.5)\"><g class=\"cursor-pointer\" transform=\"translate(533, 294)\"><rect class=\"bg\" x=\"0.5\" y=\"0.5\" width=\"11\" height=\"17\" style=\"stroke-width: 1px; stroke: rgb(0, 0, 0); stroke-opacity: 0; fill: rgb(0, 0, 0); fill-opacity: 0;\"/><text class=\"annotation-text\" text-anchor=\"middle\" x=\"5.828125\" y=\"14\" style=\"font-family: 'Open Sans', verdana, arial, sans-serif; font-size: 12px; fill: rgb(255, 255, 255); fill-opacity: 1; white-space: pre;\">1</text></g></g></g><g class=\"annotation\" data-index=\"29\" style=\"opacity: 1;\"><g class=\"annotation-text-g\" transform=\"rotate(0,593,302.5)\"><g class=\"cursor-pointer\" transform=\"translate(587, 294)\"><rect class=\"bg\" x=\"0.5\" y=\"0.5\" width=\"11\" height=\"17\" style=\"stroke-width: 1px; stroke: rgb(0, 0, 0); stroke-opacity: 0; fill: rgb(0, 0, 0); fill-opacity: 0;\"/><text class=\"annotation-text\" text-anchor=\"middle\" x=\"5.828125\" y=\"14\" style=\"font-family: 'Open Sans', verdana, arial, sans-serif; font-size: 12px; fill: rgb(255, 255, 255); fill-opacity: 1; white-space: pre;\">0</text></g></g></g><g class=\"annotation\" data-index=\"30\" style=\"opacity: 1;\"><g class=\"annotation-text-g\" transform=\"rotate(0,107,275.5)\"><g class=\"cursor-pointer\" transform=\"translate(101, 267)\"><rect class=\"bg\" x=\"0.5\" y=\"0.5\" width=\"11\" height=\"17\" style=\"stroke-width: 1px; stroke: rgb(0, 0, 0); stroke-opacity: 0; fill: rgb(0, 0, 0); fill-opacity: 0;\"/><text class=\"annotation-text\" text-anchor=\"middle\" x=\"5.828125\" y=\"14\" style=\"font-family: 'Open Sans', verdana, arial, sans-serif; font-size: 12px; fill: rgb(255, 255, 255); fill-opacity: 1; white-space: pre;\">0</text></g></g></g><g class=\"annotation\" data-index=\"31\" style=\"opacity: 1;\"><g class=\"annotation-text-g\" transform=\"rotate(0,161,275.5)\"><g class=\"cursor-pointer\" transform=\"translate(155, 267)\"><rect class=\"bg\" x=\"0.5\" y=\"0.5\" width=\"11\" height=\"17\" style=\"stroke-width: 1px; stroke: rgb(0, 0, 0); stroke-opacity: 0; fill: rgb(0, 0, 0); fill-opacity: 0;\"/><text class=\"annotation-text\" text-anchor=\"middle\" x=\"5.828125\" y=\"14\" style=\"font-family: 'Open Sans', verdana, arial, sans-serif; font-size: 12px; fill: rgb(255, 255, 255); fill-opacity: 1; white-space: pre;\">0</text></g></g></g><g class=\"annotation\" data-index=\"32\" style=\"opacity: 1;\"><g class=\"annotation-text-g\" transform=\"rotate(0,215,275.5)\"><g class=\"cursor-pointer\" transform=\"translate(209, 267)\"><rect class=\"bg\" x=\"0.5\" y=\"0.5\" width=\"11\" height=\"17\" style=\"stroke-width: 1px; stroke: rgb(0, 0, 0); stroke-opacity: 0; fill: rgb(0, 0, 0); fill-opacity: 0;\"/><text class=\"annotation-text\" text-anchor=\"middle\" x=\"5.828125\" y=\"14\" style=\"font-family: 'Open Sans', verdana, arial, sans-serif; font-size: 12px; fill: rgb(255, 255, 255); fill-opacity: 1; white-space: pre;\">0</text></g></g></g><g class=\"annotation\" data-index=\"33\" style=\"opacity: 1;\"><g class=\"annotation-text-g\" transform=\"rotate(0,269,275.5)\"><g class=\"cursor-pointer\" transform=\"translate(252, 267)\"><rect class=\"bg\" x=\"0.5\" y=\"0.5\" width=\"34\" height=\"17\" style=\"stroke-width: 1px; stroke: rgb(0, 0, 0); stroke-opacity: 0; fill: rgb(0, 0, 0); fill-opacity: 0;\"/><text class=\"annotation-text\" text-anchor=\"middle\" x=\"17.265625\" y=\"14\" style=\"font-family: 'Open Sans', verdana, arial, sans-serif; font-size: 12px; fill: rgb(0, 0, 0); fill-opacity: 1; white-space: pre;\">1004</text></g></g></g><g class=\"annotation\" data-index=\"34\" style=\"opacity: 1;\"><g class=\"annotation-text-g\" transform=\"rotate(0,323,275.5)\"><g class=\"cursor-pointer\" transform=\"translate(317, 267)\"><rect class=\"bg\" x=\"0.5\" y=\"0.5\" width=\"11\" height=\"17\" style=\"stroke-width: 1px; stroke: rgb(0, 0, 0); stroke-opacity: 0; fill: rgb(0, 0, 0); fill-opacity: 0;\"/><text class=\"annotation-text\" text-anchor=\"middle\" x=\"5.828125\" y=\"14\" style=\"font-family: 'Open Sans', verdana, arial, sans-serif; font-size: 12px; fill: rgb(255, 255, 255); fill-opacity: 1; white-space: pre;\">0</text></g></g></g><g class=\"annotation\" data-index=\"35\" style=\"opacity: 1;\"><g class=\"annotation-text-g\" transform=\"rotate(0,377,275.5)\"><g class=\"cursor-pointer\" transform=\"translate(371, 267)\"><rect class=\"bg\" x=\"0.5\" y=\"0.5\" width=\"11\" height=\"17\" style=\"stroke-width: 1px; stroke: rgb(0, 0, 0); stroke-opacity: 0; fill: rgb(0, 0, 0); fill-opacity: 0;\"/><text class=\"annotation-text\" text-anchor=\"middle\" x=\"5.828125\" y=\"14\" style=\"font-family: 'Open Sans', verdana, arial, sans-serif; font-size: 12px; fill: rgb(255, 255, 255); fill-opacity: 1; white-space: pre;\">4</text></g></g></g><g class=\"annotation\" data-index=\"36\" style=\"opacity: 1;\"><g class=\"annotation-text-g\" transform=\"rotate(0,431,275.5)\"><g class=\"cursor-pointer\" transform=\"translate(425, 267)\"><rect class=\"bg\" x=\"0.5\" y=\"0.5\" width=\"11\" height=\"17\" style=\"stroke-width: 1px; stroke: rgb(0, 0, 0); stroke-opacity: 0; fill: rgb(0, 0, 0); fill-opacity: 0;\"/><text class=\"annotation-text\" text-anchor=\"middle\" x=\"5.828125\" y=\"14\" style=\"font-family: 'Open Sans', verdana, arial, sans-serif; font-size: 12px; fill: rgb(255, 255, 255); fill-opacity: 1; white-space: pre;\">0</text></g></g></g><g class=\"annotation\" data-index=\"37\" style=\"opacity: 1;\"><g class=\"annotation-text-g\" transform=\"rotate(0,485,275.5)\"><g class=\"cursor-pointer\" transform=\"translate(479, 267)\"><rect class=\"bg\" x=\"0.5\" y=\"0.5\" width=\"11\" height=\"17\" style=\"stroke-width: 1px; stroke: rgb(0, 0, 0); stroke-opacity: 0; fill: rgb(0, 0, 0); fill-opacity: 0;\"/><text class=\"annotation-text\" text-anchor=\"middle\" x=\"5.828125\" y=\"14\" style=\"font-family: 'Open Sans', verdana, arial, sans-serif; font-size: 12px; fill: rgb(255, 255, 255); fill-opacity: 1; white-space: pre;\">0</text></g></g></g><g class=\"annotation\" data-index=\"38\" style=\"opacity: 1;\"><g class=\"annotation-text-g\" transform=\"rotate(0,539,275.5)\"><g class=\"cursor-pointer\" transform=\"translate(533, 267)\"><rect class=\"bg\" x=\"0.5\" y=\"0.5\" width=\"11\" height=\"17\" style=\"stroke-width: 1px; stroke: rgb(0, 0, 0); stroke-opacity: 0; fill: rgb(0, 0, 0); fill-opacity: 0;\"/><text class=\"annotation-text\" text-anchor=\"middle\" x=\"5.828125\" y=\"14\" style=\"font-family: 'Open Sans', verdana, arial, sans-serif; font-size: 12px; fill: rgb(255, 255, 255); fill-opacity: 1; white-space: pre;\">2</text></g></g></g><g class=\"annotation\" data-index=\"39\" style=\"opacity: 1;\"><g class=\"annotation-text-g\" transform=\"rotate(0,593,275.5)\"><g class=\"cursor-pointer\" transform=\"translate(587, 267)\"><rect class=\"bg\" x=\"0.5\" y=\"0.5\" width=\"11\" height=\"17\" style=\"stroke-width: 1px; stroke: rgb(0, 0, 0); stroke-opacity: 0; fill: rgb(0, 0, 0); fill-opacity: 0;\"/><text class=\"annotation-text\" text-anchor=\"middle\" x=\"5.828125\" y=\"14\" style=\"font-family: 'Open Sans', verdana, arial, sans-serif; font-size: 12px; fill: rgb(255, 255, 255); fill-opacity: 1; white-space: pre;\">0</text></g></g></g><g class=\"annotation\" data-index=\"40\" style=\"opacity: 1;\"><g class=\"annotation-text-g\" transform=\"rotate(0,107,248.5)\"><g class=\"cursor-pointer\" transform=\"translate(101, 240)\"><rect class=\"bg\" x=\"0.5\" y=\"0.5\" width=\"11\" height=\"17\" style=\"stroke-width: 1px; stroke: rgb(0, 0, 0); stroke-opacity: 0; fill: rgb(0, 0, 0); fill-opacity: 0;\"/><text class=\"annotation-text\" text-anchor=\"middle\" x=\"5.828125\" y=\"14\" style=\"font-family: 'Open Sans', verdana, arial, sans-serif; font-size: 12px; fill: rgb(255, 255, 255); fill-opacity: 1; white-space: pre;\">0</text></g></g></g><g class=\"annotation\" data-index=\"41\" style=\"opacity: 1;\"><g class=\"annotation-text-g\" transform=\"rotate(0,161,248.5)\"><g class=\"cursor-pointer\" transform=\"translate(155, 240)\"><rect class=\"bg\" x=\"0.5\" y=\"0.5\" width=\"11\" height=\"17\" style=\"stroke-width: 1px; stroke: rgb(0, 0, 0); stroke-opacity: 0; fill: rgb(0, 0, 0); fill-opacity: 0;\"/><text class=\"annotation-text\" text-anchor=\"middle\" x=\"5.828125\" y=\"14\" style=\"font-family: 'Open Sans', verdana, arial, sans-serif; font-size: 12px; fill: rgb(255, 255, 255); fill-opacity: 1; white-space: pre;\">1</text></g></g></g><g class=\"annotation\" data-index=\"42\" style=\"opacity: 1;\"><g class=\"annotation-text-g\" transform=\"rotate(0,215,248.5)\"><g class=\"cursor-pointer\" transform=\"translate(209, 240)\"><rect class=\"bg\" x=\"0.5\" y=\"0.5\" width=\"11\" height=\"17\" style=\"stroke-width: 1px; stroke: rgb(0, 0, 0); stroke-opacity: 0; fill: rgb(0, 0, 0); fill-opacity: 0;\"/><text class=\"annotation-text\" text-anchor=\"middle\" x=\"5.828125\" y=\"14\" style=\"font-family: 'Open Sans', verdana, arial, sans-serif; font-size: 12px; fill: rgb(255, 255, 255); fill-opacity: 1; white-space: pre;\">0</text></g></g></g><g class=\"annotation\" data-index=\"43\" style=\"opacity: 1;\"><g class=\"annotation-text-g\" transform=\"rotate(0,269,248.5)\"><g class=\"cursor-pointer\" transform=\"translate(263, 240)\"><rect class=\"bg\" x=\"0.5\" y=\"0.5\" width=\"11\" height=\"17\" style=\"stroke-width: 1px; stroke: rgb(0, 0, 0); stroke-opacity: 0; fill: rgb(0, 0, 0); fill-opacity: 0;\"/><text class=\"annotation-text\" text-anchor=\"middle\" x=\"5.828125\" y=\"14\" style=\"font-family: 'Open Sans', verdana, arial, sans-serif; font-size: 12px; fill: rgb(255, 255, 255); fill-opacity: 1; white-space: pre;\">0</text></g></g></g><g class=\"annotation\" data-index=\"44\" style=\"opacity: 1;\"><g class=\"annotation-text-g\" transform=\"rotate(0,323,248.5)\"><g class=\"cursor-pointer\" transform=\"translate(310, 240)\"><rect class=\"bg\" x=\"0.5\" y=\"0.5\" width=\"26\" height=\"17\" style=\"stroke-width: 1px; stroke: rgb(0, 0, 0); stroke-opacity: 0; fill: rgb(0, 0, 0); fill-opacity: 0;\"/><text class=\"annotation-text\" text-anchor=\"middle\" x=\"13.453125\" y=\"14\" style=\"font-family: 'Open Sans', verdana, arial, sans-serif; font-size: 12px; fill: rgb(0, 0, 0); fill-opacity: 1; white-space: pre;\">962</text></g></g></g><g class=\"annotation\" data-index=\"45\" style=\"opacity: 1;\"><g class=\"annotation-text-g\" transform=\"rotate(0,377,248.5)\"><g class=\"cursor-pointer\" transform=\"translate(371, 240)\"><rect class=\"bg\" x=\"0.5\" y=\"0.5\" width=\"11\" height=\"17\" style=\"stroke-width: 1px; stroke: rgb(0, 0, 0); stroke-opacity: 0; fill: rgb(0, 0, 0); fill-opacity: 0;\"/><text class=\"annotation-text\" text-anchor=\"middle\" x=\"5.828125\" y=\"14\" style=\"font-family: 'Open Sans', verdana, arial, sans-serif; font-size: 12px; fill: rgb(255, 255, 255); fill-opacity: 1; white-space: pre;\">0</text></g></g></g><g class=\"annotation\" data-index=\"46\" style=\"opacity: 1;\"><g class=\"annotation-text-g\" transform=\"rotate(0,431,248.5)\"><g class=\"cursor-pointer\" transform=\"translate(425, 240)\"><rect class=\"bg\" x=\"0.5\" y=\"0.5\" width=\"11\" height=\"17\" style=\"stroke-width: 1px; stroke: rgb(0, 0, 0); stroke-opacity: 0; fill: rgb(0, 0, 0); fill-opacity: 0;\"/><text class=\"annotation-text\" text-anchor=\"middle\" x=\"5.828125\" y=\"14\" style=\"font-family: 'Open Sans', verdana, arial, sans-serif; font-size: 12px; fill: rgb(255, 255, 255); fill-opacity: 1; white-space: pre;\">2</text></g></g></g><g class=\"annotation\" data-index=\"47\" style=\"opacity: 1;\"><g class=\"annotation-text-g\" transform=\"rotate(0,485,248.5)\"><g class=\"cursor-pointer\" transform=\"translate(479, 240)\"><rect class=\"bg\" x=\"0.5\" y=\"0.5\" width=\"11\" height=\"17\" style=\"stroke-width: 1px; stroke: rgb(0, 0, 0); stroke-opacity: 0; fill: rgb(0, 0, 0); fill-opacity: 0;\"/><text class=\"annotation-text\" text-anchor=\"middle\" x=\"5.828125\" y=\"14\" style=\"font-family: 'Open Sans', verdana, arial, sans-serif; font-size: 12px; fill: rgb(255, 255, 255); fill-opacity: 1; white-space: pre;\">0</text></g></g></g><g class=\"annotation\" data-index=\"48\" style=\"opacity: 1;\"><g class=\"annotation-text-g\" transform=\"rotate(0,539,248.5)\"><g class=\"cursor-pointer\" transform=\"translate(533, 240)\"><rect class=\"bg\" x=\"0.5\" y=\"0.5\" width=\"11\" height=\"17\" style=\"stroke-width: 1px; stroke: rgb(0, 0, 0); stroke-opacity: 0; fill: rgb(0, 0, 0); fill-opacity: 0;\"/><text class=\"annotation-text\" text-anchor=\"middle\" x=\"5.828125\" y=\"14\" style=\"font-family: 'Open Sans', verdana, arial, sans-serif; font-size: 12px; fill: rgb(255, 255, 255); fill-opacity: 1; white-space: pre;\">1</text></g></g></g><g class=\"annotation\" data-index=\"49\" style=\"opacity: 1;\"><g class=\"annotation-text-g\" transform=\"rotate(0,593,248.5)\"><g class=\"cursor-pointer\" transform=\"translate(583, 240)\"><rect class=\"bg\" x=\"0.5\" y=\"0.5\" width=\"19\" height=\"17\" style=\"stroke-width: 1px; stroke: rgb(0, 0, 0); stroke-opacity: 0; fill: rgb(0, 0, 0); fill-opacity: 0;\"/><text class=\"annotation-text\" text-anchor=\"middle\" x=\"9.640625\" y=\"14\" style=\"font-family: 'Open Sans', verdana, arial, sans-serif; font-size: 12px; fill: rgb(255, 255, 255); fill-opacity: 1; white-space: pre;\">16</text></g></g></g><g class=\"annotation\" data-index=\"50\" style=\"opacity: 1;\"><g class=\"annotation-text-g\" transform=\"rotate(0,107,221.5)\"><g class=\"cursor-pointer\" transform=\"translate(101, 213)\"><rect class=\"bg\" x=\"0.5\" y=\"0.5\" width=\"11\" height=\"17\" style=\"stroke-width: 1px; stroke: rgb(0, 0, 0); stroke-opacity: 0; fill: rgb(0, 0, 0); fill-opacity: 0;\"/><text class=\"annotation-text\" text-anchor=\"middle\" x=\"5.828125\" y=\"14\" style=\"font-family: 'Open Sans', verdana, arial, sans-serif; font-size: 12px; fill: rgb(255, 255, 255); fill-opacity: 1; white-space: pre;\">2</text></g></g></g><g class=\"annotation\" data-index=\"51\" style=\"opacity: 1;\"><g class=\"annotation-text-g\" transform=\"rotate(0,161,221.5)\"><g class=\"cursor-pointer\" transform=\"translate(155, 213)\"><rect class=\"bg\" x=\"0.5\" y=\"0.5\" width=\"11\" height=\"17\" style=\"stroke-width: 1px; stroke: rgb(0, 0, 0); stroke-opacity: 0; fill: rgb(0, 0, 0); fill-opacity: 0;\"/><text class=\"annotation-text\" text-anchor=\"middle\" x=\"5.828125\" y=\"14\" style=\"font-family: 'Open Sans', verdana, arial, sans-serif; font-size: 12px; fill: rgb(255, 255, 255); fill-opacity: 1; white-space: pre;\">0</text></g></g></g><g class=\"annotation\" data-index=\"52\" style=\"opacity: 1;\"><g class=\"annotation-text-g\" transform=\"rotate(0,215,221.5)\"><g class=\"cursor-pointer\" transform=\"translate(209, 213)\"><rect class=\"bg\" x=\"0.5\" y=\"0.5\" width=\"11\" height=\"17\" style=\"stroke-width: 1px; stroke: rgb(0, 0, 0); stroke-opacity: 0; fill: rgb(0, 0, 0); fill-opacity: 0;\"/><text class=\"annotation-text\" text-anchor=\"middle\" x=\"5.828125\" y=\"14\" style=\"font-family: 'Open Sans', verdana, arial, sans-serif; font-size: 12px; fill: rgb(255, 255, 255); fill-opacity: 1; white-space: pre;\">0</text></g></g></g><g class=\"annotation\" data-index=\"53\" style=\"opacity: 1;\"><g class=\"annotation-text-g\" transform=\"rotate(0,269,221.5)\"><g class=\"cursor-pointer\" transform=\"translate(263, 213)\"><rect class=\"bg\" x=\"0.5\" y=\"0.5\" width=\"11\" height=\"17\" style=\"stroke-width: 1px; stroke: rgb(0, 0, 0); stroke-opacity: 0; fill: rgb(0, 0, 0); fill-opacity: 0;\"/><text class=\"annotation-text\" text-anchor=\"middle\" x=\"5.828125\" y=\"14\" style=\"font-family: 'Open Sans', verdana, arial, sans-serif; font-size: 12px; fill: rgb(255, 255, 255); fill-opacity: 1; white-space: pre;\">6</text></g></g></g><g class=\"annotation\" data-index=\"54\" style=\"opacity: 1;\"><g class=\"annotation-text-g\" transform=\"rotate(0,323,221.5)\"><g class=\"cursor-pointer\" transform=\"translate(317, 213)\"><rect class=\"bg\" x=\"0.5\" y=\"0.5\" width=\"11\" height=\"17\" style=\"stroke-width: 1px; stroke: rgb(0, 0, 0); stroke-opacity: 0; fill: rgb(0, 0, 0); fill-opacity: 0;\"/><text class=\"annotation-text\" text-anchor=\"middle\" x=\"5.828125\" y=\"14\" style=\"font-family: 'Open Sans', verdana, arial, sans-serif; font-size: 12px; fill: rgb(255, 255, 255); fill-opacity: 1; white-space: pre;\">0</text></g></g></g><g class=\"annotation\" data-index=\"55\" style=\"opacity: 1;\"><g class=\"annotation-text-g\" transform=\"rotate(0,377,221.5)\"><g class=\"cursor-pointer\" transform=\"translate(364, 213)\"><rect class=\"bg\" x=\"0.5\" y=\"0.5\" width=\"26\" height=\"17\" style=\"stroke-width: 1px; stroke: rgb(0, 0, 0); stroke-opacity: 0; fill: rgb(0, 0, 0); fill-opacity: 0;\"/><text class=\"annotation-text\" text-anchor=\"middle\" x=\"13.453125\" y=\"14\" style=\"font-family: 'Open Sans', verdana, arial, sans-serif; font-size: 12px; fill: rgb(0, 0, 0); fill-opacity: 1; white-space: pre;\">883</text></g></g></g><g class=\"annotation\" data-index=\"56\" style=\"opacity: 1;\"><g class=\"annotation-text-g\" transform=\"rotate(0,431,221.5)\"><g class=\"cursor-pointer\" transform=\"translate(425, 213)\"><rect class=\"bg\" x=\"0.5\" y=\"0.5\" width=\"11\" height=\"17\" style=\"stroke-width: 1px; stroke: rgb(0, 0, 0); stroke-opacity: 0; fill: rgb(0, 0, 0); fill-opacity: 0;\"/><text class=\"annotation-text\" text-anchor=\"middle\" x=\"5.828125\" y=\"14\" style=\"font-family: 'Open Sans', verdana, arial, sans-serif; font-size: 12px; fill: rgb(255, 255, 255); fill-opacity: 1; white-space: pre;\">1</text></g></g></g><g class=\"annotation\" data-index=\"57\" style=\"opacity: 1;\"><g class=\"annotation-text-g\" transform=\"rotate(0,485,221.5)\"><g class=\"cursor-pointer\" transform=\"translate(479, 213)\"><rect class=\"bg\" x=\"0.5\" y=\"0.5\" width=\"11\" height=\"17\" style=\"stroke-width: 1px; stroke: rgb(0, 0, 0); stroke-opacity: 0; fill: rgb(0, 0, 0); fill-opacity: 0;\"/><text class=\"annotation-text\" text-anchor=\"middle\" x=\"5.828125\" y=\"14\" style=\"font-family: 'Open Sans', verdana, arial, sans-serif; font-size: 12px; fill: rgb(255, 255, 255); fill-opacity: 1; white-space: pre;\">0</text></g></g></g><g class=\"annotation\" data-index=\"58\" style=\"opacity: 1;\"><g class=\"annotation-text-g\" transform=\"rotate(0,539,221.5)\"><g class=\"cursor-pointer\" transform=\"translate(533, 213)\"><rect class=\"bg\" x=\"0.5\" y=\"0.5\" width=\"11\" height=\"17\" style=\"stroke-width: 1px; stroke: rgb(0, 0, 0); stroke-opacity: 0; fill: rgb(0, 0, 0); fill-opacity: 0;\"/><text class=\"annotation-text\" text-anchor=\"middle\" x=\"5.828125\" y=\"14\" style=\"font-family: 'Open Sans', verdana, arial, sans-serif; font-size: 12px; fill: rgb(255, 255, 255); fill-opacity: 1; white-space: pre;\">0</text></g></g></g><g class=\"annotation\" data-index=\"59\" style=\"opacity: 1;\"><g class=\"annotation-text-g\" transform=\"rotate(0,593,221.5)\"><g class=\"cursor-pointer\" transform=\"translate(587, 213)\"><rect class=\"bg\" x=\"0.5\" y=\"0.5\" width=\"11\" height=\"17\" style=\"stroke-width: 1px; stroke: rgb(0, 0, 0); stroke-opacity: 0; fill: rgb(0, 0, 0); fill-opacity: 0;\"/><text class=\"annotation-text\" text-anchor=\"middle\" x=\"5.828125\" y=\"14\" style=\"font-family: 'Open Sans', verdana, arial, sans-serif; font-size: 12px; fill: rgb(255, 255, 255); fill-opacity: 1; white-space: pre;\">0</text></g></g></g><g class=\"annotation\" data-index=\"60\" style=\"opacity: 1;\"><g class=\"annotation-text-g\" transform=\"rotate(0,107,194.5)\"><g class=\"cursor-pointer\" transform=\"translate(101, 186)\"><rect class=\"bg\" x=\"0.5\" y=\"0.5\" width=\"11\" height=\"17\" style=\"stroke-width: 1px; stroke: rgb(0, 0, 0); stroke-opacity: 0; fill: rgb(0, 0, 0); fill-opacity: 0;\"/><text class=\"annotation-text\" text-anchor=\"middle\" x=\"5.828125\" y=\"14\" style=\"font-family: 'Open Sans', verdana, arial, sans-serif; font-size: 12px; fill: rgb(255, 255, 255); fill-opacity: 1; white-space: pre;\">6</text></g></g></g><g class=\"annotation\" data-index=\"61\" style=\"opacity: 1;\"><g class=\"annotation-text-g\" transform=\"rotate(0,161,194.5)\"><g class=\"cursor-pointer\" transform=\"translate(155, 186)\"><rect class=\"bg\" x=\"0.5\" y=\"0.5\" width=\"11\" height=\"17\" style=\"stroke-width: 1px; stroke: rgb(0, 0, 0); stroke-opacity: 0; fill: rgb(0, 0, 0); fill-opacity: 0;\"/><text class=\"annotation-text\" text-anchor=\"middle\" x=\"5.828125\" y=\"14\" style=\"font-family: 'Open Sans', verdana, arial, sans-serif; font-size: 12px; fill: rgb(255, 255, 255); fill-opacity: 1; white-space: pre;\">2</text></g></g></g><g class=\"annotation\" data-index=\"62\" style=\"opacity: 1;\"><g class=\"annotation-text-g\" transform=\"rotate(0,215,194.5)\"><g class=\"cursor-pointer\" transform=\"translate(209, 186)\"><rect class=\"bg\" x=\"0.5\" y=\"0.5\" width=\"11\" height=\"17\" style=\"stroke-width: 1px; stroke: rgb(0, 0, 0); stroke-opacity: 0; fill: rgb(0, 0, 0); fill-opacity: 0;\"/><text class=\"annotation-text\" text-anchor=\"middle\" x=\"5.828125\" y=\"14\" style=\"font-family: 'Open Sans', verdana, arial, sans-serif; font-size: 12px; fill: rgb(255, 255, 255); fill-opacity: 1; white-space: pre;\">0</text></g></g></g><g class=\"annotation\" data-index=\"63\" style=\"opacity: 1;\"><g class=\"annotation-text-g\" transform=\"rotate(0,269,194.5)\"><g class=\"cursor-pointer\" transform=\"translate(263, 186)\"><rect class=\"bg\" x=\"0.5\" y=\"0.5\" width=\"11\" height=\"17\" style=\"stroke-width: 1px; stroke: rgb(0, 0, 0); stroke-opacity: 0; fill: rgb(0, 0, 0); fill-opacity: 0;\"/><text class=\"annotation-text\" text-anchor=\"middle\" x=\"5.828125\" y=\"14\" style=\"font-family: 'Open Sans', verdana, arial, sans-serif; font-size: 12px; fill: rgb(255, 255, 255); fill-opacity: 1; white-space: pre;\">0</text></g></g></g><g class=\"annotation\" data-index=\"64\" style=\"opacity: 1;\"><g class=\"annotation-text-g\" transform=\"rotate(0,323,194.5)\"><g class=\"cursor-pointer\" transform=\"translate(317, 186)\"><rect class=\"bg\" x=\"0.5\" y=\"0.5\" width=\"11\" height=\"17\" style=\"stroke-width: 1px; stroke: rgb(0, 0, 0); stroke-opacity: 0; fill: rgb(0, 0, 0); fill-opacity: 0;\"/><text class=\"annotation-text\" text-anchor=\"middle\" x=\"5.828125\" y=\"14\" style=\"font-family: 'Open Sans', verdana, arial, sans-serif; font-size: 12px; fill: rgb(255, 255, 255); fill-opacity: 1; white-space: pre;\">3</text></g></g></g><g class=\"annotation\" data-index=\"65\" style=\"opacity: 1;\"><g class=\"annotation-text-g\" transform=\"rotate(0,377,194.5)\"><g class=\"cursor-pointer\" transform=\"translate(371, 186)\"><rect class=\"bg\" x=\"0.5\" y=\"0.5\" width=\"11\" height=\"17\" style=\"stroke-width: 1px; stroke: rgb(0, 0, 0); stroke-opacity: 0; fill: rgb(0, 0, 0); fill-opacity: 0;\"/><text class=\"annotation-text\" text-anchor=\"middle\" x=\"5.828125\" y=\"14\" style=\"font-family: 'Open Sans', verdana, arial, sans-serif; font-size: 12px; fill: rgb(255, 255, 255); fill-opacity: 1; white-space: pre;\">2</text></g></g></g><g class=\"annotation\" data-index=\"66\" style=\"opacity: 1;\"><g class=\"annotation-text-g\" transform=\"rotate(0,431,194.5)\"><g class=\"cursor-pointer\" transform=\"translate(418, 186)\"><rect class=\"bg\" x=\"0.5\" y=\"0.5\" width=\"26\" height=\"17\" style=\"stroke-width: 1px; stroke: rgb(0, 0, 0); stroke-opacity: 0; fill: rgb(0, 0, 0); fill-opacity: 0;\"/><text class=\"annotation-text\" text-anchor=\"middle\" x=\"13.453125\" y=\"14\" style=\"font-family: 'Open Sans', verdana, arial, sans-serif; font-size: 12px; fill: rgb(0, 0, 0); fill-opacity: 1; white-space: pre;\">943</text></g></g></g><g class=\"annotation\" data-index=\"67\" style=\"opacity: 1;\"><g class=\"annotation-text-g\" transform=\"rotate(0,485,194.5)\"><g class=\"cursor-pointer\" transform=\"translate(479, 186)\"><rect class=\"bg\" x=\"0.5\" y=\"0.5\" width=\"11\" height=\"17\" style=\"stroke-width: 1px; stroke: rgb(0, 0, 0); stroke-opacity: 0; fill: rgb(0, 0, 0); fill-opacity: 0;\"/><text class=\"annotation-text\" text-anchor=\"middle\" x=\"5.828125\" y=\"14\" style=\"font-family: 'Open Sans', verdana, arial, sans-serif; font-size: 12px; fill: rgb(255, 255, 255); fill-opacity: 1; white-space: pre;\">0</text></g></g></g><g class=\"annotation\" data-index=\"68\" style=\"opacity: 1;\"><g class=\"annotation-text-g\" transform=\"rotate(0,539,194.5)\"><g class=\"cursor-pointer\" transform=\"translate(533, 186)\"><rect class=\"bg\" x=\"0.5\" y=\"0.5\" width=\"11\" height=\"17\" style=\"stroke-width: 1px; stroke: rgb(0, 0, 0); stroke-opacity: 0; fill: rgb(0, 0, 0); fill-opacity: 0;\"/><text class=\"annotation-text\" text-anchor=\"middle\" x=\"5.828125\" y=\"14\" style=\"font-family: 'Open Sans', verdana, arial, sans-serif; font-size: 12px; fill: rgb(255, 255, 255); fill-opacity: 1; white-space: pre;\">2</text></g></g></g><g class=\"annotation\" data-index=\"69\" style=\"opacity: 1;\"><g class=\"annotation-text-g\" transform=\"rotate(0,593,194.5)\"><g class=\"cursor-pointer\" transform=\"translate(587, 186)\"><rect class=\"bg\" x=\"0.5\" y=\"0.5\" width=\"11\" height=\"17\" style=\"stroke-width: 1px; stroke: rgb(0, 0, 0); stroke-opacity: 0; fill: rgb(0, 0, 0); fill-opacity: 0;\"/><text class=\"annotation-text\" text-anchor=\"middle\" x=\"5.828125\" y=\"14\" style=\"font-family: 'Open Sans', verdana, arial, sans-serif; font-size: 12px; fill: rgb(255, 255, 255); fill-opacity: 1; white-space: pre;\">0</text></g></g></g><g class=\"annotation\" data-index=\"70\" style=\"opacity: 1;\"><g class=\"annotation-text-g\" transform=\"rotate(0,107,167.5)\"><g class=\"cursor-pointer\" transform=\"translate(101, 159)\"><rect class=\"bg\" x=\"0.5\" y=\"0.5\" width=\"11\" height=\"17\" style=\"stroke-width: 1px; stroke: rgb(0, 0, 0); stroke-opacity: 0; fill: rgb(0, 0, 0); fill-opacity: 0;\"/><text class=\"annotation-text\" text-anchor=\"middle\" x=\"5.828125\" y=\"14\" style=\"font-family: 'Open Sans', verdana, arial, sans-serif; font-size: 12px; fill: rgb(255, 255, 255); fill-opacity: 1; white-space: pre;\">1</text></g></g></g><g class=\"annotation\" data-index=\"71\" style=\"opacity: 1;\"><g class=\"annotation-text-g\" transform=\"rotate(0,161,167.5)\"><g class=\"cursor-pointer\" transform=\"translate(155, 159)\"><rect class=\"bg\" x=\"0.5\" y=\"0.5\" width=\"11\" height=\"17\" style=\"stroke-width: 1px; stroke: rgb(0, 0, 0); stroke-opacity: 0; fill: rgb(0, 0, 0); fill-opacity: 0;\"/><text class=\"annotation-text\" text-anchor=\"middle\" x=\"5.828125\" y=\"14\" style=\"font-family: 'Open Sans', verdana, arial, sans-serif; font-size: 12px; fill: rgb(255, 255, 255); fill-opacity: 1; white-space: pre;\">4</text></g></g></g><g class=\"annotation\" data-index=\"72\" style=\"opacity: 1;\"><g class=\"annotation-text-g\" transform=\"rotate(0,215,167.5)\"><g class=\"cursor-pointer\" transform=\"translate(206, 159)\"><rect class=\"bg\" x=\"0.5\" y=\"0.5\" width=\"18\" height=\"17\" style=\"stroke-width: 1px; stroke: rgb(0, 0, 0); stroke-opacity: 0; fill: rgb(0, 0, 0); fill-opacity: 0;\"/><text class=\"annotation-text\" text-anchor=\"middle\" x=\"9.640625\" y=\"14\" style=\"font-family: 'Open Sans', verdana, arial, sans-serif; font-size: 12px; fill: rgb(255, 255, 255); fill-opacity: 1; white-space: pre;\">15</text></g></g></g><g class=\"annotation\" data-index=\"73\" style=\"opacity: 1;\"><g class=\"annotation-text-g\" transform=\"rotate(0,269,167.5)\"><g class=\"cursor-pointer\" transform=\"translate(263, 159)\"><rect class=\"bg\" x=\"0.5\" y=\"0.5\" width=\"11\" height=\"17\" style=\"stroke-width: 1px; stroke: rgb(0, 0, 0); stroke-opacity: 0; fill: rgb(0, 0, 0); fill-opacity: 0;\"/><text class=\"annotation-text\" text-anchor=\"middle\" x=\"5.828125\" y=\"14\" style=\"font-family: 'Open Sans', verdana, arial, sans-serif; font-size: 12px; fill: rgb(255, 255, 255); fill-opacity: 1; white-space: pre;\">3</text></g></g></g><g class=\"annotation\" data-index=\"74\" style=\"opacity: 1;\"><g class=\"annotation-text-g\" transform=\"rotate(0,323,167.5)\"><g class=\"cursor-pointer\" transform=\"translate(317, 159)\"><rect class=\"bg\" x=\"0.5\" y=\"0.5\" width=\"11\" height=\"17\" style=\"stroke-width: 1px; stroke: rgb(0, 0, 0); stroke-opacity: 0; fill: rgb(0, 0, 0); fill-opacity: 0;\"/><text class=\"annotation-text\" text-anchor=\"middle\" x=\"5.828125\" y=\"14\" style=\"font-family: 'Open Sans', verdana, arial, sans-serif; font-size: 12px; fill: rgb(255, 255, 255); fill-opacity: 1; white-space: pre;\">0</text></g></g></g><g class=\"annotation\" data-index=\"75\" style=\"opacity: 1;\"><g class=\"annotation-text-g\" transform=\"rotate(0,377,167.5)\"><g class=\"cursor-pointer\" transform=\"translate(371, 159)\"><rect class=\"bg\" x=\"0.5\" y=\"0.5\" width=\"11\" height=\"17\" style=\"stroke-width: 1px; stroke: rgb(0, 0, 0); stroke-opacity: 0; fill: rgb(0, 0, 0); fill-opacity: 0;\"/><text class=\"annotation-text\" text-anchor=\"middle\" x=\"5.828125\" y=\"14\" style=\"font-family: 'Open Sans', verdana, arial, sans-serif; font-size: 12px; fill: rgb(255, 255, 255); fill-opacity: 1; white-space: pre;\">0</text></g></g></g><g class=\"annotation\" data-index=\"76\" style=\"opacity: 1;\"><g class=\"annotation-text-g\" transform=\"rotate(0,431,167.5)\"><g class=\"cursor-pointer\" transform=\"translate(425, 159)\"><rect class=\"bg\" x=\"0.5\" y=\"0.5\" width=\"11\" height=\"17\" style=\"stroke-width: 1px; stroke: rgb(0, 0, 0); stroke-opacity: 0; fill: rgb(0, 0, 0); fill-opacity: 0;\"/><text class=\"annotation-text\" text-anchor=\"middle\" x=\"5.828125\" y=\"14\" style=\"font-family: 'Open Sans', verdana, arial, sans-serif; font-size: 12px; fill: rgb(255, 255, 255); fill-opacity: 1; white-space: pre;\">0</text></g></g></g><g class=\"annotation\" data-index=\"77\" style=\"opacity: 1;\"><g class=\"annotation-text-g\" transform=\"rotate(0,485,167.5)\"><g class=\"cursor-pointer\" transform=\"translate(472, 159)\"><rect class=\"bg\" x=\"0.5\" y=\"0.5\" width=\"26\" height=\"17\" style=\"stroke-width: 1px; stroke: rgb(0, 0, 0); stroke-opacity: 0; fill: rgb(0, 0, 0); fill-opacity: 0;\"/><text class=\"annotation-text\" text-anchor=\"middle\" x=\"13.453125\" y=\"14\" style=\"font-family: 'Open Sans', verdana, arial, sans-serif; font-size: 12px; fill: rgb(0, 0, 0); fill-opacity: 1; white-space: pre;\">995</text></g></g></g><g class=\"annotation\" data-index=\"78\" style=\"opacity: 1;\"><g class=\"annotation-text-g\" transform=\"rotate(0,539,167.5)\"><g class=\"cursor-pointer\" transform=\"translate(533, 159)\"><rect class=\"bg\" x=\"0.5\" y=\"0.5\" width=\"11\" height=\"17\" style=\"stroke-width: 1px; stroke: rgb(0, 0, 0); stroke-opacity: 0; fill: rgb(0, 0, 0); fill-opacity: 0;\"/><text class=\"annotation-text\" text-anchor=\"middle\" x=\"5.828125\" y=\"14\" style=\"font-family: 'Open Sans', verdana, arial, sans-serif; font-size: 12px; fill: rgb(255, 255, 255); fill-opacity: 1; white-space: pre;\">2</text></g></g></g><g class=\"annotation\" data-index=\"79\" style=\"opacity: 1;\"><g class=\"annotation-text-g\" transform=\"rotate(0,593,167.5)\"><g class=\"cursor-pointer\" transform=\"translate(587, 159)\"><rect class=\"bg\" x=\"0.5\" y=\"0.5\" width=\"11\" height=\"17\" style=\"stroke-width: 1px; stroke: rgb(0, 0, 0); stroke-opacity: 0; fill: rgb(0, 0, 0); fill-opacity: 0;\"/><text class=\"annotation-text\" text-anchor=\"middle\" x=\"5.828125\" y=\"14\" style=\"font-family: 'Open Sans', verdana, arial, sans-serif; font-size: 12px; fill: rgb(255, 255, 255); fill-opacity: 1; white-space: pre;\">8</text></g></g></g><g class=\"annotation\" data-index=\"80\" style=\"opacity: 1;\"><g class=\"annotation-text-g\" transform=\"rotate(0,107,140.5)\"><g class=\"cursor-pointer\" transform=\"translate(98, 132)\"><rect class=\"bg\" x=\"0.5\" y=\"0.5\" width=\"18\" height=\"17\" style=\"stroke-width: 1px; stroke: rgb(0, 0, 0); stroke-opacity: 0; fill: rgb(0, 0, 0); fill-opacity: 0;\"/><text class=\"annotation-text\" text-anchor=\"middle\" x=\"9.640625\" y=\"14\" style=\"font-family: 'Open Sans', verdana, arial, sans-serif; font-size: 12px; fill: rgb(255, 255, 255); fill-opacity: 1; white-space: pre;\">10</text></g></g></g><g class=\"annotation\" data-index=\"81\" style=\"opacity: 1;\"><g class=\"annotation-text-g\" transform=\"rotate(0,161,140.5)\"><g class=\"cursor-pointer\" transform=\"translate(155, 132)\"><rect class=\"bg\" x=\"0.5\" y=\"0.5\" width=\"11\" height=\"17\" style=\"stroke-width: 1px; stroke: rgb(0, 0, 0); stroke-opacity: 0; fill: rgb(0, 0, 0); fill-opacity: 0;\"/><text class=\"annotation-text\" text-anchor=\"middle\" x=\"5.828125\" y=\"14\" style=\"font-family: 'Open Sans', verdana, arial, sans-serif; font-size: 12px; fill: rgb(255, 255, 255); fill-opacity: 1; white-space: pre;\">1</text></g></g></g><g class=\"annotation\" data-index=\"82\" style=\"opacity: 1;\"><g class=\"annotation-text-g\" transform=\"rotate(0,215,140.5)\"><g class=\"cursor-pointer\" transform=\"translate(209, 132)\"><rect class=\"bg\" x=\"0.5\" y=\"0.5\" width=\"11\" height=\"17\" style=\"stroke-width: 1px; stroke: rgb(0, 0, 0); stroke-opacity: 0; fill: rgb(0, 0, 0); fill-opacity: 0;\"/><text class=\"annotation-text\" text-anchor=\"middle\" x=\"5.828125\" y=\"14\" style=\"font-family: 'Open Sans', verdana, arial, sans-serif; font-size: 12px; fill: rgb(255, 255, 255); fill-opacity: 1; white-space: pre;\">0</text></g></g></g><g class=\"annotation\" data-index=\"83\" style=\"opacity: 1;\"><g class=\"annotation-text-g\" transform=\"rotate(0,269,140.5)\"><g class=\"cursor-pointer\" transform=\"translate(263, 132)\"><rect class=\"bg\" x=\"0.5\" y=\"0.5\" width=\"11\" height=\"17\" style=\"stroke-width: 1px; stroke: rgb(0, 0, 0); stroke-opacity: 0; fill: rgb(0, 0, 0); fill-opacity: 0;\"/><text class=\"annotation-text\" text-anchor=\"middle\" x=\"5.828125\" y=\"14\" style=\"font-family: 'Open Sans', verdana, arial, sans-serif; font-size: 12px; fill: rgb(255, 255, 255); fill-opacity: 1; white-space: pre;\">1</text></g></g></g><g class=\"annotation\" data-index=\"84\" style=\"opacity: 1;\"><g class=\"annotation-text-g\" transform=\"rotate(0,323,140.5)\"><g class=\"cursor-pointer\" transform=\"translate(317, 132)\"><rect class=\"bg\" x=\"0.5\" y=\"0.5\" width=\"11\" height=\"17\" style=\"stroke-width: 1px; stroke: rgb(0, 0, 0); stroke-opacity: 0; fill: rgb(0, 0, 0); fill-opacity: 0;\"/><text class=\"annotation-text\" text-anchor=\"middle\" x=\"5.828125\" y=\"14\" style=\"font-family: 'Open Sans', verdana, arial, sans-serif; font-size: 12px; fill: rgb(255, 255, 255); fill-opacity: 1; white-space: pre;\">0</text></g></g></g><g class=\"annotation\" data-index=\"85\" style=\"opacity: 1;\"><g class=\"annotation-text-g\" transform=\"rotate(0,377,140.5)\"><g class=\"cursor-pointer\" transform=\"translate(371, 132)\"><rect class=\"bg\" x=\"0.5\" y=\"0.5\" width=\"11\" height=\"17\" style=\"stroke-width: 1px; stroke: rgb(0, 0, 0); stroke-opacity: 0; fill: rgb(0, 0, 0); fill-opacity: 0;\"/><text class=\"annotation-text\" text-anchor=\"middle\" x=\"5.828125\" y=\"14\" style=\"font-family: 'Open Sans', verdana, arial, sans-serif; font-size: 12px; fill: rgb(255, 255, 255); fill-opacity: 1; white-space: pre;\">2</text></g></g></g><g class=\"annotation\" data-index=\"86\" style=\"opacity: 1;\"><g class=\"annotation-text-g\" transform=\"rotate(0,431,140.5)\"><g class=\"cursor-pointer\" transform=\"translate(425, 132)\"><rect class=\"bg\" x=\"0.5\" y=\"0.5\" width=\"11\" height=\"17\" style=\"stroke-width: 1px; stroke: rgb(0, 0, 0); stroke-opacity: 0; fill: rgb(0, 0, 0); fill-opacity: 0;\"/><text class=\"annotation-text\" text-anchor=\"middle\" x=\"5.828125\" y=\"14\" style=\"font-family: 'Open Sans', verdana, arial, sans-serif; font-size: 12px; fill: rgb(255, 255, 255); fill-opacity: 1; white-space: pre;\">2</text></g></g></g><g class=\"annotation\" data-index=\"87\" style=\"opacity: 1;\"><g class=\"annotation-text-g\" transform=\"rotate(0,485,140.5)\"><g class=\"cursor-pointer\" transform=\"translate(479, 132)\"><rect class=\"bg\" x=\"0.5\" y=\"0.5\" width=\"11\" height=\"17\" style=\"stroke-width: 1px; stroke: rgb(0, 0, 0); stroke-opacity: 0; fill: rgb(0, 0, 0); fill-opacity: 0;\"/><text class=\"annotation-text\" text-anchor=\"middle\" x=\"5.828125\" y=\"14\" style=\"font-family: 'Open Sans', verdana, arial, sans-serif; font-size: 12px; fill: rgb(255, 255, 255); fill-opacity: 1; white-space: pre;\">2</text></g></g></g><g class=\"annotation\" data-index=\"88\" style=\"opacity: 1;\"><g class=\"annotation-text-g\" transform=\"rotate(0,539,140.5)\"><g class=\"cursor-pointer\" transform=\"translate(526, 132)\"><rect class=\"bg\" x=\"0.5\" y=\"0.5\" width=\"26\" height=\"17\" style=\"stroke-width: 1px; stroke: rgb(0, 0, 0); stroke-opacity: 0; fill: rgb(0, 0, 0); fill-opacity: 0;\"/><text class=\"annotation-text\" text-anchor=\"middle\" x=\"13.453125\" y=\"14\" style=\"font-family: 'Open Sans', verdana, arial, sans-serif; font-size: 12px; fill: rgb(0, 0, 0); fill-opacity: 1; white-space: pre;\">954</text></g></g></g><g class=\"annotation\" data-index=\"89\" style=\"opacity: 1;\"><g class=\"annotation-text-g\" transform=\"rotate(0,593,140.5)\"><g class=\"cursor-pointer\" transform=\"translate(587, 132)\"><rect class=\"bg\" x=\"0.5\" y=\"0.5\" width=\"11\" height=\"17\" style=\"stroke-width: 1px; stroke: rgb(0, 0, 0); stroke-opacity: 0; fill: rgb(0, 0, 0); fill-opacity: 0;\"/><text class=\"annotation-text\" text-anchor=\"middle\" x=\"5.828125\" y=\"14\" style=\"font-family: 'Open Sans', verdana, arial, sans-serif; font-size: 12px; fill: rgb(255, 255, 255); fill-opacity: 1; white-space: pre;\">2</text></g></g></g><g class=\"annotation\" data-index=\"90\" style=\"opacity: 1;\"><g class=\"annotation-text-g\" transform=\"rotate(0,107,113.5)\"><g class=\"cursor-pointer\" transform=\"translate(101, 105)\"><rect class=\"bg\" x=\"0.5\" y=\"0.5\" width=\"11\" height=\"17\" style=\"stroke-width: 1px; stroke: rgb(0, 0, 0); stroke-opacity: 0; fill: rgb(0, 0, 0); fill-opacity: 0;\"/><text class=\"annotation-text\" text-anchor=\"middle\" x=\"5.828125\" y=\"14\" style=\"font-family: 'Open Sans', verdana, arial, sans-serif; font-size: 12px; fill: rgb(255, 255, 255); fill-opacity: 1; white-space: pre;\">4</text></g></g></g><g class=\"annotation\" data-index=\"91\" style=\"opacity: 1;\"><g class=\"annotation-text-g\" transform=\"rotate(0,161,113.5)\"><g class=\"cursor-pointer\" transform=\"translate(155, 105)\"><rect class=\"bg\" x=\"0.5\" y=\"0.5\" width=\"11\" height=\"17\" style=\"stroke-width: 1px; stroke: rgb(0, 0, 0); stroke-opacity: 0; fill: rgb(0, 0, 0); fill-opacity: 0;\"/><text class=\"annotation-text\" text-anchor=\"middle\" x=\"5.828125\" y=\"14\" style=\"font-family: 'Open Sans', verdana, arial, sans-serif; font-size: 12px; fill: rgb(255, 255, 255); fill-opacity: 1; white-space: pre;\">2</text></g></g></g><g class=\"annotation\" data-index=\"92\" style=\"opacity: 1;\"><g class=\"annotation-text-g\" transform=\"rotate(0,215,113.5)\"><g class=\"cursor-pointer\" transform=\"translate(209, 105)\"><rect class=\"bg\" x=\"0.5\" y=\"0.5\" width=\"11\" height=\"17\" style=\"stroke-width: 1px; stroke: rgb(0, 0, 0); stroke-opacity: 0; fill: rgb(0, 0, 0); fill-opacity: 0;\"/><text class=\"annotation-text\" text-anchor=\"middle\" x=\"5.828125\" y=\"14\" style=\"font-family: 'Open Sans', verdana, arial, sans-serif; font-size: 12px; fill: rgb(255, 255, 255); fill-opacity: 1; white-space: pre;\">1</text></g></g></g><g class=\"annotation\" data-index=\"93\" style=\"opacity: 1;\"><g class=\"annotation-text-g\" transform=\"rotate(0,269,113.5)\"><g class=\"cursor-pointer\" transform=\"translate(263, 105)\"><rect class=\"bg\" x=\"0.5\" y=\"0.5\" width=\"11\" height=\"17\" style=\"stroke-width: 1px; stroke: rgb(0, 0, 0); stroke-opacity: 0; fill: rgb(0, 0, 0); fill-opacity: 0;\"/><text class=\"annotation-text\" text-anchor=\"middle\" x=\"5.828125\" y=\"14\" style=\"font-family: 'Open Sans', verdana, arial, sans-serif; font-size: 12px; fill: rgb(255, 255, 255); fill-opacity: 1; white-space: pre;\">1</text></g></g></g><g class=\"annotation\" data-index=\"94\" style=\"opacity: 1;\"><g class=\"annotation-text-g\" transform=\"rotate(0,323,113.5)\"><g class=\"cursor-pointer\" transform=\"translate(317, 105)\"><rect class=\"bg\" x=\"0.5\" y=\"0.5\" width=\"11\" height=\"17\" style=\"stroke-width: 1px; stroke: rgb(0, 0, 0); stroke-opacity: 0; fill: rgb(0, 0, 0); fill-opacity: 0;\"/><text class=\"annotation-text\" text-anchor=\"middle\" x=\"5.828125\" y=\"14\" style=\"font-family: 'Open Sans', verdana, arial, sans-serif; font-size: 12px; fill: rgb(255, 255, 255); fill-opacity: 1; white-space: pre;\">3</text></g></g></g><g class=\"annotation\" data-index=\"95\" style=\"opacity: 1;\"><g class=\"annotation-text-g\" transform=\"rotate(0,377,113.5)\"><g class=\"cursor-pointer\" transform=\"translate(371, 105)\"><rect class=\"bg\" x=\"0.5\" y=\"0.5\" width=\"11\" height=\"17\" style=\"stroke-width: 1px; stroke: rgb(0, 0, 0); stroke-opacity: 0; fill: rgb(0, 0, 0); fill-opacity: 0;\"/><text class=\"annotation-text\" text-anchor=\"middle\" x=\"5.828125\" y=\"14\" style=\"font-family: 'Open Sans', verdana, arial, sans-serif; font-size: 12px; fill: rgb(255, 255, 255); fill-opacity: 1; white-space: pre;\">3</text></g></g></g><g class=\"annotation\" data-index=\"96\" style=\"opacity: 1;\"><g class=\"annotation-text-g\" transform=\"rotate(0,431,113.5)\"><g class=\"cursor-pointer\" transform=\"translate(425, 105)\"><rect class=\"bg\" x=\"0.5\" y=\"0.5\" width=\"11\" height=\"17\" style=\"stroke-width: 1px; stroke: rgb(0, 0, 0); stroke-opacity: 0; fill: rgb(0, 0, 0); fill-opacity: 0;\"/><text class=\"annotation-text\" text-anchor=\"middle\" x=\"5.828125\" y=\"14\" style=\"font-family: 'Open Sans', verdana, arial, sans-serif; font-size: 12px; fill: rgb(255, 255, 255); fill-opacity: 1; white-space: pre;\">0</text></g></g></g><g class=\"annotation\" data-index=\"97\" style=\"opacity: 1;\"><g class=\"annotation-text-g\" transform=\"rotate(0,485,113.5)\"><g class=\"cursor-pointer\" transform=\"translate(479, 105)\"><rect class=\"bg\" x=\"0.5\" y=\"0.5\" width=\"11\" height=\"17\" style=\"stroke-width: 1px; stroke: rgb(0, 0, 0); stroke-opacity: 0; fill: rgb(0, 0, 0); fill-opacity: 0;\"/><text class=\"annotation-text\" text-anchor=\"middle\" x=\"5.828125\" y=\"14\" style=\"font-family: 'Open Sans', verdana, arial, sans-serif; font-size: 12px; fill: rgb(255, 255, 255); fill-opacity: 1; white-space: pre;\">0</text></g></g></g><g class=\"annotation\" data-index=\"98\" style=\"opacity: 1;\"><g class=\"annotation-text-g\" transform=\"rotate(0,539,113.5)\"><g class=\"cursor-pointer\" transform=\"translate(533, 105)\"><rect class=\"bg\" x=\"0.5\" y=\"0.5\" width=\"11\" height=\"17\" style=\"stroke-width: 1px; stroke: rgb(0, 0, 0); stroke-opacity: 0; fill: rgb(0, 0, 0); fill-opacity: 0;\"/><text class=\"annotation-text\" text-anchor=\"middle\" x=\"5.828125\" y=\"14\" style=\"font-family: 'Open Sans', verdana, arial, sans-serif; font-size: 12px; fill: rgb(255, 255, 255); fill-opacity: 1; white-space: pre;\">3</text></g></g></g><g class=\"annotation\" data-index=\"99\" style=\"opacity: 1;\"><g class=\"annotation-text-g\" transform=\"rotate(0,593,113.5)\"><g class=\"cursor-pointer\" transform=\"translate(580, 105)\"><rect class=\"bg\" x=\"0.5\" y=\"0.5\" width=\"26\" height=\"17\" style=\"stroke-width: 1px; stroke: rgb(0, 0, 0); stroke-opacity: 0; fill: rgb(0, 0, 0); fill-opacity: 0;\"/><text class=\"annotation-text\" text-anchor=\"middle\" x=\"13.453125\" y=\"14\" style=\"font-family: 'Open Sans', verdana, arial, sans-serif; font-size: 12px; fill: rgb(0, 0, 0); fill-opacity: 1; white-space: pre;\">992</text></g></g></g></g></svg>"
      ]
     },
     "metadata": {},
     "output_type": "display_data"
    }
   ],
   "source": [
    "import plotly.figure_factory as ff\n",
    "fig = ff.create_annotated_heatmap(confusion_matrix(y_test,predictions),x=[0,1,2,3,4,5,6,7,8,9],y=[0,1,2,3,4,5,6,7,8,9])\n",
    "fig.show(\"svg\")          "
   ]
  },
  {
   "cell_type": "code",
   "execution_count": 36,
   "metadata": {},
   "outputs": [],
   "source": [
    "my_number = X_test[6]"
   ]
  },
  {
   "cell_type": "code",
   "execution_count": 37,
   "metadata": {},
   "outputs": [
    {
     "data": {
      "text/plain": [
       "<matplotlib.image.AxesImage at 0x22054efa288>"
      ]
     },
     "execution_count": 37,
     "metadata": {},
     "output_type": "execute_result"
    },
    {
     "data": {
      "image/png": "[encoded data removed]",
      "text/plain": [
       "<Figure size 432x288 with 1 Axes>"
      ]
     },
     "metadata": {
      "needs_background": "light"
     },
     "output_type": "display_data"
    }
   ],
   "source": [
    "plt.imshow(my_number.reshape(28,28),cmap='gray')"
   ]
  },
  {
   "cell_type": "code",
   "execution_count": 38,
   "metadata": {},
   "outputs": [],
   "source": [
    "#num_images,width,height,color_channels\n",
    "pred=model.predict_classes(my_number.reshape(1,28,28,1))"
   ]
  },
  {
   "cell_type": "code",
   "execution_count": 39,
   "metadata": {},
   "outputs": [
    {
     "data": {
      "text/plain": [
       "array([4], dtype=int64)"
      ]
     },
     "execution_count": 39,
     "metadata": {},
     "output_type": "execute_result"
    }
   ],
   "source": [
    "pred"
   ]
  },
  {
   "cell_type": "markdown",
   "metadata": {},
   "source": [
    "### Let's Create a Simple GUI"
   ]
  },
  {
   "cell_type": "code",
   "execution_count": 41,
   "metadata": {},
   "outputs": [],
   "source": [
    "import gradio as gr"
   ]
  },
  {
   "cell_type": "code",
   "execution_count": 44,
   "metadata": {},
   "outputs": [],
   "source": [
    "def recognize_digit(inp):\n",
    "    prediction = model.predict(inp.reshape(1, 28, 28, 1)).tolist()[0]\n",
    "    return {str(i): prediction[i] for i in range(10)}\n",
    "\n",
    "sketchpad = gr.inputs.Sketchpad()\n",
    "label = gr.outputs.Label(num_top_classes=3)\n",
    "\n",
    "interface = gr.Interface(fn=recognize_digit, inputs=sketchpad,outputs=label, live=False,capture_session=True)"
   ]
  },
  {
   "cell_type": "code",
   "execution_count": 45,
   "metadata": {},
   "outputs": [
    {
     "name": "stdout",
     "output_type": "stream",
     "text": [
      "Running locally at: http://127.0.0.1:7861/\n"
     ]
    },
    {
     "data": {
      "text/html": [
       "\n",
       "        <iframe\n",
       "            width=\"1000\"\n",
       "            height=\"500\"\n",
       "            src=\"http://127.0.0.1:7861/\"\n",
       "            frameborder=\"0\"\n",
       "            allowfullscreen\n",
       "        ></iframe>\n",
       "        "
      ],
      "text/plain": [
       "<IPython.lib.display.IFrame at 0x22055171148>"
      ]
     },
     "metadata": {},
     "output_type": "display_data"
    },
    {
     "data": {
      "text/plain": [
       "(<gradio.networking.serve_files_in_background.<locals>.HTTPServer at 0x22055267688>,\n",
       " 'http://127.0.0.1:7861/',\n",
       " None)"
      ]
     },
     "execution_count": 45,
     "metadata": {},
     "output_type": "execute_result"
    }
   ],
   "source": [
    "interface.launch()"
   ]
  },
  {
   "cell_type": "code",
   "execution_count": null,
   "metadata": {},
   "outputs": [],
   "source": []
  },
  {
   "cell_type": "code",
   "execution_count": null,
   "metadata": {},
   "outputs": [],
   "source": []
  }
 ],
 "metadata": {
  "kernelspec": {
   "display_name": "Python 3",
   "language": "python",
   "name": "python3"
  },
  "language_info": {
   "codemirror_mode": {
    "name": "ipython",
    "version": 3
   },
   "file_extension": ".py",
   "mimetype": "text/x-python",
   "name": "python",
   "nbconvert_exporter": "python",
   "pygments_lexer": "ipython3",
   "version": "3.7.4"
  }
 },
 "nbformat": 4,
 "nbformat_minor": 2
}
